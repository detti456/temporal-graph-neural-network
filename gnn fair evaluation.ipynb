{
 "cells": [
  {
   "cell_type": "code",
   "execution_count": 1,
   "metadata": {},
   "outputs": [],
   "source": [
    "import glob\n",
    "import random\n",
    "from typing import Callable, Optional, List\n",
    "\n",
    "import numpy as np\n",
    "import pandas as pd\n",
    "from sklearn.metrics import confusion_matrix\n",
    "from pandas import DataFrame\n",
    "from matplotlib import pyplot as plt\n",
    "from scipy.spatial import distance as distance_calculator\n",
    "import torch\n",
    "from torch import Tensor\n",
    "from torch_geometric import nn\n",
    "from torch_geometric.loader import DataLoader\n",
    "from torch_geometric.data import Data\n",
    "import torch.nn.functional as F\n",
    "from torch_geometric.utils import scatter\n",
    "import seaborn as sn\n",
    "from torch.nn import Sequential as Seq, Linear as Lin, Dropout, ReLU, BatchNorm1d as BN\n",
    "from torch_geometric.nn.conv import MessagePassing\n",
    "from torch_multi_head_attention import MultiHeadAttention\n",
    "import time"
   ]
  },
  {
   "cell_type": "markdown",
   "metadata": {},
   "source": [
    "#### Loading the data\n",
    "In each files, the frame numbers are shifted to come after the largest frame number in the previous file. This way all frame numbers are unique.\n",
    "\n",
    "The dataset contains frames of 1 to 5 people.\n"
   ]
  },
  {
   "cell_type": "code",
   "execution_count": 2,
   "metadata": {},
   "outputs": [
    {
     "name": "stdout",
     "output_type": "stream",
     "text": [
      "Number of data points: 1242039\n",
      "Largest frame number: 86242321.0\n",
      "Total number of frames: 22126\n"
     ]
    }
   ],
   "source": [
    "random.seed(42)\n",
    "column_names=['range','azimuth','doppler','snr','y','x','current_frame','seq']\n",
    "\n",
    "features1: DataFrame = pd.concat(\n",
    "    [pd.read_csv(filename, names=column_names, header=None, dtype=float) for filename in glob.glob(\"data/1/1/*.csv\")])\n",
    "features1.insert(8, \"Label\", np.zeros(len(features1), dtype=int), True)\n",
    "max_frame = max(features1[\"current_frame\"])\n",
    "\n",
    "features2: DataFrame = pd.concat(\n",
    "    [pd.read_csv(filename, names=column_names, header=None, dtype=float) for filename in glob.glob(\"data/2/2/*.csv\")])\n",
    "features2.insert(8, \"Label\", np.full(len(features2), 1, dtype=int), True)\n",
    "min_frame = min(features2[\"current_frame\"])\n",
    "shift = max_frame-min_frame+10\n",
    "features2[\"current_frame\"] += shift\n",
    "max_frame = max(features2[\"current_frame\"])\n",
    "\n",
    "features3: DataFrame = pd.concat(\n",
    "    [pd.read_csv(filename, names=column_names, header=None, dtype=float) for filename in glob.glob(\"data/3/3/*.csv\")])\n",
    "features3.insert(8, \"Label\", np.full(len(features3), 2, dtype=int), True)\n",
    "min_frame = min(features3[\"current_frame\"])\n",
    "shift = max_frame-min_frame+10\n",
    "features3[\"current_frame\"] += shift\n",
    "max_frame = max(features3[\"current_frame\"])\n",
    "\n",
    "features4: DataFrame = pd.concat(\n",
    "    [pd.read_csv(filename, names=column_names, header=None, dtype=float) for filename in glob.glob(\"data/4/4/*.csv\")])\n",
    "features4.insert(8, \"Label\", np.full(len(features4), 3, dtype=int), True)\n",
    "min_frame = min(features4[\"current_frame\"])\n",
    "shift = max_frame-min_frame+10\n",
    "features4[\"current_frame\"] += shift\n",
    "max_frame = max(features4[\"current_frame\"])\n",
    "\n",
    "features5: DataFrame = pd.concat(\n",
    "    [pd.read_csv(filename, names=column_names, header=None, dtype=float) for filename in glob.glob(\"data/bigger/bigger/*.csv\")])\n",
    "features5.insert(8, \"Label\", np.full(len(features5), 4, dtype=int), True)\n",
    "min_frame = min(features5[\"current_frame\"])\n",
    "shift = max_frame-min_frame+10\n",
    "features5[\"current_frame\"] += shift\n",
    "max_frame = max(features5[\"current_frame\"])\n",
    "\n",
    "all_data = pd.concat([features1, features2, features3, features4, features5])\n",
    "all_data.drop_duplicates(subset=['range','azimuth','doppler','snr','y','x','current_frame','Label'], inplace=True, ignore_index=True)\n",
    "print(\"Number of data points: \"+str(len(all_data)))\n",
    "\n",
    "# group the data by frame numbers\n",
    "all_data_grouped = all_data.groupby(\"current_frame\")\n",
    "print(\"Largest frame number: \"+str(max_frame))\n",
    "print(\"Total number of frames: \"+str(len(all_data_grouped)))"
   ]
  },
  {
   "cell_type": "code",
   "execution_count": 3,
   "metadata": {},
   "outputs": [],
   "source": [
    "def split_with_chunks(data_array, labels, num_chunks, val_frac, test_frac):\n",
    "    train_frac = 1 - val_frac - test_frac\n",
    "    train = []\n",
    "    test = []\n",
    "    val =[]\n",
    "    label_values = np.array([data.iloc[0,5] for data in data_array])\n",
    "\n",
    "    for label in labels:\n",
    "        itemindex = np.where(label_values == label)\n",
    "        frames = [data_array[i] for i in itemindex[0]]\n",
    "        chunk_size = int(len(frames) / num_chunks)\n",
    "        chunk_indexes = [i*chunk_size for i in range(num_chunks)]\n",
    "        chunk_indexes.append(len(frames))\n",
    "        for chunk in range(num_chunks):\n",
    "            data_chunk = frames[chunk_indexes[chunk] : chunk_indexes[chunk+1]]\n",
    "            train.extend(data_chunk[:int(train_frac * len(data_chunk))])\n",
    "            val.extend(data_chunk[int(train_frac * len(data_chunk)):int((train_frac + val_frac) * len(data_chunk))])\n",
    "            test.extend(data_chunk[int((train_frac + val_frac) * len(data_chunk)):])\n",
    "\n",
    "    return train, val, test\n",
    "\n"
   ]
  },
  {
   "cell_type": "markdown",
   "metadata": {},
   "source": [
    "#### Generate graphs"
   ]
  },
  {
   "cell_type": "code",
   "execution_count": 4,
   "metadata": {},
   "outputs": [],
   "source": [
    "def min_max_normalization(frames:List[DataFrame],selected_cols):\n",
    "    min_max = [(data[selected_cols].min(), data[selected_cols].max()) for data in frames]\n",
    "    min_dict = min_max[0][0]\n",
    "    max_dict = min_max[0][1]\n",
    "    for mm in min_max[1:]:\n",
    "        for key, value in mm[0].items():\n",
    "            min_dict[key] = min(min_dict[key], value)\n",
    "        for key, value in mm[1].items():\n",
    "            max_dict[key] = max(max_dict[key], value)\n",
    "\n",
    "    normalized_frames = [(frames[i][selected_cols]-min_dict)/(max_dict-min_dict) for i in range(len(frames))]\n",
    "    normalized_frames = [pd.concat([normalized_frames[i], frame[['current_frame','Label']]], axis=1) for i, frame in enumerate(frames)]\n",
    "    return normalized_frames\n",
    "\n",
    "def connect_frames(current_frame, previous_frame, k: int, start_index: int):\n",
    "    \"\"\"\n",
    "    Calculates the edges between two frames. \n",
    "    \n",
    "    :param current_frame: The current frame containing parameters to calculate the distance based on \n",
    "    :param previous_frame: The previous frame containing parameters to calculate the distance based on \n",
    "    :param k: The number of nearest neighbours to have in the graph\n",
    "    :param start_index: The index to start labeling the nodes from\n",
    "    :return: The values (distance between points) of the edges and an adjacency list containing the nodes that are connected in the graph. \n",
    "            It also returns a boolean indicating whether the creation was successful or not.\n",
    "    \"\"\"\n",
    "    edges = []\n",
    "    adjacency_list = []\n",
    "    previous_nodes = np.arange(len(previous_frame))\n",
    "    for i, point in enumerate(current_frame):\n",
    "        distances = distance_calculator.cdist([point], previous_frame, 'euclidean')[0]\n",
    "        idx = distances.argsort()[::-1]\n",
    "        distances = distances[idx]\n",
    "        previous_nodes = previous_nodes[idx]\n",
    "        if len(distances) < k:\n",
    "            return [], [], False\n",
    "        for j in range(k):\n",
    "            edges.append(distances[j])\n",
    "            adjacency_list.append((i+start_index, previous_nodes[j]+start_index+len(current_frame)))\n",
    "    return edges, adjacency_list, True\n",
    "\n",
    "def create_graph_list_with_overlap(frames:List[DataFrame], selected_cols, k = 3, frame_depth = 2):\n",
    "    \"\"\"\n",
    "    Creates a list of Data objects that represents the graphs build from the input data. \n",
    "    The edges in the graph connects the frames to the previous frame by connecting each \n",
    "    points in a frame to it's nearest neighbour in the previous frame. \n",
    "    The nodes contain information about: doppler, snr, y and x. \n",
    "    The edges store information about the distance between the points (closer points have higher value).\n",
    "    \n",
    "    :param frames: input data grouped and sorted by the frame number\n",
    "    :param k: the number of nearest neighbours to connect each points to\n",
    "    :param frame_depth: the number of frames, one graph should contain\n",
    "    :return: a list of Data objects, containing information about the created graphs\n",
    "    \"\"\"\n",
    "    graphs = []\n",
    "    for i, frame in enumerate(frames[frame_depth:]):\n",
    "        nodes = []\n",
    "        edges = []\n",
    "        adjacency_list = []\n",
    "        relevant_frames = frames[i: i + frame_depth + 1]\n",
    "        point_data = [rf[selected_cols] for rf in relevant_frames]\n",
    "        time_distance = relevant_frames[-1].iloc[0, 4] - relevant_frames[0].iloc[0, 4]\n",
    "        if time_distance > frame_depth * 3 or relevant_frames[-1].iloc[0, 5] != relevant_frames[0].iloc[0, 5]:\n",
    "            continue\n",
    "        point_data_array = [df.to_numpy() for df in point_data]\n",
    "        start_index = 0\n",
    "        for depth in range(frame_depth):\n",
    "            pairwise_edges, pairwise_adjacency_list, success = \\\n",
    "                connect_frames(point_data_array[frame_depth-depth][:,2:], point_data_array[frame_depth-depth-1][:,2:], k, start_index)\n",
    "            if not success:\n",
    "                break\n",
    "            start_index += len(relevant_frames[frame_depth-depth])\n",
    "            edges.extend(pairwise_edges)\n",
    "            adjacency_list.extend(pairwise_adjacency_list)\n",
    "            nodes.extend(point_data_array[frame_depth-depth])\n",
    "        if not success:\n",
    "                continue\n",
    "        nodes.extend(point_data_array[0])\n",
    "        label = frame[\"Label\"].values[0]\n",
    "        \n",
    "        graphs.append(Data(x=torch.tensor(np.array(nodes), dtype=torch.float, device=device), \n",
    "                    edge_index=torch.tensor(np.array(adjacency_list), dtype=torch.int64, device=device).t().contiguous(),\n",
    "                    edge_attr=torch.tensor(np.array(edges), dtype=torch.float, device=device),\n",
    "                    y=torch.tensor(label, dtype=torch.int64, device=device)))\n",
    "    return graphs"
   ]
  },
  {
   "cell_type": "code",
   "execution_count": 5,
   "metadata": {},
   "outputs": [],
   "source": [
    "def load_graphs(train, val, test, frame_depths, ks, selected_cols):\n",
    "    graph_sets = []\n",
    "    for i, data_set in enumerate([train, val, test]):\n",
    "        generated_graphs = []\n",
    "        for f in frame_depths:\n",
    "            for k in ks:\n",
    "                try:\n",
    "                    graphs = torch.load(f\"data/frame_graphs_k{k}_frame_depth{f}_normalized_extended_chunk{num_chunks}_type{i}.pt\")\n",
    "                    print(\"File read\")\n",
    "                except Exception as e:\n",
    "                    graphs = create_graph_list_with_overlap(data_set, selected_cols, k=k, frame_depth=f)\n",
    "                    torch.save(graphs, f\"data/frame_graphs_k{k}_frame_depth{f}_normalized_extended_chunk{num_chunks}_type{i}.pt\")\n",
    "                \n",
    "                print(f\"Number of graphs generated with k = {k} and frame depth = {f} for type {i}: {len(graphs)}\")\n",
    "                generated_graphs.append(graphs)\n",
    "        graph_sets.append(generated_graphs)\n",
    "    \n",
    "    return graph_sets[0], graph_sets[1], graph_sets[2]"
   ]
  },
  {
   "cell_type": "markdown",
   "metadata": {},
   "source": [
    "#### Hyperparameters"
   ]
  },
  {
   "cell_type": "code",
   "execution_count": 6,
   "metadata": {},
   "outputs": [],
   "source": [
    "device = torch.device('cuda' if torch.cuda.is_available() else 'cpu')\n",
    "selected_cols = ['doppler','snr','y','x']\n",
    "SHAPE_NAMES = [0,1,2,3,4]\n",
    "frame_depths = [7] \n",
    "ks = [4]\n",
    "num_chunks = 16\n",
    "lr = 0.001"
   ]
  },
  {
   "cell_type": "markdown",
   "metadata": {},
   "source": [
    "#### Loading or generating the graphs if not saved yet"
   ]
  },
  {
   "cell_type": "code",
   "execution_count": 7,
   "metadata": {},
   "outputs": [],
   "source": [
    "data_array = np.asarray([frame for (_, frame) in all_data_grouped], dtype=\"object\")\n",
    "sorted_data = sorted(data_array,key=lambda x:x[\"current_frame\"].max(axis=0))\n",
    "norm_frames = min_max_normalization(sorted_data, selected_cols)"
   ]
  },
  {
   "cell_type": "code",
   "execution_count": 8,
   "metadata": {},
   "outputs": [
    {
     "name": "stdout",
     "output_type": "stream",
     "text": [
      "Number of graphs generated with k = 4 and frame depth = 7 for type 0: 7962\n",
      "Number of graphs generated with k = 4 and frame depth = 7 for type 1: 1556\n",
      "Number of graphs generated with k = 4 and frame depth = 7 for type 2: 1521\n"
     ]
    }
   ],
   "source": [
    "train, val, test = split_with_chunks(norm_frames, SHAPE_NAMES, num_chunks, 0.15, 0.15)\n",
    "train_graps, val_graphs, test_graphs = load_graphs(train, val, test, frame_depths, ks, selected_cols)\n",
    "\n",
    "train_dataloaders = []\n",
    "test_dataloaders = []\n",
    "val_dataloaders = []\n",
    "\n",
    "for i in range(len(train_graps)):\n",
    "    train_dataloaders.append(DataLoader(train_graps[i], batch_size=32, shuffle=True, num_workers = 0))\n",
    "    test_dataloaders.append(DataLoader(test_graphs[i], batch_size=32, shuffle=True, num_workers = 0))\n",
    "    val_dataloaders.append(DataLoader(val_graphs[i], batch_size=32, shuffle=True, num_workers = 0))\n"
   ]
  },
  {
   "cell_type": "markdown",
   "metadata": {},
   "source": [
    "#### Split the dataset"
   ]
  },
  {
   "cell_type": "markdown",
   "metadata": {},
   "source": [
    "#### Graph Neural Network"
   ]
  },
  {
   "cell_type": "code",
   "execution_count": 9,
   "metadata": {},
   "outputs": [],
   "source": [
    "def MLP(channels):\n",
    "    return Seq(*[\n",
    "        Seq(Lin(channels[i - 1], channels[i]), ReLU(), BN(channels[i]))\n",
    "        for i in range(1, len(channels))\n",
    "    ])\n",
    "\n",
    "def reset(nn):\n",
    "    def _reset(item):\n",
    "        if hasattr(item, 'reset_parameters'):\n",
    "            item.reset_parameters()\n",
    "\n",
    "    if nn is not None:\n",
    "        if hasattr(nn, 'children') and len(list(nn.children())) > 0:\n",
    "            for item in nn.children():\n",
    "                _reset(item)\n",
    "        else:\n",
    "            _reset(nn)\n",
    "            \n",
    "class GeneralizedTemporalSelfAttentionDynamicEdgeConv(MessagePassing):\n",
    "    def __init__(self, nn: Callable, \n",
    "                 attention_in_features: int,\n",
    "                 k: int,\n",
    "                 aggr: str = 'mean',\n",
    "                 **kwargs):\n",
    "        \n",
    "        super(GeneralizedTemporalSelfAttentionDynamicEdgeConv,\n",
    "              self).__init__(aggr=aggr, flow='source_to_target', **kwargs)\n",
    "\n",
    "        self.nn = nn\n",
    "        self.multihead_attn = MultiHeadAttention(attention_in_features, 8)\n",
    "        self.k = k\n",
    "        self.reset_parameters()\n",
    "\n",
    "    def reset_parameters(self):\n",
    "        reset(self.multihead_attn)\n",
    "        reset(self.nn)\n",
    "\n",
    "    def forward(self, x, data) -> Tensor:\n",
    "        return self.propagate(data.edge_index, x=x, edge_attr=data.edge_attr, size=None, batch=data.batch)\n",
    "\n",
    "    def message(self, x_i: Tensor, x_j: Tensor, edge_attr) -> Tensor:\n",
    "        msg = torch.cat([x_j, x_i - x_j, torch.reshape(edge_attr, (len(edge_attr),1))], dim=-1)\n",
    "        return self.nn(msg)\n",
    "\n",
    "    def aggregate(self, inputs: Tensor, index: Tensor,\n",
    "                  dim_size: Optional[int] = None) -> Tensor:\n",
    "        original_shape = inputs.shape\n",
    "        attention_input_shape = list([int(original_shape[0] / self.k)]) + list(original_shape)\n",
    "        attention_input_shape[1] = self.k\n",
    "        self_attention_input = inputs.reshape(attention_input_shape)\n",
    "        attn_output = self.multihead_attn(self_attention_input, self_attention_input, self_attention_input)\n",
    "        attn_output = attn_output.reshape(original_shape)\n",
    "        # Apply attention mechanism\n",
    "        return scatter(attn_output, index, dim=self.node_dim, dim_size=dim_size,\n",
    "                       reduce=self.aggr)\n"
   ]
  },
  {
   "cell_type": "code",
   "execution_count": 10,
   "metadata": {},
   "outputs": [],
   "source": [
    "class Net(torch.nn.Module):\n",
    "    def __init__(self, out_channels, graph_convolution_layers=2, k=3, aggr='mean'):\n",
    "        super().__init__()\n",
    "        self.graph_convolution_layers = graph_convolution_layers\n",
    "\n",
    "        self.conv1 = GeneralizedTemporalSelfAttentionDynamicEdgeConv(nn=MLP([2*4 + 1 , 64, 64, 64]),\n",
    "                                                                     attention_in_features=64, \n",
    "                                                                     k=k, \n",
    "                                                                     aggr=aggr)\n",
    "        \n",
    "        self.conv2 = GeneralizedTemporalSelfAttentionDynamicEdgeConv(nn=MLP([2 * 64 + 1, 128]),\n",
    "                                                                     attention_in_features=128,\n",
    "                                                                     k=k, \n",
    "                                                                     aggr=aggr)\n",
    "\n",
    "        if graph_convolution_layers == 1:\n",
    "            self.lin1 = MLP([64, 1024])\n",
    "        elif graph_convolution_layers == 2:\n",
    "            self.lin1 = MLP([128 + 64, 1024])\n",
    "\n",
    "        self.mlp = Seq(\n",
    "            MLP([1024, 512]), Dropout(0.5), MLP([512, 256]), Dropout(0.5),\n",
    "            Lin(256, out_channels))\n",
    "\n",
    "    def forward(self, data):\n",
    "        if self.graph_convolution_layers == 1:\n",
    "            x1 = self.conv1(data.x, data)\n",
    "            out = self.lin1(x1)\n",
    "        elif self.graph_convolution_layers == 2:\n",
    "            x1 = self.conv1(data.x, data)\n",
    "            x2 = self.conv2(x1, data)\n",
    "            out = self.lin1(torch.cat([x1, x2], dim=1))\n",
    "        \n",
    "        out = scatter(src=out, index=data.batch, dim=0, reduce='mean')\n",
    "        out = self.mlp(out)\n",
    "        return F.log_softmax(out, dim=1)"
   ]
  },
  {
   "cell_type": "code",
   "execution_count": 11,
   "metadata": {},
   "outputs": [
    {
     "name": "stdout",
     "output_type": "stream",
     "text": [
      "trained: 0\n"
     ]
    },
    {
     "data": {
      "image/png": "[encoded data removed]",
      "text/plain": [
       "<Figure size 640x480 with 1 Axes>"
      ]
     },
     "metadata": {},
     "output_type": "display_data"
    },
    {
     "name": "stdout",
     "output_type": "stream",
     "text": [
      "Training accuracy: 0.9301004772670184\n",
      "Training loss: 0.0075155487\n",
      "Accuracy of the model with k = 4 and frame depth = 7: 0.7712\n",
      "--- 1262.7642962932587 seconds ---\n",
      "evaluated: 0\n"
     ]
    }
   ],
   "source": [
    "model_losses = []\n",
    "model_accuracies = []\n",
    "models = []\n",
    "val_accuracies = []\n",
    "for i, train_dataloader in enumerate(train_dataloaders):\n",
    "    start_time = time.time()\n",
    "    k = ks[i % len(ks)]\n",
    "    model = Net(5, graph_convolution_layers=1, k=k).to(device)\n",
    "    optimizer = torch.optim.Adam(model.parameters(), lr=lr, weight_decay=5e-4)\n",
    "    scheduler = torch.optim.lr_scheduler.StepLR(optimizer, step_size=20, gamma=0.5)\n",
    "\n",
    "    model.train()\n",
    "    losses = []\n",
    "    correct = 0\n",
    "    count = 0\n",
    "    accuracies = []\n",
    "    for epoch in range(100):\n",
    "        for train_batch in train_dataloader:\n",
    "            train_batch = train_batch.to(device)\n",
    "            optimizer.zero_grad()\n",
    "            out = model(train_batch)\n",
    "            pred = out.argmax(dim=1)\n",
    "            correct += (pred == train_batch.y).sum()\n",
    "            loss = F.nll_loss(out, train_batch.y)\n",
    "            losses.append(loss.detach())\n",
    "            loss.backward()\n",
    "            optimizer.step()\n",
    "            count += len(train_batch)\n",
    "            acc = int(correct) / count\n",
    "            accuracies.append(acc)\n",
    "        scheduler.step()\n",
    "    \n",
    "    models.append(model)\n",
    "    torch.save(model, f\"data/trained_model_k{k}_frame_depth{frame_depths[int(i/len(ks))]}_normalized_extended_chunk{num_chunks}.pt\")\n",
    "    losses = [tensor.cpu().numpy() for tensor in losses]\n",
    "    model_losses.append(losses)\n",
    "    model_accuracies.append(accuracies)\n",
    "    data = {'Loss': losses,\n",
    "            'Accuracy': accuracies}\n",
    "    df = pd.DataFrame(data)\n",
    "    df.to_csv(f\"data/training_loss_k{k}_frame_depth{frame_depths[int(i/len(ks))]}_normalized_extended_chunk{num_chunks}.csv\", index=True)\n",
    "    print(f\"trained: {i}\")\n",
    "\n",
    "    plt.plot(losses, c=\"blue\", label = \"loss\")\n",
    "    plt.plot(accuracies, c=\"red\", label = \"accuracy\")\n",
    "    plt.title(f\"Loss of the model with k = {ks[i % len(ks)]} and frame depth = {frame_depths[int(i/len(ks))]}\")\n",
    "    plt.ylabel(\"Loss\")\n",
    "    plt.xlabel(\"Iteration\")\n",
    "    plt.show()\n",
    "\n",
    "    print(\"Training accuracy: \"+str(accuracies[-1]))\n",
    "    print(\"Training loss: \"+str(losses[-1]))\n",
    "    \n",
    "    model.eval()\n",
    "    total_y_pred_label = []\n",
    "    total_y_true_label = []\n",
    "    correct = 0\n",
    "    for val_batch in val_dataloaders[i]:\n",
    "        val_batch = val_batch.to(device)\n",
    "        pred = model(val_batch).argmax(dim=1)\n",
    "        \n",
    "        total_y_pred_label.extend(pred)\n",
    "        total_y_true_label.extend(val_batch.y)\n",
    "        correct += (pred == val_batch.y).sum()\n",
    "    acc = int(correct) / len(val_graphs[i])\n",
    "    val_accuracies.append(acc)\n",
    "    print(f'Accuracy of the model with k = {ks[i % len(ks)]} and frame depth = {frame_depths[int(i/len(ks))]}: {acc:.4f}')\n",
    "    print(\"--- %s seconds ---\" % (time.time() - start_time))\n",
    "    print(f\"evaluated: {i}\")"
   ]
  },
  {
   "cell_type": "code",
   "execution_count": 12,
   "metadata": {},
   "outputs": [
    {
     "name": "stdout",
     "output_type": "stream",
     "text": [
      "Accuracy of the model with k = 4 and frame depth = 7: 0.7916\n"
     ]
    }
   ],
   "source": [
    "model.eval()\n",
    "total_y_pred_label = []\n",
    "total_y_true_label = []\n",
    "correct = 0\n",
    "for val_batch in test_dataloaders[i]:\n",
    "    val_batch = val_batch.to(device)\n",
    "    pred = model(val_batch).argmax(dim=1)\n",
    "    \n",
    "    total_y_pred_label.extend(pred)\n",
    "    total_y_true_label.extend(val_batch.y)\n",
    "    correct += (pred == val_batch.y).sum()\n",
    "acc = int(correct) / len(test_graphs[i])\n",
    "val_accuracies.append(acc)\n",
    "print(f'Accuracy of the model with k = {ks[i % len(ks)]} and frame depth = {frame_depths[int(i/len(ks))]}: {acc:.4f}')"
   ]
  },
  {
   "cell_type": "code",
   "execution_count": 8,
   "metadata": {},
   "outputs": [],
   "source": [
    "torch.cuda.empty_cache()"
   ]
  },
  {
   "cell_type": "code",
   "execution_count": 11,
   "metadata": {},
   "outputs": [
    {
     "data": {
      "image/png": "[encoded data removed]",
      "text/plain": [
       "<Figure size 640x480 with 1 Axes>"
      ]
     },
     "metadata": {},
     "output_type": "display_data"
    }
   ],
   "source": [
    "accuracies = np.array([0.7717, 0.7614, 0.7714,0.8361,0.8783,0.8817,0.8771,0.8864, 0.8963, 0.8666,0.8693,0.8714,0.8871,0.8401,0.7969])\n",
    "\n",
    "frame_depths = [2,4,5,6,8]\n",
    "ks =[3,5,8]\n",
    "plt.plot(frame_depths, accuracies[[i*len(ks) for i in range(len(frame_depths))]], label = \"k = 3\", marker=\"8\") \n",
    "plt.plot(frame_depths, accuracies[[i*len(ks)+1 for i in range(len(frame_depths))]], label = \"k = 5\", marker=\"8\") \n",
    "plt.plot(frame_depths, accuracies[[i*len(ks)+2 for i in range(len(frame_depths))]], label = \"k = 8\", marker=\"8\") \n",
    "plt.plot(5, 0.9173, label = \"k = 32\", marker=\"8\") \n",
    "plt.xlabel(\"Frame depth\")\n",
    "plt.ylabel(\"Accuracy\")\n",
    "plt.legend() \n",
    "plt.show()"
   ]
  },
  {
   "cell_type": "code",
   "execution_count": null,
   "metadata": {},
   "outputs": [],
   "source": [
    "for i, (loss, accuracy) in enumerate(zip(model_losses, model_accuracies)):\n",
    "    plt.plot(loss, c=\"blue\")\n",
    "    plt.plot(accuracy, c=\"red\")\n",
    "    plt.title(f\"Loss of the model with k = {ks[i % len(ks)]} and frame depth = {frame_depths[int(i/len(ks))]}\")\n",
    "    plt.ylabel(\"Loss\")\n",
    "    plt.xlabel(\"Iteration\")\n",
    "    plt.show()\n",
    "\n",
    "    print(\"Accuracy: \"+str(accuracy[-1]))\n",
    "    print(\"Loss: \"+str(loss[-1]))"
   ]
  },
  {
   "cell_type": "code",
   "execution_count": null,
   "metadata": {},
   "outputs": [],
   "source": [
    "val_accuracies = []\n",
    "for i, model in enumerate(models):\n",
    "    model.eval()\n",
    "    total_y_pred_label = []\n",
    "    total_y_true_label = []\n",
    "    correct = 0\n",
    "    for val_batch in val_dataloaders[i]:\n",
    "        val_batch = val_batch.to(device)\n",
    "        pred = model(val_batch).argmax(dim=1)\n",
    "        \n",
    "        total_y_pred_label.extend(pred)\n",
    "        total_y_true_label.extend(val_batch.y)\n",
    "        correct += (pred == val_batch.y).sum()\n",
    "    acc = int(correct) / len(val[i])\n",
    "    val_accuracies.append(acc)\n",
    "    print(f'Accuracy of the model with k = {ks[i % len(ks)]} and frame depth = {frame_depths[int(i/len(ks))]}: {acc:.4f}')"
   ]
  },
  {
   "cell_type": "code",
   "execution_count": 10,
   "metadata": {},
   "outputs": [
    {
     "name": "stdout",
     "output_type": "stream",
     "text": [
      "Accuracy of the model with k = 5 and frame depth = 5: 0.9436\n"
     ]
    }
   ],
   "source": [
    "best_model = torch.load(\"data/trained_model_k5_frame_depth5_normalized.pt\")\n",
    "best_model.eval()\n",
    "total_y_pred_label = []\n",
    "total_y_true_label = []\n",
    "correct = 0\n",
    "for val_batch in test_dataloaders[0]:\n",
    "    val_batch = val_batch.to(device)\n",
    "    pred = best_model(val_batch).argmax(dim=1)\n",
    "    \n",
    "    total_y_pred_label.extend(pred)\n",
    "    total_y_true_label.extend(val_batch.y)\n",
    "    correct += (pred == val_batch.y).sum()\n",
    "acc = int(correct) / len(test[0])\n",
    "print(f'Accuracy of the model with k = 5 and frame depth = 5: {acc:.4f}')"
   ]
  },
  {
   "cell_type": "code",
   "execution_count": 10,
   "metadata": {},
   "outputs": [
    {
     "name": "stdout",
     "output_type": "stream",
     "text": [
      "Accuracy of the model with k = 8 and frame depth = 8: 0.9889\n"
     ]
    }
   ],
   "source": [
    "best_model = models[0]\n",
    "best_model.eval()\n",
    "total_y_pred_label = []\n",
    "total_y_true_label = []\n",
    "correct = 0\n",
    "for val_batch in test_dataloaders[0]:\n",
    "    val_batch = val_batch.to(device)\n",
    "    pred = best_model(val_batch).argmax(dim=1)\n",
    "    \n",
    "    total_y_pred_label.extend(pred)\n",
    "    total_y_true_label.extend(val_batch.y)\n",
    "    correct += (pred == val_batch.y).sum()\n",
    "acc = int(correct) / len(test[0])\n",
    "print(f'Accuracy of the model with k = {ks[i % len(ks)]} and frame depth = {frame_depths[int(i/len(ks))]}: {acc:.4f}')"
   ]
  },
  {
   "cell_type": "code",
   "execution_count": 13,
   "metadata": {},
   "outputs": [
    {
     "data": {
      "text/plain": [
       "Text(0.5, 14.722222222222216, 'Predicated Label')"
      ]
     },
     "execution_count": 13,
     "metadata": {},
     "output_type": "execute_result"
    },
    {
     "data": {
      "image/png": "[encoded data removed]",
      "text/plain": [
       "<Figure size 500x400 with 2 Axes>"
      ]
     },
     "metadata": {},
     "output_type": "display_data"
    }
   ],
   "source": [
    "SHAPE_NAMES = [0,1,2,3,4]\n",
    "SHAPE_LABELS = [1,2,3,4,\">4\"]\n",
    "total_y_pred = [pred_label.item() for pred_label in total_y_pred_label]\n",
    "total_y_true = [true_label.item() for true_label in total_y_true_label]\n",
    "cm = confusion_matrix(total_y_true, total_y_pred, labels=SHAPE_NAMES)\n",
    "# print(cm)\n",
    "cm = (cm.astype('float') / cm.sum(axis=1)[:, np.newaxis]) \n",
    "\n",
    "df_cm = pd.DataFrame(cm, index = SHAPE_LABELS,\n",
    "              columns = SHAPE_LABELS)\n",
    "plt.figure(figsize = (5,4))\n",
    "plot = sn.heatmap(df_cm, annot=True, cmap='Blues')\n",
    "figure = plot.get_figure()\n",
    "plt.title(\"Confusion matrix\")\n",
    "plt.ylabel('True Label')\n",
    "plt.xlabel('Predicated Label')"
   ]
  },
  {
   "cell_type": "code",
   "execution_count": null,
   "metadata": {},
   "outputs": [],
   "source": [
    "torch.save(model, \"data/trained_model_k3_tesla_no_feature_num_xy_dist_with_distance.pt\")"
   ]
  },
  {
   "cell_type": "code",
   "execution_count": null,
   "metadata": {},
   "outputs": [],
   "source": [
    "loaded_model = torch.load(\"data/trained_model_k3_tesla.pt\")"
   ]
  },
  {
   "cell_type": "code",
   "execution_count": null,
   "metadata": {},
   "outputs": [],
   "source": [
    "model.eval()\n",
    "val_y_pred_label = []\n",
    "val_y_true_label = []\n",
    "correct = 0\n",
    "for val_batch in val_dataloader:\n",
    "    val_batch = val_batch.to(device)\n",
    "    pred = model(val_batch).argmax(dim=1)\n",
    "    val_y_pred_label.extend(pred)\n",
    "    val_y_true_label.extend(val_batch.y)\n",
    "    correct += (pred == val_batch.y).sum()\n",
    "acc = int(correct) / len(val)\n",
    "print(f'Accuracy: {acc:.4f}')"
   ]
  },
  {
   "cell_type": "code",
   "execution_count": null,
   "metadata": {},
   "outputs": [],
   "source": [
    "SHAPE_NAMES = [1,2,3,4,5]\n",
    "SHAPE_LABELS = [1,2,3,4,\">4\"]\n",
    "total_y_pred = [pred_label.item() for pred_label in val_y_pred_label]\n",
    "total_y_true = [true_label.item() for true_label in val_y_true_label]\n",
    "cm = confusion_matrix(total_y_true, total_y_pred, labels=SHAPE_NAMES)\n",
    "# print(cm)\n",
    "cm = (cm.astype('float') / cm.sum(axis=1)[:, np.newaxis]) \n",
    "\n",
    "df_cm = pd.DataFrame(cm, index = SHAPE_LABELS,\n",
    "              columns = SHAPE_LABELS)\n",
    "plt.figure(figsize = (5,4))\n",
    "plot = sn.heatmap(df_cm, annot=True, cmap='Blues')\n",
    "figure = plot.get_figure()\n",
    "# plt.title(\"Confusion matrix\")\n",
    "plt.ylabel('True Label')\n",
    "plt.xlabel('Predicated Label')"
   ]
  },
  {
   "cell_type": "code",
   "execution_count": null,
   "metadata": {},
   "outputs": [],
   "source": [
    "data_points = np.array([d.y.item() for d in train_frame_graphs])\n",
    "zeros = len(np.where(data_points  == 0)[0])\n",
    "ones = len(np.where(data_points  == 1)[0])\n",
    "twos = len(np.where(data_points  == 2)[0])\n",
    "threes = len(np.where(data_points  == 3)[0]) \n",
    "fours = len(np.where(data_points  == 4)[0])\n",
    "fives = len(np.where(data_points  == 5)[0])\n",
    "\n",
    "labels = [0, 1,2,3,4,5]\n",
    "sample_num = [zeros, ones, twos, threes, fours, fives]\n",
    "p = plt.bar(labels, sample_num)\n",
    "plt.xlabel(\"Number of people\")\n",
    "plt.ylabel(\"Number of samples\")\n",
    "plt.bar_label(p)\n",
    "plt.show()"
   ]
  },
  {
   "cell_type": "code",
   "execution_count": null,
   "metadata": {},
   "outputs": [],
   "source": [
    "data_points = np.array([d.y.item() for d in test_frame_graphs])\n",
    "zeros = len(np.where(data_points  == 0)[0])\n",
    "ones = len(np.where(data_points  == 1)[0])\n",
    "twos = len(np.where(data_points  == 2)[0])\n",
    "threes = len(np.where(data_points  == 3)[0]) \n",
    "fours = len(np.where(data_points  == 4)[0])\n",
    "fives = len(np.where(data_points  == 5)[0])\n",
    "\n",
    "labels = [0, 1,2,3,4,5]\n",
    "sample_num = [zeros, ones, twos, threes, fours, fives]\n",
    "p = plt.bar(labels, sample_num)\n",
    "plt.xlabel(\"Number of people\")\n",
    "plt.ylabel(\"Number of samples\")\n",
    "plt.bar_label(p)\n",
    "plt.show()"
   ]
  },
  {
   "cell_type": "code",
   "execution_count": null,
   "metadata": {},
   "outputs": [],
   "source": []
  }
 ],
 "metadata": {
  "kernelspec": {
   "display_name": "Python 3 (ipykernel)",
   "language": "python",
   "name": "python3"
  }
 },
 "nbformat": 4,
 "nbformat_minor": 2
}
