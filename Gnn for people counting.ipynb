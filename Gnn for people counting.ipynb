{
 "cells": [
  {
   "cell_type": "markdown",
   "id": "84786121",
   "metadata": {},
   "source": [
    "#### Imports"
   ]
  },
  {
   "cell_type": "code",
   "execution_count": 1,
   "id": "51fa26e7",
   "metadata": {
    "ExecuteTime": {
     "end_time": "2024-05-16T19:37:42.686902500Z",
     "start_time": "2024-05-16T19:37:42.637900800Z"
    }
   },
   "outputs": [],
   "source": [
    "import glob\n",
    "import math\n",
    "import random\n",
    "from typing import Callable, Union, Optional\n",
    "\n",
    "import numpy as np\n",
    "import pandas as pd\n",
    "from sklearn.metrics import confusion_matrix\n",
    "from pandas import DataFrame\n",
    "from matplotlib import pyplot as plt\n",
    "import networkx as nx\n",
    "from scipy.spatial import distance as distance_calculator\n",
    "import torch\n",
    "from torch import Tensor\n",
    "from torch_geometric import nn\n",
    "from torch_geometric.loader import DataLoader\n",
    "from torch_geometric.data import Data, InMemoryDataset\n",
    "from torch_geometric.nn import GCNConv, global_max_pool, GATConv\n",
    "import torch.nn.functional as F\n",
    "from torch_geometric.typing import PairTensor, OptTensor\n",
    "from torch_geometric.utils import scatter, to_networkx, add_self_loops\n",
    "import seaborn as sn\n",
    "from torch.nn import Sequential as Seq, Linear as Lin, Dropout, ReLU, BatchNorm1d as BN\n",
    "from torch_geometric.nn.conv import MessagePassing\n",
    "from torch_multi_head_attention import MultiHeadAttention\n",
    "import torch_scatter\n",
    "from torch_cluster import knn"
   ]
  },
  {
   "cell_type": "markdown",
   "id": "ceefe0c83114d2e5",
   "metadata": {
    "collapsed": false
   },
   "source": [
    "#### Showing the difference between the same frame numbers on different days"
   ]
  },
  {
   "cell_type": "code",
   "execution_count": null,
   "id": "d580317b11c3b4d3",
   "metadata": {
    "ExecuteTime": {
     "end_time": "2024-05-16T19:37:43.824430100Z",
     "start_time": "2024-05-16T19:37:43.553498Z"
    },
    "collapsed": false
   },
   "outputs": [],
   "source": [
    "same_frame_1: DataFrame = pd.read_csv(\"data/2/2/Text_01Jun144751.csv104247.0.csv\", header=None, dtype=float)\n",
    "same_frame_2: DataFrame = pd.read_csv(\"data/3/3/Text_05Jun144421.csv104247.0.csv\", header=None, dtype=float)\n",
    "\n",
    "plt.scatter(same_frame_1.to_numpy()[:, 5], same_frame_1.to_numpy()[:, 4], c=\"red\", label='01 Jun')\n",
    "plt.scatter(same_frame_2.to_numpy()[:, 5], same_frame_2.to_numpy()[:, 4], c=\"green\", label='05 Jun')\n",
    "plt.legend()\n",
    "plt.title(\"Same frame numbers on different days\")\n",
    "plt.ylabel(\"y\")\n",
    "plt.xlabel(\"x\")\n",
    "plt.xlim(-10, 4)\n",
    "plt.ylim(2, 14)\n",
    "plt.show()"
   ]
  },
  {
   "cell_type": "markdown",
   "id": "bbddc5c61e30b106",
   "metadata": {
    "collapsed": false
   },
   "source": [
    "#### Loading the data\n",
    "In each files, the frame numbers are shifted to come after the largest frame number in the previous file. This way all frame numbers are unique.\n"
   ]
  },
  {
   "cell_type": "code",
   "execution_count": 2,
   "id": "3c7b1a6b",
   "metadata": {
    "ExecuteTime": {
     "end_time": "2024-05-16T19:38:28.263295100Z",
     "start_time": "2024-05-16T19:37:45.133483600Z"
    }
   },
   "outputs": [
    {
     "name": "stdout",
     "output_type": "stream",
     "text": [
      "Largest frame number: 87019891.0\n",
      "Total number of frames: 22209\n"
     ]
    }
   ],
   "source": [
    "random.seed(42)\n",
    "column_names=['range','azimuth','doppler','snr','y','x','current_frame','seq']\n",
    "\n",
    "features0: DataFrame = pd.concat(\n",
    "    [pd.read_csv(filename, names=column_names, header=None, dtype=float) for filename in glob.glob(\"data/0/0/*.csv\")])\n",
    "features0.insert(8, \"Label\", np.zeros(len(features0), dtype=int), True)\n",
    "max_frame = max(features0[\"current_frame\"])\n",
    "\n",
    "features1: DataFrame = pd.concat(\n",
    "    [pd.read_csv(filename, names=column_names, header=None, dtype=float) for filename in glob.glob(\"data/1/1/*.csv\")])\n",
    "features1.insert(8, \"Label\", np.ones(len(features1), dtype=int), True)\n",
    "min_frame = min(features1[\"current_frame\"])\n",
    "shift = max_frame-min_frame+10\n",
    "features1[\"current_frame\"] += shift\n",
    "max_frame = max(features1[\"current_frame\"])\n",
    "\n",
    "features2: DataFrame = pd.concat(\n",
    "    [pd.read_csv(filename, names=column_names, header=None, dtype=float) for filename in glob.glob(\"data/2/2/*.csv\")])\n",
    "features2.insert(8, \"Label\", np.full(len(features2), 2, dtype=int), True)\n",
    "min_frame = min(features2[\"current_frame\"])\n",
    "shift = max_frame-min_frame+10\n",
    "features2[\"current_frame\"] += shift\n",
    "max_frame = max(features2[\"current_frame\"])\n",
    "\n",
    "features3: DataFrame = pd.concat(\n",
    "    [pd.read_csv(filename, names=column_names, header=None, dtype=float) for filename in glob.glob(\"data/3/3/*.csv\")])\n",
    "features3.insert(8, \"Label\", np.full(len(features3), 3, dtype=int), True)\n",
    "min_frame = min(features3[\"current_frame\"])\n",
    "shift = max_frame-min_frame+10\n",
    "features3[\"current_frame\"] += shift\n",
    "max_frame = max(features3[\"current_frame\"])\n",
    "\n",
    "features4: DataFrame = pd.concat(\n",
    "    [pd.read_csv(filename, names=column_names, header=None, dtype=float) for filename in glob.glob(\"data/4/4/*.csv\")])\n",
    "features4.insert(8, \"Label\", np.full(len(features4), 4, dtype=int), True)\n",
    "min_frame = min(features4[\"current_frame\"])\n",
    "shift = max_frame-min_frame+10\n",
    "features4[\"current_frame\"] += shift\n",
    "max_frame = max(features4[\"current_frame\"])\n",
    "\n",
    "features5: DataFrame = pd.concat(\n",
    "    [pd.read_csv(filename, names=column_names, header=None, dtype=float) for filename in glob.glob(\"data/bigger/bigger/*.csv\")])\n",
    "features5.insert(8, \"Label\", np.full(len(features5), 5, dtype=int), True)\n",
    "min_frame = min(features5[\"current_frame\"])\n",
    "shift = max_frame-min_frame+10\n",
    "features5[\"current_frame\"] += shift\n",
    "max_frame = max(features5[\"current_frame\"])\n",
    "\n",
    "all_data = pd.concat([features0, features1, features2, features3, features4, features5])\n",
    "\n",
    "all_data_grouped = all_data.groupby(\"current_frame\")\n",
    "print(\"Largest frame number: \"+str(max_frame))\n",
    "print(\"Total number of frames: \"+str(len(all_data_grouped)))"
   ]
  },
  {
   "cell_type": "markdown",
   "id": "ad0003bf13ae2c",
   "metadata": {
    "collapsed": false
   },
   "source": [
    "#### Showing the visual interpretation of consequent frames"
   ]
  },
  {
   "cell_type": "code",
   "execution_count": null,
   "id": "c1cc91187e545248",
   "metadata": {
    "ExecuteTime": {
     "end_time": "2024-05-15T20:05:42.370395900Z",
     "start_time": "2024-05-15T20:05:40.459885500Z"
    },
    "collapsed": false
   },
   "outputs": [],
   "source": [
    "data = [frame.to_numpy() for (_, frame) in all_data_grouped]\n",
    "frame_num = 21202\n",
    "frame1 = data[frame_num]\n",
    "frame2 = data[frame_num+1]\n",
    "frame3 = data[frame_num+2]\n",
    "plt.scatter(frame1[:, 5], frame1[:, 4], c=\"red\", label=\"Frame 1\")\n",
    "plt.scatter(frame2[:, 5], frame2[:, 4], c=\"lime\", label=\"Frame 2\")\n",
    "plt.scatter(frame3[:, 5], frame3[:, 4], c=\"blue\", label=\"Frame 3\")\n",
    "plt.legend()\n",
    "plt.title(\"3 consequent frames of 5 people moving\")\n",
    "plt.ylabel(\"y\")\n",
    "plt.xlabel(\"x\")\n",
    "plt.xlim(-9, 0)\n",
    "plt.ylim(2, 11)\n",
    "plt.show()"
   ]
  },
  {
   "cell_type": "markdown",
   "id": "c59cb43360e9ae26",
   "metadata": {
    "ExecuteTime": {
     "end_time": "2024-05-14T15:48:23.352021800Z",
     "start_time": "2024-05-14T15:48:21.854722500Z"
    },
    "collapsed": false
   },
   "source": [
    "#### Generate graphs"
   ]
  },
  {
   "cell_type": "code",
   "execution_count": 3,
   "id": "fc84040b",
   "metadata": {},
   "outputs": [],
   "source": [
    "device = torch.device('cpu')"
   ]
  },
  {
   "cell_type": "code",
   "execution_count": 4,
   "id": "0e76f4a5",
   "metadata": {},
   "outputs": [
    {
     "name": "stdout",
     "output_type": "stream",
     "text": [
      "16461\n"
     ]
    }
   ],
   "source": [
    "frame_graphs = torch.load(\"data/frame_graphs_k1_no_frame_num.pt\")\n",
    "print(len(frame_graphs))"
   ]
  },
  {
   "cell_type": "code",
   "execution_count": null,
   "id": "6712d2a0447185f9",
   "metadata": {
    "ExecuteTime": {
     "end_time": "2024-05-16T19:38:28.273297800Z",
     "start_time": "2024-05-16T19:38:28.267298Z"
    },
    "collapsed": false
   },
   "outputs": [],
   "source": [
    "def connect_frames(current_frame, previous_frame, k: int, start_index: int):\n",
    "    \"\"\"\n",
    "    Calculates the edges between two frames. \n",
    "    \n",
    "    :param current_frame: The current frame containing parameters to calculate the distance based on \n",
    "    :param previous_frame: The previous frame containing parameters to calculate the distance based on \n",
    "    :param k: The number of nearest neighbours to have in the graph\n",
    "    :param start_index: The index to start labeling the nodes from\n",
    "    :return: The values (distance between points) of the edges and an adjacency list containing the nodes that are connected in the graph\n",
    "    \"\"\"\n",
    "    edges = []\n",
    "    adjacency_list = []\n",
    "    previous_nodes = np.arange(len(previous_frame))\n",
    "    for i, point in enumerate(current_frame):\n",
    "        distances = distance_calculator.cdist([point], previous_frame, 'euclidean')[0]\n",
    "        idx = distances.argsort()[::-1]\n",
    "        distances = distances[idx]\n",
    "        previous_nodes = previous_nodes[idx]\n",
    "        neighbours = k\n",
    "        if len(distances) < k:\n",
    "            neighbours = len(distances)\n",
    "        for j in range(neighbours):\n",
    "            edges.append(distances[j])\n",
    "            adjacency_list.append((i+start_index, previous_nodes[j]+start_index+len(current_frame)))\n",
    "    return edges, adjacency_list\n",
    "\n",
    "def create_graph_list(frames:[DataFrame], k = 1, frame_depth = 2):\n",
    "    \"\"\"\n",
    "    Creates a list of Data objects that represents the graphs build from the input data. The edges in the graph connects the frames to the previous frame by connecting each points in a frame to it's nearest neighbour in the previous frame. The nodes contain information about: doppler, snr, y and x. The edges store information about the distance between the points (closer points have higher value).\n",
    "    \n",
    "    :param frames: input data grouped and sorted by the frame number\n",
    "    :param k: the number of nearest neighbours to connect each points to\n",
    "    :param frame_depth: the number of frames, one graph should contain\n",
    "    :return: a list of Data objects, containing information about the created graphs\n",
    "    \"\"\"\n",
    "    graphs = []\n",
    "    for i, frame in enumerate(frames[frame_depth:]):\n",
    "        nodes = []\n",
    "        edges = []\n",
    "        adjacency_list = []\n",
    "        relevant_frames = frames[i: i + frame_depth + 1]\n",
    "        point_data = [rf[['doppler','snr','y','x']] for rf in relevant_frames]\n",
    "        time_distance = relevant_frames[-1].iloc[0, 6] - relevant_frames[0].iloc[0, 6]\n",
    "        if time_distance > frame_depth * 3:\n",
    "            continue\n",
    "        point_data_array = [df.to_numpy() for df in point_data]\n",
    "        start_index = 0\n",
    "        for depth in range(frame_depth):\n",
    "            pairwise_edges, pairwise_adjacency_list = \\\n",
    "                connect_frames(point_data_array[frame_depth-depth], point_data_array[frame_depth-depth-1], k, start_index)\n",
    "            start_index += len(relevant_frames[frame_depth-depth])\n",
    "            # pairwise_edges = pairwise_edges / np.linalg.norm(pairwise_edges)\n",
    "            edges.extend(pairwise_edges)\n",
    "            adjacency_list.extend(pairwise_adjacency_list)\n",
    "            nodes.extend(point_data_array[frame_depth-depth])\n",
    "        nodes.extend(point_data_array[0])\n",
    "        label = frame[\"Label\"].values[0]\n",
    "        # edges = F.softmax(torch.tensor(np.array(edges), dtype=torch.float), dim=0)\n",
    "        \n",
    "        graphs.append(Data(x=torch.tensor(np.array(nodes), dtype=torch.float, device=device), \n",
    "                    edge_index=torch.tensor(np.array(adjacency_list), dtype=torch.int64, device=device).t().contiguous(),\n",
    "                    edge_attr=torch.tensor(np.array(edges), dtype=torch.float, device=device),\n",
    "                    y=torch.tensor(label, dtype=torch.int64, device=device)))\n",
    "    return graphs\n"
   ]
  },
  {
   "cell_type": "code",
   "execution_count": null,
   "id": "3fdb835c190a412b",
   "metadata": {
    "ExecuteTime": {
     "end_time": "2024-05-16T19:42:28.993353700Z",
     "start_time": "2024-05-16T19:38:28.273297800Z"
    },
    "collapsed": false
   },
   "outputs": [],
   "source": [
    "data_array = np.asarray([frame for (_, frame) in all_data_grouped], dtype=\"object\")\n",
    "sorted_data= sorted(data_array,key=lambda x:x[\"current_frame\"].max(axis=0))"
   ]
  },
  {
   "cell_type": "code",
   "execution_count": null,
   "id": "5e7ce492",
   "metadata": {},
   "outputs": [],
   "source": [
    "frame_graphs = create_graph_list(sorted_data)\n",
    "print(len(frame_graphs))"
   ]
  },
  {
   "cell_type": "code",
   "execution_count": null,
   "id": "acb517634c104813",
   "metadata": {
    "ExecuteTime": {
     "end_time": "2024-05-14T19:47:52.635759200Z",
     "start_time": "2024-05-14T19:47:52.618763700Z"
    },
    "collapsed": false
   },
   "outputs": [],
   "source": [
    "print(frame_graphs[0][\"edge_attr\"])\n",
    "torch.save(frame_graphs, \"data/frame_graphs_k1_no_frame_num.pt\")"
   ]
  },
  {
   "cell_type": "code",
   "execution_count": null,
   "id": "6923f91c2d2d1855",
   "metadata": {
    "ExecuteTime": {
     "end_time": "2024-05-13T11:45:01.201781700Z",
     "start_time": "2024-05-13T11:45:01.063781400Z"
    },
    "collapsed": false
   },
   "outputs": [],
   "source": [
    "# class GraphVisualization:\n",
    "\n",
    "#     def __init__(self):\n",
    "#         self.visual = []\n",
    "#         self.nodes = []\n",
    "\n",
    "#     def addEdge(self, a, b, d):\n",
    "#         temp = [a, b, {\"dist\": d}]\n",
    "#         self.visual.append(temp)\n",
    "\n",
    "#     def addNode(self, a):\n",
    "#         self.nodes.append(a)\n",
    "\n",
    "#     def visualize(self):\n",
    "#         gg = nx.Graph()\n",
    "#         gg.add_nodes_from(self.nodes)\n",
    "#         gg.add_edges_from(self.visual)\n",
    "#         nx.draw_networkx(gg)\n",
    "#         plt.show()\n",
    "\n",
    "# G = GraphVisualization()\n",
    "# # for i, _ in enumerate(frame_graphs[0].nodes):\n",
    "# #     G.addNode(i)\n",
    "# for i, adj in enumerate(frame_graphs[0].adjacency_list):\n",
    "#     G.addEdge(adj[0], adj[1], frame_graphs[0].edges[i])\n",
    "\n",
    "# G.visualize()"
   ]
  },
  {
   "cell_type": "code",
   "execution_count": null,
   "id": "8758fa57d7e7c477",
   "metadata": {
    "ExecuteTime": {
     "end_time": "2024-05-13T11:45:01.794808500Z",
     "start_time": "2024-05-13T11:45:01.202777600Z"
    },
    "collapsed": false
   },
   "outputs": [],
   "source": [
    "\n",
    "tiny_array = [t.to_numpy() for t in sorted_data]\n",
    "print(len(tiny_array[0])+len(tiny_array[1])+len(tiny_array[2]))\n",
    "\n",
    "# plt.scatter(tiny_array[0][:, 5], tiny_array[0][:, 4], c='blue')\n",
    "# plt.scatter(tiny_array[1][:, 5], tiny_array[1][:, 4], c='red')\n",
    "plt.scatter(tiny_array[2][:, 5], tiny_array[2][:, 4], c='green')\n",
    "# plt.xlim(-10, 4)\n",
    "# plt.ylim(2, 14)\n",
    "plt.show()"
   ]
  },
  {
   "cell_type": "code",
   "execution_count": null,
   "id": "73e18cb5a58f42f2",
   "metadata": {
    "ExecuteTime": {
     "end_time": "2024-05-13T11:45:01.838810100Z",
     "start_time": "2024-05-13T11:45:01.798807800Z"
    },
    "collapsed": false
   },
   "outputs": [],
   "source": [
    "class MyOwnDataset(InMemoryDataset):\n",
    "    def __init__(self, root, split='train', transform=None, pre_transform=None, pre_filter=None):\n",
    "        super().__init__(root, transform, pre_transform, pre_filter)\n",
    "        if split == 'train':\n",
    "            path = self.processed_paths[0]\n",
    "        elif split == 'validation':\n",
    "            path = self.processed_paths[1]\n",
    "        else:\n",
    "            path = self.processed_paths[2]\n",
    "        self.load(path)\n",
    "\n",
    "    @property\n",
    "    def raw_file_names(self):\n",
    "        return ['ply_data_train.h5', 'ply_data_validation.h5', 'ply_data_test.h5']\n",
    "\n",
    "    @property\n",
    "    def processed_file_names(self):\n",
    "        return ['ply_data_train.pt', 'ply_data_validation.pt', 'ply_data_test.pt']\n",
    "\n",
    "    def download(self):\n",
    "        pass\n",
    "\n",
    "    def process(self):\n",
    "        # Read data into huge `Data` list.\n",
    "        data_list = [...]\n",
    "\n",
    "        if self.pre_filter is not None:\n",
    "            data_list = [data for data in data_list if self.pre_filter(data)]\n",
    "\n",
    "        if self.pre_transform is not None:\n",
    "            data_list = [self.pre_transform(data) for data in data_list]\n",
    "\n",
    "        self.save(data_list, self.processed_paths[0])\n",
    "        # For PyG<2.4:\n",
    "        # torch.save(self.collate(data_list), self.processed_paths[0])"
   ]
  },
  {
   "cell_type": "markdown",
   "id": "89727635f494f0c7",
   "metadata": {
    "collapsed": false
   },
   "source": [
    "#### Split the dataset"
   ]
  },
  {
   "cell_type": "code",
   "execution_count": 5,
   "id": "853152cf268acc9b",
   "metadata": {
    "ExecuteTime": {
     "end_time": "2024-05-16T21:35:05.273022700Z",
     "start_time": "2024-05-16T21:35:05.238024700Z"
    },
    "collapsed": false
   },
   "outputs": [],
   "source": [
    "# frame_graphs = torch.load(\"data/frame_graphs.pt\")\n",
    "\n",
    "random.seed(42)\n",
    "random.shuffle(frame_graphs)\n",
    "train = frame_graphs[:int(0.7 * len(frame_graphs))]\n",
    "test = frame_graphs[int(0.7 * len(frame_graphs)):int(0.85 * len(frame_graphs))]\n",
    "val = frame_graphs[int(0.85 * len(frame_graphs)):]\n",
    "\n",
    "train_dataloader = DataLoader(train[:1000], batch_size=32, shuffle=True, num_workers = 0) \n",
    "test_dataloader = DataLoader(test[:300], batch_size=32, shuffle=True, num_workers = 0) "
   ]
  },
  {
   "cell_type": "markdown",
   "id": "452e12aebbd58c7d",
   "metadata": {
    "collapsed": false
   },
   "source": [
    "#### The Graph Neural Network Model"
   ]
  },
  {
   "cell_type": "code",
   "execution_count": null,
   "id": "b9aab01bc32c6e27",
   "metadata": {
    "ExecuteTime": {
     "end_time": "2024-05-15T20:26:55.500820800Z",
     "start_time": "2024-05-15T20:26:55.471818100Z"
    },
    "collapsed": false
   },
   "outputs": [],
   "source": [
    "class GCN(torch.nn.Module):\n",
    "    def __init__(self, in_features, out_features):\n",
    "        super().__init__()\n",
    "        self.conv1 = GCNConv(in_features, 16)\n",
    "        self.conv2 = GCNConv(16, out_features)\n",
    "        # self.conv3 = GCNConv(16, out_features)\n",
    "\n",
    "    def forward(self, data):\n",
    "        x, edge_index = data.x, data.edge_index\n",
    "        edge_weight = data.edge_attr\n",
    "        \n",
    "        x = self.conv1(x, edge_index)\n",
    "        x = F.relu(x)\n",
    "        x = F.dropout(x, training=self.training)\n",
    "        x = self.conv2(x, edge_index)\n",
    "        # x = F.relu(x)\n",
    "        # x = F.dropout(x, training=self.training)\n",
    "        # x = self.conv3(x, edge_index, edge_weight)\n",
    "        x = scatter(x, data.batch, dim=0, reduce='mean')\n",
    "        return F.log_softmax(x, dim=1)\n",
    "    \n",
    "class GDPModel(torch.nn.Module):\n",
    "    def __init__(self, num_features=3, hidden_size=32, target_size=1):\n",
    "        super().__init__()\n",
    "        self.hidden_size = hidden_size\n",
    "        self.num_features = num_features\n",
    "        self.target_size = target_size\n",
    "        self.conv1 = GATConv(self.num_features, self.hidden_size, edge_dim = 1)\n",
    "        self.conv2 = GATConv(self.hidden_size, self.hidden_size, edge_dim = 1)\n",
    "        # self.linear = nn.Linear(self.hidden_size, self.target_size)\n",
    "\n",
    "    def forward(self, data):\n",
    "        x, edge_index, edge_attr = data.x, data.edge_index, data.edge_attr\n",
    "        \n",
    "        x = self.conv1(x, edge_index, edge_attr=edge_attr) # adding edge features here!\n",
    "        x = F.relu(x)\n",
    "        x = F.dropout(x, training=self.training)\n",
    "        x = self.conv2(x, edge_index, edge_attr=edge_attr) # edge features here as well\n",
    "        # x = self.linear(x)\n",
    "        x = scatter(x, data.batch, dim=0, reduce='mean')\n",
    "\n",
    "        return F.log_softmax(x, dim=1)"
   ]
  },
  {
   "cell_type": "markdown",
   "id": "f7ea61281bf4585f",
   "metadata": {
    "collapsed": false
   },
   "source": [
    "#### Training the model with the data"
   ]
  },
  {
   "cell_type": "code",
   "execution_count": 6,
   "id": "71b05e73dcbf69c4",
   "metadata": {
    "ExecuteTime": {
     "end_time": "2024-05-15T20:31:23.056708800Z",
     "start_time": "2024-05-15T20:26:56.594163500Z"
    },
    "collapsed": false
   },
   "outputs": [],
   "source": [
    "class GCN(torch.nn.Module):\n",
    "    def __init__(self, in_features, out_features):\n",
    "        super().__init__()\n",
    "        self.conv1 = GCNConv(in_features, 16)\n",
    "        self.conv2 = GCNConv(16, out_features)\n",
    "\n",
    "    def forward(self, data):\n",
    "        x, edge_index = data.x, data.edge_index\n",
    "        edge_weight = data.edge_attr\n",
    "        \n",
    "        x = self.conv1(x, edge_index, edge_weight)\n",
    "        x = F.relu(x)\n",
    "        x = F.dropout(x, training=self.training)\n",
    "        x = self.conv2(x, edge_index, edge_weight)\n",
    "        x = scatter(x, data.batch, dim=0, reduce='mean')\n",
    "        return F.log_softmax(x, dim=1)\n",
    "\n",
    "model = GCN(4,6).to(device)\n",
    "optimizer = torch.optim.Adam(model.parameters(), lr=0.01, weight_decay=5e-4)\n",
    "\n",
    "model.train()\n",
    "losses = []\n",
    "for epoch in range(50):\n",
    "    for data_batch in train_dataloader:\n",
    "        data_batch = data_batch.to(device)\n",
    "        optimizer.zero_grad()\n",
    "        out = model(data_batch)\n",
    "        loss = F.nll_loss(out, data_batch.y)\n",
    "        losses.append(loss)\n",
    "        loss.backward()\n",
    "        optimizer.step()"
   ]
  },
  {
   "cell_type": "code",
   "execution_count": null,
   "id": "75002847",
   "metadata": {},
   "outputs": [],
   "source": [
    "losses = [tensor.cpu() for tensor in losses]\n",
    "\n",
    "plt.plot(losses, c=\"blue\")\n",
    "plt.plot(accuracies, c=\"red\")\n",
    "plt.title(\"Loss of the training\")\n",
    "plt.ylabel(\"Loss\")\n",
    "plt.xlabel(\"Iteration\")\n",
    "plt.show()\n",
    "\n",
    "print(\"Accuracy: \"+str(accuracies[-1]))\n",
    "print(\"Loss: \"+str(losses[-1]))"
   ]
  },
  {
   "cell_type": "markdown",
   "id": "3f536d22a8db821b",
   "metadata": {
    "collapsed": false
   },
   "source": [
    "#### Evaluate the trained model"
   ]
  },
  {
   "cell_type": "code",
   "execution_count": 7,
   "id": "9a8e8b71a3264ae8",
   "metadata": {
    "ExecuteTime": {
     "end_time": "2024-05-15T20:36:47.294359Z",
     "start_time": "2024-05-15T20:36:46.102361300Z"
    },
    "collapsed": false
   },
   "outputs": [
    {
     "name": "stdout",
     "output_type": "stream",
     "text": [
      "Accuracy: 0.3633\n"
     ]
    }
   ],
   "source": [
    "model.eval()\n",
    "total_y_pred_label = []\n",
    "total_y_true_label = []\n",
    "correct = 0\n",
    "for test_batch in test_dataloader:\n",
    "    test_batch = test_batch.to(device)\n",
    "    pred = model(test_batch).argmax(dim=1)\n",
    "    total_y_pred_label.extend(pred)\n",
    "    total_y_true_label.extend(test_batch.y)\n",
    "    # print(\"Predicted: \" + str(pred) + \", real: \"+ str(test_batch.y))\n",
    "    correct += (pred == test_batch.y).sum()\n",
    "acc = int(correct) / 300\n",
    "print(f'Accuracy: {acc:.4f}')"
   ]
  },
  {
   "cell_type": "code",
   "execution_count": 8,
   "id": "a574b145d35f779e",
   "metadata": {
    "ExecuteTime": {
     "end_time": "2024-05-15T20:36:59.453534500Z",
     "start_time": "2024-05-15T20:36:59.198536Z"
    },
    "collapsed": false
   },
   "outputs": [
    {
     "name": "stdout",
     "output_type": "stream",
     "text": [
      "[[ 0  0  0  0  0  0]\n",
      " [ 1 19 30  4  1 11]\n",
      " [ 0 12 40 13  1 28]\n",
      " [ 0  6 18 14  0 12]\n",
      " [ 0  6  7  3  0 28]\n",
      " [ 0  0  6  4  0 36]]\n"
     ]
    },
    {
     "data": {
      "text/plain": [
       "Text(0.5, 47.7222222222222, 'Predicated Label')"
      ]
     },
     "execution_count": 8,
     "metadata": {},
     "output_type": "execute_result"
    },
    {
     "data": {
      "image/png": "[encoded data removed]",
      "text/plain": [
       "<Figure size 1000x700 with 2 Axes>"
      ]
     },
     "metadata": {},
     "output_type": "display_data"
    }
   ],
   "source": [
    "SHAPE_NAMES = [0,1,2,3,4,5]\n",
    "total_y_pred = [pred_label.item() for pred_label in total_y_pred_label]\n",
    "total_y_true = [true_label.item() for true_label in total_y_true_label]\n",
    "cm = confusion_matrix(total_y_true, total_y_pred, labels=SHAPE_NAMES)\n",
    "print(cm)\n",
    "# cm = (cm.astype('float') / cm.sum(axis=1)[:, np.newaxis]) * 100\n",
    "\n",
    "df_cm = pd.DataFrame(cm, index = SHAPE_NAMES,\n",
    "              columns = SHAPE_NAMES)\n",
    "plt.figure(figsize = (10,7))\n",
    "plot = sn.heatmap(df_cm, annot=True, cmap='Blues')\n",
    "figure = plot.get_figure()\n",
    "plt.ylabel('True Label')\n",
    "plt.xlabel('Predicated Label')"
   ]
  },
  {
   "cell_type": "code",
   "execution_count": null,
   "id": "8c5275ef1b2d43a0",
   "metadata": {
    "ExecuteTime": {
     "end_time": "2024-05-14T19:47:18.391553400Z",
     "start_time": "2024-05-14T19:47:18.379553300Z"
    },
    "collapsed": false
   },
   "outputs": [],
   "source": [
    "# data_points = np.array([d.y.item() for d in train[:1000]])\n",
    "# zeros = np.where(data_points  == 0)[0]\n",
    "# print(len(zeros))\n",
    "# ones = np.where(data_points  == 1)[0]\n",
    "# print(len(ones))\n",
    "# print(len(np.where(data_points  == 2)[0]))\n",
    "# print(len(np.where(data_points  == 3)[0]))\n",
    "# print(len(np.where(data_points  == 4)[0]))\n",
    "# print(len(np.where(data_points  == 5)[0]))"
   ]
  },
  {
   "cell_type": "markdown",
   "id": "7f0f8f9cfd8d278a",
   "metadata": {
    "collapsed": false
   },
   "source": [
    "#### Training with attention"
   ]
  },
  {
   "cell_type": "code",
   "execution_count": null,
   "id": "a30b92430669b64c",
   "metadata": {
    "ExecuteTime": {
     "end_time": "2024-05-16T19:42:29.061352400Z",
     "start_time": "2024-05-16T19:42:29.001355100Z"
    },
    "collapsed": false
   },
   "outputs": [],
   "source": [
    "def MLP(channels, batch_norm=True):\n",
    "    return Seq(*[\n",
    "        Seq(Lin(channels[i - 1], channels[i]), ReLU(), BN(channels[i]))\n",
    "        for i in range(1, len(channels))\n",
    "    ])\n",
    "\n",
    "def reset(nn):\n",
    "    def _reset(item):\n",
    "        if hasattr(item, 'reset_parameters'):\n",
    "            item.reset_parameters()\n",
    "\n",
    "    if nn is not None:\n",
    "        if hasattr(nn, 'children') and len(list(nn.children())) > 0:\n",
    "            for item in nn.children():\n",
    "                _reset(item)\n",
    "        else:\n",
    "            _reset(nn)\n",
    "\n",
    "class GeneralizedTemporalSelfAttentionDynamicEdgeConv(MessagePassing):\n",
    "    def __init__(self, nn: Callable, T: int, attention_in_features: int, head_num: int, k: int,\n",
    "                 aggr: str = 'max',\n",
    "                 num_workers: int = 1, spatio_temporal_factor: float = 0, **kwargs):\n",
    "        super(GeneralizedTemporalSelfAttentionDynamicEdgeConv,\n",
    "              self).__init__(aggr=aggr, flow='target_to_source', **kwargs)\n",
    "\n",
    "        if knn is None:\n",
    "            raise ImportError('`GeneralizedTemporalSelfAttentionDynamicEdgeConv` requires `torch-cluster`.')\n",
    "\n",
    "        self.nn = nn\n",
    "        self.multihead_attn = MultiHeadAttention(attention_in_features, head_num)\n",
    "        self.k = k\n",
    "        self.num_workers = num_workers\n",
    "        self.spatio_temporal_factor = spatio_temporal_factor\n",
    "        self.T = T\n",
    "        self.reset_parameters()\n",
    "\n",
    "    def reset_parameters(self):\n",
    "        reset(self.multihead_attn)\n",
    "        reset(self.nn)\n",
    "\n",
    "    def forward(\n",
    "            self, x,\n",
    "            edge_index,\n",
    "            batch = None ) -> Tensor:\n",
    "        # knn_input = torch.cat((x, sequence_number.reshape(-1, 1)), 1)\n",
    "        # knn_input -= knn_input.min(0, keepdim=True)[0]\n",
    "        # knn_input /= knn_input.max(0, keepdim=True)[0]\n",
    "        # knn_input[:, -1] *= self.spatio_temporal_factor * math.sqrt(x.shape[-1])\n",
    "        # source_data, source_batch, target_data, target_batch, index_mapper = make_proper_data(data=knn_input,\n",
    "        #                                                                                       sequence_number=sequence_number,\n",
    "        #                                                                                       batch=batch,\n",
    "        #                                                                                       self_loop=False,\n",
    "        #                                                                                       T=self.T)\n",
    "        # if isinstance(x, Tensor):\n",
    "        #     x: PairTensor = (x, x)\n",
    "        # assert x[0].dim() == 2, \\\n",
    "        #     'Static graphs not supported in `GeneralizedTemporalSelfAttentionDynamicEdgeConv`.'\n",
    "        # edge_index = knn(target_data, source_data, self.k, target_batch, source_batch,\n",
    "        #                  num_workers=self.num_workers)\n",
    "        # edge_index[1] = index_mapper[edge_index[1]]\n",
    "        return self.propagate(edge_index, x=x, size=None, batch=batch)\n",
    "\n",
    "    def message(self, x_i: Tensor, x_j: Tensor) -> Tensor:\n",
    "        return self.nn(torch.cat([x_i, x_j - x_i], dim=-1))\n",
    "\n",
    "    def aggregate(self, inputs: Tensor, index: Tensor,\n",
    "                  batch: Tensor,\n",
    "                  ptr: Optional[Tensor] = None,\n",
    "                  dim_size: Optional[int] = None) -> Tensor:\n",
    "        original_shape = inputs.shape\n",
    "        # We assume K is fixed and the index tensor is sorted!\n",
    "        attention_input_shape = list([int(original_shape[0] / self.k)]) + list(original_shape)\n",
    "        attention_input_shape[1] = self.k\n",
    "        self_attention_input = inputs.reshape(attention_input_shape)\n",
    "        attn_output = self.multihead_attn(self_attention_input, self_attention_input, self_attention_input)\n",
    "        attn_output = attn_output.reshape(original_shape)\n",
    "        # Apply attention mechanism\n",
    "        return scatter(attn_output, index, dim=self.node_dim, dim_size=dim_size,\n",
    "                       reduce=self.aggr)\n",
    "\n",
    "    def __repr__(self):\n",
    "        return '{}(nn={}, k={})'.format(self.__class__.__name__, self.nn,\n",
    "                                        self.k)\n",
    "\n"
   ]
  },
  {
   "cell_type": "code",
   "execution_count": null,
   "id": "df5cb0e6cbedc3e9",
   "metadata": {
    "ExecuteTime": {
     "end_time": "2024-05-16T21:24:46.080602700Z",
     "start_time": "2024-05-16T21:24:46.054605500Z"
    },
    "collapsed": false
   },
   "outputs": [],
   "source": [
    "class Net(torch.nn.Module):\n",
    "    def __init__(self, out_channels, graph_convolution_layers=2, T=1, k=4, spatio_temporal_factor=0.01, aggr='max'):\n",
    "        super().__init__()\n",
    "        # self.stn = STN3d()\n",
    "        self.graph_convolution_layers = graph_convolution_layers\n",
    "        \n",
    "        self.gatconv1 = GATConv(5, 64, heads=2, edge_dim = 1)\n",
    "        self.gatconv2 = GATConv(2*64, 64, edge_dim = 1)\n",
    "\n",
    "        # self.conv1 = GeneralizedTemporalSelfAttentionDynamicEdgeConv(nn=MLP([2 * 3, 64, 64, 64]),\n",
    "        #                                                              attention_in_features=64,\n",
    "        #                                                              head_num=8,\n",
    "        #                                                              k=k,\n",
    "        #                                                              spatio_temporal_factor=spatio_temporal_factor,\n",
    "        #                                                              T=T)\n",
    "        # self.conv2 = GeneralizedTemporalSelfAttentionDynamicEdgeConv(nn=MLP([2 * 64, 128]),\n",
    "        #                                                              attention_in_features=128,\n",
    "        #                                                              head_num=8,\n",
    "        #                                                              k=k,\n",
    "        #                                                              spatio_temporal_factor=spatio_temporal_factor,\n",
    "        #                                                              aggr=aggr,\n",
    "        #                                                              T=T)\n",
    "        # self.conv3 = GeneralizedTemporalSelfAttentionDynamicEdgeConv(nn=MLP([2 * 128, 256]),\n",
    "        #                                                              attention_in_features=256,\n",
    "        #                                                              head_num=8,\n",
    "        #                                                              k=k,\n",
    "        #                                                              spatio_temporal_factor=spatio_temporal_factor,\n",
    "        #                                                              aggr=aggr,\n",
    "        #                                                              T=T)\n",
    "        # assert 1 <= graph_convolution_layers <= 3\n",
    "        # if graph_convolution_layers == 3:\n",
    "        #     self.lin1 = MLP([256 + 128 + 64, 1024])\n",
    "        # elif graph_convolution_layers == 2:\n",
    "        #     self.lin1 = MLP([128 + 64, 1024])\n",
    "        # elif graph_convolution_layers == 1:\n",
    "        self.lin1 = MLP([64, 1024])\n",
    "\n",
    "        self.mlp = Seq(\n",
    "            MLP([1024, 512]), Dropout(0.5), MLP([512, 256]), Dropout(0.5),\n",
    "            Lin(256, out_channels))\n",
    "\n",
    "    def forward(self, data):\n",
    "        # sequence_numbers, pos, batch = data.x[:, 0].float(), data.pos.float(), data.batch\n",
    "        # pos = pos.reshape(len(torch.unique(data.batch)), -1, 3).transpose(2, 1)\n",
    "        # trans = self.stn(pos)\n",
    "        # pos = pos.transpose(2, 1)\n",
    "        # pos = torch.bmm(pos, trans)\n",
    "        # pos = pos.reshape(-1, 3)\n",
    "        # if self.graph_convolution_layers == 3:\n",
    "        #     x1 = self.conv1(data.x, data.edge_index, data.batch)\n",
    "        #     x2 = self.conv2(x1, data.edge_index, data.batch)\n",
    "        #     x3 = self.conv3(x2, data.edge_index, data.batch)\n",
    "        #     out = self.lin1(torch.cat([x1, x2, x3], dim=1))\n",
    "        # elif self.graph_convolution_layers == 2:\n",
    "        #     x1 = self.conv1(data.x, data.edge_index, data.batch)\n",
    "        #     x2 = self.conv2(x1, data.edge_index, data.batch)\n",
    "        #     out = self.lin1(torch.cat([x1, x2], dim=1))\n",
    "        # else:\n",
    "            # x1 = self.conv1(data.x, data.edge_index, data.batch)\n",
    "        x1 = self.gatconv1(data.x, data.edge_index, edge_attr=data.edge_attr) # adding edge features here!\n",
    "        x1 = F.relu(x1)\n",
    "        x1 = F.dropout(x1, training=self.training)\n",
    "        x1 = self.gatconv2(x1, data.edge_index, edge_attr=data.edge_attr) # edge features here as well\n",
    "        out = self.lin1(x1)\n",
    "        # out = global_max_pool(out, data.batch)\n",
    "        out = self.mlp(out)\n",
    "        out = scatter(out, data.batch, dim=0, reduce='mean')\n",
    "        return F.log_softmax(out, dim=1)\n"
   ]
  },
  {
   "cell_type": "code",
   "execution_count": null,
   "id": "ab1c31fe069d552c",
   "metadata": {
    "ExecuteTime": {
     "end_time": "2024-05-16T22:01:56.623665100Z",
     "start_time": "2024-05-16T21:35:24.941573800Z"
    },
    "collapsed": false
   },
   "outputs": [],
   "source": [
    "device = torch.device('cuda' if torch.cuda.is_available() else 'cpu')\n",
    "model = Net(6, graph_convolution_layers=1).to(device)\n",
    "optimizer = torch.optim.Adam(model.parameters(), lr=0.01, weight_decay=5e-4)\n",
    "scheduler = torch.optim.lr_scheduler.StepLR(optimizer, step_size=20, gamma=0.5)\n",
    "\n",
    "\n",
    "model.train()\n",
    "losses = []\n",
    "correct = 0\n",
    "count = 0\n",
    "accuracies = []\n",
    "for epoch in range(100):\n",
    "    for train_batch in train_dataloader:\n",
    "        train_batch = train_batch.to(device)\n",
    "        optimizer.zero_grad()\n",
    "        out = model(train_batch)\n",
    "        pred = out.argmax(dim=1)\n",
    "        correct += (pred == train_batch.y).sum()\n",
    "        loss = F.nll_loss(out, train_batch.y)\n",
    "        losses.append(loss.detach())\n",
    "        loss.backward()\n",
    "        optimizer.step()\n",
    "        count += len(train_batch)\n",
    "        acc = int(correct) / count\n",
    "        accuracies.append(acc)\n",
    "    scheduler.step()"
   ]
  },
  {
   "cell_type": "code",
   "execution_count": null,
   "id": "932d6ba1",
   "metadata": {},
   "outputs": [],
   "source": [
    "losses = [tensor.cpu() for tensor in losses]\n",
    "\n",
    "plt.plot(losses, c=\"blue\")\n",
    "plt.plot(accuracies, c=\"red\")\n",
    "plt.title(\"Loss of the training\")\n",
    "plt.ylabel(\"Loss\")\n",
    "plt.xlabel(\"Iteration\")\n",
    "plt.show()\n",
    "\n",
    "print(\"Accuracy: \"+str(accuracies[-1]))\n",
    "print(\"Loss: \"+str(losses[-1]))"
   ]
  },
  {
   "cell_type": "code",
   "execution_count": null,
   "id": "8717b3744a85137a",
   "metadata": {
    "ExecuteTime": {
     "end_time": "2024-05-16T22:07:08.001081Z",
     "start_time": "2024-05-16T22:07:04.259077800Z"
    },
    "collapsed": false
   },
   "outputs": [],
   "source": [
    "model.eval()\n",
    "total_y_pred_label = []\n",
    "total_y_true_label = []\n",
    "correct = 0\n",
    "for test_batch in test_dataloader:\n",
    "    test_batch = test_batch.to(device)\n",
    "    pred = model(test_batch).argmax(dim=1)\n",
    "    total_y_pred_label.extend(pred)\n",
    "    total_y_true_label.extend(test_batch.y)\n",
    "    # print(\"Predicted: \" + str(pred) + \", real: \"+ str(test_batch.y))\n",
    "    correct += (pred == test_batch.y).sum()\n",
    "acc = int(correct) / len(test)\n",
    "print(f'Accuracy: {acc:.4f}')"
   ]
  },
  {
   "cell_type": "code",
   "execution_count": null,
   "id": "8f72ae8e67b7bbf8",
   "metadata": {
    "ExecuteTime": {
     "end_time": "2024-05-16T22:07:08.300076500Z",
     "start_time": "2024-05-16T22:07:08.005080700Z"
    },
    "collapsed": false
   },
   "outputs": [],
   "source": [
    "SHAPE_NAMES = [0,1,2,3,4,5]\n",
    "total_y_pred = [pred_label.item() for pred_label in total_y_pred_label]\n",
    "total_y_true = [true_label.item() for true_label in total_y_true_label]\n",
    "cm = confusion_matrix(total_y_true, total_y_pred, labels=SHAPE_NAMES)\n",
    "print(cm)\n",
    "# cm = (cm.astype('float') / cm.sum(axis=1)[:, np.newaxis]) * 100\n",
    "\n",
    "df_cm = pd.DataFrame(cm, index = SHAPE_NAMES,\n",
    "              columns = SHAPE_NAMES)\n",
    "plt.figure(figsize = (10,7))\n",
    "plot = sn.heatmap(df_cm, annot=True, cmap='Blues')\n",
    "figure = plot.get_figure()\n",
    "plt.ylabel('True Label')\n",
    "plt.xlabel('Predicated Label')"
   ]
  },
  {
   "cell_type": "code",
   "execution_count": null,
   "id": "48fda70a",
   "metadata": {},
   "outputs": [],
   "source": []
  }
 ],
 "metadata": {
  "kernelspec": {
   "display_name": "Python 3 (ipykernel)",
   "language": "python",
   "name": "python3"
  },
  "language_info": {
   "codemirror_mode": {
    "name": "ipython",
    "version": 3
   },
   "file_extension": ".py",
   "mimetype": "text/x-python",
   "name": "python",
   "nbconvert_exporter": "python",
   "pygments_lexer": "ipython3",
   "version": "3.10.12"
  }
 },
 "nbformat": 4,
 "nbformat_minor": 5
}
