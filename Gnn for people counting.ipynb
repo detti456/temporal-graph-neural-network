{
 "cells": [
  {
   "cell_type": "markdown",
   "id": "84786121",
   "metadata": {},
   "source": [
    "#### Imports"
   ]
  },
  {
   "cell_type": "code",
   "execution_count": 12,
   "id": "51fa26e7",
   "metadata": {
    "ExecuteTime": {
     "end_time": "2024-05-08T19:08:08.280307400Z",
     "start_time": "2024-05-08T19:08:08.268081Z"
    }
   },
   "outputs": [],
   "source": [
    "import glob\n",
    "import random\n",
    "\n",
    "import numpy as np\n",
    "import pandas as pd\n",
    "from pandas.core.groupby import DataFrameGroupBy\n",
    "from sklearn.model_selection import train_test_split, GroupShuffleSplit\n",
    "from numpy import ndarray\n",
    "from pandas import DataFrame\n",
    "from matplotlib import pyplot as plt\n",
    "import networkx as nx "
   ]
  },
  {
   "cell_type": "markdown",
   "source": [
    "#### Load data"
   ],
   "metadata": {
    "collapsed": false
   },
   "id": "ceefe0c83114d2e5"
  },
  {
   "cell_type": "code",
   "execution_count": 2,
   "id": "3c7b1a6b",
   "metadata": {
    "ExecuteTime": {
     "end_time": "2024-05-08T18:58:43.085377200Z",
     "start_time": "2024-05-08T18:58:18.151832600Z"
    }
   },
   "outputs": [
    {
     "name": "stdout",
     "output_type": "stream",
     "text": [
      "20632\n"
     ]
    }
   ],
   "source": [
    "random.seed(42)\n",
    "\n",
    "features0: DataFrame = pd.concat(\n",
    "    [pd.read_csv(filename, header=None, dtype=float) for filename in glob.glob(\"data/0/0/*.csv\")])\n",
    "features0.insert(8, \"Label\", np.zeros(len(features0)), True)\n",
    "features1: DataFrame = pd.concat(\n",
    "    [pd.read_csv(filename, header=None, dtype=float) for filename in glob.glob(\"data/1/1/*.csv\")])\n",
    "features1.insert(8, \"Label\", np.ones(len(features1)), True)\n",
    "features2: DataFrame = pd.concat(\n",
    "    [pd.read_csv(filename, header=None, dtype=float) for filename in glob.glob(\"data/2/2/*.csv\")])\n",
    "features2.insert(8, \"Label\", np.full(len(features2), 2), True)\n",
    "features3: DataFrame = pd.concat(\n",
    "    [pd.read_csv(filename, header=None, dtype=float) for filename in glob.glob(\"data/3/3/*.csv\")])\n",
    "features3.insert(8, \"Label\", np.full(len(features3), 3), True)\n",
    "features4: DataFrame = pd.concat(\n",
    "    [pd.read_csv(filename, header=None, dtype=float) for filename in glob.glob(\"data/4/4/*.csv\")])\n",
    "features4.insert(8, \"Label\", np.full(len(features4), 4), True)\n",
    "features5: DataFrame = pd.concat(\n",
    "    [pd.read_csv(filename, header=None, dtype=float) for filename in glob.glob(\"data/bigger/bigger/*.csv\")])\n",
    "features5.insert(8, \"Label\", np.full(len(features5), 5), True)\n",
    "\n",
    "all_data = pd.concat([features0, features1, features2, features3, features4, features5])\n",
    "\n",
    "all_data_grouped = all_data.groupby(6)\n",
    "print(len(all_data_grouped))\n"
   ]
  },
  {
   "cell_type": "code",
   "execution_count": 3,
   "outputs": [
    {
     "data": {
      "text/plain": "<Figure size 640x480 with 1 Axes>",
      "image/png": "[encoded data removed]"
     },
     "metadata": {},
     "output_type": "display_data"
    }
   ],
   "source": [
    "data = [frame.to_numpy() for (_, frame) in all_data_grouped]\n",
    "first_frame = data[0]\n",
    "plt.scatter(first_frame[:, 5], first_frame[:, 4])\n",
    "plt.xlim(-10, 4)\n",
    "plt.ylim(2, 14)\n",
    "plt.show()"
   ],
   "metadata": {
    "collapsed": false,
    "ExecuteTime": {
     "end_time": "2024-05-08T18:58:44.269404600Z",
     "start_time": "2024-05-08T18:58:43.083378100Z"
    }
   },
   "id": "c1cc91187e545248"
  },
  {
   "cell_type": "markdown",
   "source": [
    "#### Split the data"
   ],
   "metadata": {
    "collapsed": false
   },
   "id": "c59cb43360e9ae26"
  },
  {
   "cell_type": "code",
   "execution_count": 4,
   "outputs": [],
   "source": [
    "#TODO: make function that keeps consequent frames together depending of frame_depth\n",
    "\n",
    "shuffled = np.asarray([frame for (_, frame) in all_data_grouped], dtype=\"object\")\n",
    "random.shuffle(shuffled)\n",
    "train, test, val = np.split(shuffled, [int(0.7 * len(shuffled)), int(0.85 * len(shuffled))], axis=0)\n",
    "\n",
    "# Split the train, test and validation sets to features and labels\n",
    "X_train = [df.drop([7,'Label'], axis=1) for df in train]\n",
    "Y_train = [df['Label'] for df in train]\n",
    "\n",
    "X_test = [df.drop([7,'Label'], axis=1) for df in test]\n",
    "Y_test = [df['Label'] for df in test]\n",
    "\n",
    "X_val = [df.drop([7,'Label'], axis=1) for df in val]\n",
    "Y_val = [df['Label'] for df in val]"
   ],
   "metadata": {
    "collapsed": false,
    "ExecuteTime": {
     "end_time": "2024-05-08T18:58:51.351314600Z",
     "start_time": "2024-05-08T18:58:44.274405800Z"
    }
   },
   "id": "79a08a765d2e71a5"
  },
  {
   "cell_type": "code",
   "execution_count": 4,
   "outputs": [],
   "source": [
    "\n",
    "          "
   ],
   "metadata": {
    "collapsed": false,
    "ExecuteTime": {
     "end_time": "2024-05-08T18:58:51.367317900Z",
     "start_time": "2024-05-08T18:58:51.353314500Z"
    }
   },
   "id": "6712d2a0447185f9"
  },
  {
   "cell_type": "code",
   "execution_count": 27,
   "outputs": [
    {
     "name": "stdout",
     "output_type": "stream",
     "text": [
      "116\n"
     ]
    }
   ],
   "source": [
    "class Graph:\n",
    "    def __init__(self, nodes, edges, adjacency_list, global_attr):\n",
    "        self.nodes = nodes\n",
    "        self.edges = edges\n",
    "        self.adjacency_list = adjacency_list\n",
    "        self.global_attr = global_attr\n",
    "        \n",
    "    @staticmethod\n",
    "    def nearest_neighbours(point, previous_frame):\n",
    "        distances = []\n",
    "        for (_, p) in previous_frame.iterrows():\n",
    "            distances.append(np.linalg.norm(point-p))\n",
    "        return np.asarray(distances)\n",
    "        \n",
    "    @staticmethod\n",
    "    def connect_frames(current_frame, previous_frame, k: int, start_index: int):\n",
    "        edges = []\n",
    "        adjacency_list = []\n",
    "        previous_nodes = np.arange(len(previous_frame.index))\n",
    "        for i, (_, point) in enumerate(current_frame.iterrows()):\n",
    "            distances = Graph.nearest_neighbours(point, previous_frame)\n",
    "            idx = distances.argsort()[::-1]\n",
    "            distances = distances[idx]\n",
    "            previous_nodes = previous_nodes[idx]\n",
    "            for j in range(k):\n",
    "                edges.append(distances[j])\n",
    "                adjacency_list.append((i+start_index, previous_nodes[j]+start_index+len(current_frame)))\n",
    "        return edges, adjacency_list\n",
    "        \n",
    "    @staticmethod\n",
    "    def create_graph_list(frames:[DataFrame], k = 1, frame_depth = 2):\n",
    "        graphs = []\n",
    "        for i, frame in enumerate(frames[frame_depth:]):\n",
    "            nodes = []\n",
    "            edges = []\n",
    "            adjacency_list = []\n",
    "            relevant_frames = frames[i: i + frame_depth + 1]\n",
    "            point_data = [rf.drop(6, axis=1) for rf in relevant_frames]\n",
    "            time_distance = relevant_frames[-1].iloc[0, -1] - relevant_frames[0].iloc[0, -1]\n",
    "            if time_distance > frame_depth * 3:\n",
    "                continue\n",
    "            start_index = 0\n",
    "            for depth in range(frame_depth):\n",
    "                pairwise_edges, pairwise_adjacency_list = \\\n",
    "                    Graph.connect_frames(point_data[frame_depth-depth], point_data[frame_depth-depth-1], k, start_index)\n",
    "                start_index += len(relevant_frames[frame_depth-depth])\n",
    "                edges.extend(pairwise_edges)\n",
    "                adjacency_list.extend(pairwise_adjacency_list)\n",
    "                nodes.extend([point.to_numpy() for (_, point) in point_data[frame_depth-depth].iterrows()])\n",
    "            nodes.extend([point.to_numpy() for (_, point) in point_data[0].iterrows()])\n",
    "            graphs.append(Graph(nodes, edges, adjacency_list, []))\n",
    "        return graphs\n",
    "    \n",
    "class GraphVisualization: \n",
    "    \n",
    "    def __init__(self): \n",
    "        self.visual = [] \n",
    "        self.nodes = []\n",
    "    \n",
    "    def addEdge(self, a, b, d): \n",
    "        temp = [a, b, {\"dist\": d}] \n",
    "        self.visual.append(temp) \n",
    "        \n",
    "    def addNode(self, a): \n",
    "        self.nodes.append(a) \n",
    "        \n",
    "    def visualize(self): \n",
    "        gg = nx.Graph() \n",
    "        gg.add_nodes_from(self.nodes)\n",
    "        gg.add_edges_from(self.visual) \n",
    "        nx.draw_networkx(gg) \n",
    "        plt.show() \n",
    "\n",
    "\n",
    "G = GraphVisualization() \n",
    "\n",
    "sorted_X_train= sorted(X_train,key=lambda x:x[6].max(axis=0))\n",
    "tiny = [df.iloc[:15, 2:] for df in sorted_X_train[2:10]]\n",
    "frame_graphs = Graph.create_graph_list(sorted_X_train)\n",
    "print(len(frame_graphs))\n",
    "# for i, _ in enumerate(frame_graphs[0].nodes):\n",
    "#     G.addNode(i)\n",
    "for i, adj in enumerate(frame_graphs[0].adjacency_list):\n",
    "    G.addEdge(adj[0], adj[1], frame_graphs[0].edges[i])\n",
    "    \n",
    "G.visualize() \n"
   ],
   "metadata": {
    "collapsed": false,
    "ExecuteTime": {
     "end_time": "2024-05-08T19:25:12.975428400Z",
     "start_time": "2024-05-08T19:25:09.104429100Z"
    }
   },
   "id": "3fdb835c190a412b"
  },
  {
   "cell_type": "code",
   "execution_count": 6,
   "outputs": [
    {
     "ename": "NameError",
     "evalue": "name 'tiny' is not defined",
     "output_type": "error",
     "traceback": [
      "\u001B[1;31m---------------------------------------------------------------------------\u001B[0m",
      "\u001B[1;31mNameError\u001B[0m                                 Traceback (most recent call last)",
      "Cell \u001B[1;32mIn[6], line 1\u001B[0m\n\u001B[1;32m----> 1\u001B[0m tiny_array \u001B[38;5;241m=\u001B[39m [t\u001B[38;5;241m.\u001B[39mto_numpy() \u001B[38;5;28;01mfor\u001B[39;00m t \u001B[38;5;129;01min\u001B[39;00m \u001B[43mtiny\u001B[49m]\n\u001B[0;32m      3\u001B[0m plt\u001B[38;5;241m.\u001B[39mscatter(tiny_array[\u001B[38;5;241m0\u001B[39m][:, \u001B[38;5;241m3\u001B[39m], tiny_array[\u001B[38;5;241m0\u001B[39m][:, \u001B[38;5;241m2\u001B[39m], c\u001B[38;5;241m=\u001B[39m\u001B[38;5;124m'\u001B[39m\u001B[38;5;124mblue\u001B[39m\u001B[38;5;124m'\u001B[39m)\n\u001B[0;32m      4\u001B[0m plt\u001B[38;5;241m.\u001B[39mscatter(tiny_array[\u001B[38;5;241m1\u001B[39m][:, \u001B[38;5;241m3\u001B[39m], tiny_array[\u001B[38;5;241m1\u001B[39m][:, \u001B[38;5;241m2\u001B[39m], c\u001B[38;5;241m=\u001B[39m\u001B[38;5;124m'\u001B[39m\u001B[38;5;124mred\u001B[39m\u001B[38;5;124m'\u001B[39m)\n",
      "\u001B[1;31mNameError\u001B[0m: name 'tiny' is not defined"
     ]
    }
   ],
   "source": [
    "\n",
    "tiny_array = [t.to_numpy() for t in tiny]\n",
    "\n",
    "plt.scatter(tiny_array[0][:, 3], tiny_array[0][:, 2], c='blue')\n",
    "plt.scatter(tiny_array[1][:, 3], tiny_array[1][:, 2], c='red')\n",
    "plt.scatter(tiny_array[2][:, 3], tiny_array[2][:, 2], c='green')\n",
    "# plt.xlim(-10, 4)\n",
    "# plt.ylim(2, 14)\n",
    "plt.show()"
   ],
   "metadata": {
    "collapsed": false,
    "ExecuteTime": {
     "end_time": "2024-05-08T18:58:58.297587Z",
     "start_time": "2024-05-08T18:58:57.841417600Z"
    }
   },
   "id": "8758fa57d7e7c477"
  },
  {
   "cell_type": "code",
   "execution_count": null,
   "outputs": [],
   "source": [],
   "metadata": {
    "collapsed": false,
    "ExecuteTime": {
     "end_time": "2024-05-08T18:58:58.304112Z",
     "start_time": "2024-05-08T18:58:58.300564900Z"
    }
   },
   "id": "853152cf268acc9b"
  }
 ],
 "metadata": {
  "kernelspec": {
   "display_name": "Python 3 (ipykernel)",
   "language": "python",
   "name": "python3"
  },
  "language_info": {
   "codemirror_mode": {
    "name": "ipython",
    "version": 3
   },
   "file_extension": ".py",
   "mimetype": "text/x-python",
   "name": "python",
   "nbconvert_exporter": "python",
   "pygments_lexer": "ipython3",
   "version": "3.11.5"
  }
 },
 "nbformat": 4,
 "nbformat_minor": 5
}
