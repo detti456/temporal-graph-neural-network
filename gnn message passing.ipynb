{
 "cells": [
  {
   "cell_type": "code",
   "execution_count": 1,
   "metadata": {},
   "outputs": [],
   "source": [
    "import glob\n",
    "import math\n",
    "import random\n",
    "from typing import Callable, Union, Optional\n",
    "\n",
    "import numpy as np\n",
    "import pandas as pd\n",
    "from sklearn.metrics import confusion_matrix\n",
    "from pandas import DataFrame\n",
    "from matplotlib import pyplot as plt\n",
    "import networkx as nx\n",
    "from scipy.spatial import distance as distance_calculator\n",
    "import torch\n",
    "from torch import Tensor\n",
    "from torch_geometric import nn\n",
    "from torch_geometric.loader import DataLoader\n",
    "from torch_geometric.data import Data, InMemoryDataset\n",
    "from torch_geometric.nn import GCNConv, global_max_pool, GATConv\n",
    "import torch.nn.functional as F\n",
    "from torch_geometric.typing import PairTensor, OptTensor\n",
    "from torch_geometric.utils import scatter, to_networkx, add_self_loops\n",
    "import seaborn as sn\n",
    "from torch.nn import Sequential as Seq, Linear as Lin, Dropout, ReLU, BatchNorm1d as BN\n",
    "from torch_geometric.nn.conv import MessagePassing\n",
    "from torch_multi_head_attention import MultiHeadAttention\n",
    "import torch_scatter\n",
    "from torch_cluster import knn"
   ]
  },
  {
   "cell_type": "code",
   "execution_count": 2,
   "metadata": {},
   "outputs": [
    {
     "name": "stdout",
     "output_type": "stream",
     "text": [
      "Largest frame number: 87019891.0\n",
      "Total number of frames: 22209\n"
     ]
    }
   ],
   "source": [
    "random.seed(42)\n",
    "column_names=['range','azimuth','doppler','snr','y','x','current_frame','seq']\n",
    "\n",
    "features0: DataFrame = pd.concat(\n",
    "    [pd.read_csv(filename, names=column_names, header=None, dtype=float) for filename in glob.glob(\"data/0/0/*.csv\")])\n",
    "features0.insert(8, \"Label\", np.zeros(len(features0), dtype=int), True)\n",
    "max_frame = max(features0[\"current_frame\"])\n",
    "\n",
    "features1: DataFrame = pd.concat(\n",
    "    [pd.read_csv(filename, names=column_names, header=None, dtype=float) for filename in glob.glob(\"data/1/1/*.csv\")])\n",
    "features1.insert(8, \"Label\", np.ones(len(features1), dtype=int), True)\n",
    "min_frame = min(features1[\"current_frame\"])\n",
    "shift = max_frame-min_frame+10\n",
    "features1[\"current_frame\"] += shift\n",
    "max_frame = max(features1[\"current_frame\"])\n",
    "\n",
    "features2: DataFrame = pd.concat(\n",
    "    [pd.read_csv(filename, names=column_names, header=None, dtype=float) for filename in glob.glob(\"data/2/2/*.csv\")])\n",
    "features2.insert(8, \"Label\", np.full(len(features2), 2, dtype=int), True)\n",
    "min_frame = min(features2[\"current_frame\"])\n",
    "shift = max_frame-min_frame+10\n",
    "features2[\"current_frame\"] += shift\n",
    "max_frame = max(features2[\"current_frame\"])\n",
    "\n",
    "features3: DataFrame = pd.concat(\n",
    "    [pd.read_csv(filename, names=column_names, header=None, dtype=float) for filename in glob.glob(\"data/3/3/*.csv\")])\n",
    "features3.insert(8, \"Label\", np.full(len(features3), 3, dtype=int), True)\n",
    "min_frame = min(features3[\"current_frame\"])\n",
    "shift = max_frame-min_frame+10\n",
    "features3[\"current_frame\"] += shift\n",
    "max_frame = max(features3[\"current_frame\"])\n",
    "\n",
    "features4: DataFrame = pd.concat(\n",
    "    [pd.read_csv(filename, names=column_names, header=None, dtype=float) for filename in glob.glob(\"data/4/4/*.csv\")])\n",
    "features4.insert(8, \"Label\", np.full(len(features4), 4, dtype=int), True)\n",
    "min_frame = min(features4[\"current_frame\"])\n",
    "shift = max_frame-min_frame+10\n",
    "features4[\"current_frame\"] += shift\n",
    "max_frame = max(features4[\"current_frame\"])\n",
    "\n",
    "features5: DataFrame = pd.concat(\n",
    "    [pd.read_csv(filename, names=column_names, header=None, dtype=float) for filename in glob.glob(\"data/bigger/bigger/*.csv\")])\n",
    "features5.insert(8, \"Label\", np.full(len(features5), 5, dtype=int), True)\n",
    "min_frame = min(features5[\"current_frame\"])\n",
    "shift = max_frame-min_frame+10\n",
    "features5[\"current_frame\"] += shift\n",
    "max_frame = max(features5[\"current_frame\"])\n",
    "\n",
    "all_data = pd.concat([features0, features1, features2, features3, features4, features5])\n",
    "\n",
    "all_data_grouped = all_data.groupby(\"current_frame\")\n",
    "print(\"Largest frame number: \"+str(max_frame))\n",
    "print(\"Total number of frames: \"+str(len(all_data_grouped)))"
   ]
  },
  {
   "cell_type": "code",
   "execution_count": 3,
   "metadata": {},
   "outputs": [],
   "source": [
    "device = torch.device('cuda' if torch.cuda.is_available() else 'cpu')"
   ]
  },
  {
   "cell_type": "code",
   "execution_count": 4,
   "metadata": {},
   "outputs": [],
   "source": [
    "def connect_frames(current_frame, previous_frame, k: int, start_index: int):\n",
    "    \"\"\"\n",
    "    Calculates the edges between two frames. \n",
    "    \n",
    "    :param current_frame: The current frame containing parameters to calculate the distance based on \n",
    "    :param previous_frame: The previous frame containing parameters to calculate the distance based on \n",
    "    :param k: The number of nearest neighbours to have in the graph\n",
    "    :param start_index: The index to start labeling the nodes from\n",
    "    :return: The values (distance between points) of the edges and an adjacency list containing the nodes that are connected in the graph\n",
    "    \"\"\"\n",
    "    edges = []\n",
    "    adjacency_list = []\n",
    "    previous_nodes = np.arange(len(previous_frame))\n",
    "    for i, point in enumerate(current_frame):\n",
    "        distances = distance_calculator.cdist([point], previous_frame, 'euclidean')[0]\n",
    "        idx = distances.argsort()[::-1]\n",
    "        distances = 1/(distances[idx]+0.00000001)\n",
    "        previous_nodes = previous_nodes[idx]\n",
    "        neighbours = k\n",
    "        if len(distances) < k:\n",
    "            neighbours = len(distances)\n",
    "        for j in range(neighbours):\n",
    "            edges.append(distances[j])\n",
    "            adjacency_list.append((i+start_index, previous_nodes[j]+start_index+len(current_frame)))\n",
    "    return edges, adjacency_list\n",
    "\n",
    "def create_graph_list(frames:[DataFrame], k = 1, frame_depth = 2):\n",
    "    \"\"\"\n",
    "    Creates a list of Data objects that represents the graphs build from the input data. The edges in the graph connects the frames to the previous frame by connecting each points in a frame to it's nearest neighbour in the previous frame. The nodes contain information about: doppler, snr, y and x. The edges store information about the distance between the points (closer points have higher value).\n",
    "    \n",
    "    :param frames: input data grouped and sorted by the frame number\n",
    "    :param k: the number of nearest neighbours to connect each points to\n",
    "    :param frame_depth: the number of frames, one graph should contain\n",
    "    :return: a list of Data objects, containing information about the created graphs\n",
    "    \"\"\"\n",
    "    graphs = []\n",
    "    for i, frame in enumerate(frames[frame_depth:]):\n",
    "        nodes = []\n",
    "        edges = []\n",
    "        adjacency_list = []\n",
    "        relevant_frames = frames[i: i + frame_depth + 1]\n",
    "        point_data = [rf[['doppler','snr','y','x','current_frame']] for rf in relevant_frames]\n",
    "        time_distance = relevant_frames[-1].iloc[0, 6] - relevant_frames[0].iloc[0, 6]\n",
    "        if time_distance > frame_depth * 3:\n",
    "            continue\n",
    "        point_data_array = [df.to_numpy() for df in point_data]\n",
    "        start_index = 0\n",
    "        for depth in range(frame_depth):\n",
    "            pairwise_edges, pairwise_adjacency_list = \\\n",
    "                connect_frames(point_data_array[frame_depth-depth][:, :4], point_data_array[frame_depth-depth-1][:, :4], k, start_index)\n",
    "            start_index += len(relevant_frames[frame_depth-depth])\n",
    "            # pairwise_edges = pairwise_edges / np.linalg.norm(pairwise_edges)\n",
    "            edges.extend(pairwise_edges)\n",
    "            adjacency_list.extend(pairwise_adjacency_list)\n",
    "            nodes.extend(point_data_array[frame_depth-depth])\n",
    "        nodes.extend(point_data_array[0])\n",
    "        label = frame[\"Label\"].values[0]\n",
    "        # edges = F.softmax(torch.tensor(np.array(edges), dtype=torch.float), dim=0)\n",
    "        \n",
    "        graphs.append(Data(x=torch.tensor(np.array(nodes), dtype=torch.float, device=device), \n",
    "                    edge_index=torch.tensor(np.array(adjacency_list), dtype=torch.int64, device=device).t().contiguous(),\n",
    "                    edge_attr=torch.tensor(np.array(edges), dtype=torch.float, device=device),\n",
    "                    y=torch.tensor(label, dtype=torch.int64, device=device)))\n",
    "    return graphs\n"
   ]
  },
  {
   "cell_type": "code",
   "execution_count": 5,
   "metadata": {},
   "outputs": [],
   "source": [
    "data_array = np.asarray([frame for (_, frame) in all_data_grouped], dtype=\"object\")\n",
    "sorted_data= sorted(data_array,key=lambda x:x[\"current_frame\"].max(axis=0))"
   ]
  },
  {
   "cell_type": "code",
   "execution_count": 6,
   "metadata": {},
   "outputs": [],
   "source": [
    "# frame_graphs = create_graph_list(sorted_data, k=2)"
   ]
  },
  {
   "cell_type": "code",
   "execution_count": 7,
   "metadata": {},
   "outputs": [],
   "source": [
    "# torch.save(frame_graphs, \"data/frame_graphs.pt\")"
   ]
  },
  {
   "cell_type": "code",
   "execution_count": 8,
   "metadata": {},
   "outputs": [
    {
     "name": "stdout",
     "output_type": "stream",
     "text": [
      "16461\n"
     ]
    }
   ],
   "source": [
    "frame_graphs = torch.load(\"data/frame_graphs.pt\")\n",
    "print(len(frame_graphs))"
   ]
  },
  {
   "cell_type": "code",
   "execution_count": 33,
   "metadata": {},
   "outputs": [],
   "source": [
    "random.seed(42)\n",
    "random.shuffle(frame_graphs)\n",
    "train = frame_graphs[:int(0.7 * len(frame_graphs))]\n",
    "test = frame_graphs[int(0.7 * len(frame_graphs)):int(0.85 * len(frame_graphs))]\n",
    "val = frame_graphs[int(0.85 * len(frame_graphs)):]\n",
    "\n",
    "train_dataloader = DataLoader(train[:1000], batch_size=32, shuffle=True, num_workers = 4) \n",
    "test_dataloader = DataLoader(test[:300], batch_size=32, shuffle=True, num_workers = 4) "
   ]
  },
  {
   "cell_type": "code",
   "execution_count": 18,
   "metadata": {},
   "outputs": [],
   "source": [
    "def MLP(channels, batch_norm=True):\n",
    "    return Seq(*[\n",
    "        Seq(Lin(channels[i - 1], channels[i]), ReLU(), BN(channels[i]))\n",
    "        for i in range(1, len(channels))\n",
    "    ])\n",
    "\n",
    "def reset(nn):\n",
    "    def _reset(item):\n",
    "        if hasattr(item, 'reset_parameters'):\n",
    "            item.reset_parameters()\n",
    "\n",
    "    if nn is not None:\n",
    "        if hasattr(nn, 'children') and len(list(nn.children())) > 0:\n",
    "            for item in nn.children():\n",
    "                _reset(item)\n",
    "        else:\n",
    "            _reset(nn)\n",
    "            \n",
    "class GeneralizedTemporalSelfAttentionDynamicEdgeConv(MessagePassing):\n",
    "    def __init__(self, nn: Callable, \n",
    "                 aggr: str = 'mean',\n",
    "                 **kwargs):\n",
    "        super(GeneralizedTemporalSelfAttentionDynamicEdgeConv,\n",
    "              self).__init__(aggr=aggr, flow='source_to_target', **kwargs)\n",
    "\n",
    "        self.nn = nn\n",
    "        self.reset_parameters()\n",
    "\n",
    "    def reset_parameters(self):\n",
    "        # reset(self.multihead_attn)\n",
    "        reset(self.nn)\n",
    "\n",
    "    def forward(self, data) -> Tensor:\n",
    "        edge_index = add_self_loops(data.edge_index, num_nodes=data.x.size(0))\n",
    "        # print(edge_index)\n",
    "        return self.propagate(data.edge_index, x=data.x, size=None, batch=data.batch)\n",
    "\n",
    "    def message(self, x_i: Tensor, x_j: Tensor) -> Tensor:\n",
    "        return self.nn(torch.cat([x_j, x_i - x_j], dim=1))\n",
    "\n",
    "    # def aggregate(self, inputs: Tensor, index: Tensor) -> Tensor:\n",
    "\n",
    "    #     return scatter(inputs, index, 0, reduce=self.aggr)\n"
   ]
  },
  {
   "cell_type": "code",
   "execution_count": 34,
   "metadata": {},
   "outputs": [],
   "source": [
    "class Net2(torch.nn.Module):\n",
    "    def __init__(self, out_channels, graph_convolution_layers=2, T=1, k=4, spatio_temporal_factor=0.01, aggr='max'):\n",
    "        super().__init__()\n",
    "        self.graph_convolution_layers = graph_convolution_layers\n",
    "\n",
    "\n",
    "        self.conv1 = GeneralizedTemporalSelfAttentionDynamicEdgeConv(nn=MLP([2*5, 64]))\n",
    "        # self.conv2 = GeneralizedTemporalSelfAttentionDynamicEdgeConv(nn=MLP([2 * 64, 128]),\n",
    "        #                                                              attention_in_features=128,\n",
    "        #                                                              head_num=8,\n",
    "        #                                                              k=k,\n",
    "        #                                                              spatio_temporal_factor=spatio_temporal_factor,\n",
    "        #                                                              aggr=aggr,\n",
    "        #                                                              T=T)\n",
    "        # self.conv3 = GeneralizedTemporalSelfAttentionDynamicEdgeConv(nn=MLP([2 * 128, 256]),\n",
    "        #                                                              attention_in_features=256,\n",
    "        #                                                              head_num=8,\n",
    "        #                                                              k=k,\n",
    "        #                                                              spatio_temporal_factor=spatio_temporal_factor,\n",
    "        #                                                              aggr=aggr,\n",
    "        #                                                              T=T)\n",
    "        # assert 1 <= graph_convolution_layers <= 3\n",
    "        # if graph_convolution_layers == 3:\n",
    "        #     self.lin1 = MLP([256 + 128 + 64, 1024])\n",
    "        # elif graph_convolution_layers == 2:\n",
    "        #     self.lin1 = MLP([128 + 64, 1024])\n",
    "        # elif graph_convolution_layers == 1:\n",
    "        self.lin1 = MLP([64, 1024])\n",
    "\n",
    "        self.mlp = Seq(\n",
    "            MLP([1024, 512]), Dropout(0.5), MLP([512, 256]), Dropout(0.5),\n",
    "            Lin(256, out_channels))\n",
    "\n",
    "    def forward(self, data):\n",
    "        # sequence_numbers, pos, batch = data.x[:, 0].float(), data.pos.float(), data.batch\n",
    "        # pos = pos.reshape(len(torch.unique(data.batch)), -1, 3).transpose(2, 1)\n",
    "        # trans = self.stn(pos)\n",
    "        # pos = pos.transpose(2, 1)\n",
    "        # pos = torch.bmm(pos, trans)\n",
    "        # pos = pos.reshape(-1, 3)\n",
    "        # if self.graph_convolution_layers == 3:\n",
    "        #     x1 = self.conv1(data.x, data.edge_index, data.batch)\n",
    "        #     x2 = self.conv2(x1, data.edge_index, data.batch)\n",
    "        #     x3 = self.conv3(x2, data.edge_index, data.batch)\n",
    "        #     out = self.lin1(torch.cat([x1, x2, x3], dim=1))\n",
    "        # elif self.graph_convolution_layers == 2:\n",
    "        #     x1 = self.conv1(data.x, data.edge_index, data.batch)\n",
    "        #     x2 = self.conv2(x1, data.edge_index, data.batch)\n",
    "        #     out = self.lin1(torch.cat([x1, x2], dim=1))\n",
    "        # else:\n",
    "            # x1 = self.conv1(data.x, data.edge_index, data.batch)\n",
    "        # assert data.x.size(0) == len(data.batch), \"output size not matching the batch size\"\n",
    "        x1 = self.conv1(data)\n",
    "        # x1 = F.relu(x1)\n",
    "        # x1 = F.dropout(x1, training=self.training)\n",
    "        # x1 = self.gatconv2(x1, data.edge_index, edge_attr=data.edge_attr) # edge features here as well\n",
    "        # assert x1.size(0) == len(data.batch), \"output size not matching the batch size\"\n",
    "        out = self.lin1(x1)\n",
    "        # out = global_max_pool(out, data.batch)\n",
    "        # assert out.size(0) == len(data.batch), \"output size not matching the batch size\"\n",
    "        out = self.mlp(out)\n",
    "        # assert out.size(0) == len(data.batch), \"output size not matching the batch size\"\n",
    "        out = scatter(src=out, index=data.batch, dim=0, reduce='mean')\n",
    "        return F.log_softmax(out, dim=1)"
   ]
  },
  {
   "cell_type": "code",
   "execution_count": 35,
   "metadata": {},
   "outputs": [],
   "source": [
    "model = Net2(6, graph_convolution_layers=1).to(device)\n",
    "optimizer = torch.optim.Adam(model.parameters(), lr=0.01, weight_decay=5e-4)\n",
    "scheduler = torch.optim.lr_scheduler.StepLR(optimizer, step_size=20, gamma=0.5)\n",
    "\n",
    "\n",
    "model.train()\n",
    "losses = []\n",
    "correct = 0\n",
    "count = 0\n",
    "accuracies = []\n",
    "for epoch in range(100):\n",
    "    for train_batch in train_dataloader:\n",
    "        train_batch = train_batch.to(device)\n",
    "        optimizer.zero_grad()\n",
    "        out = model(train_batch)\n",
    "        pred = out.argmax(dim=1)\n",
    "        correct += (pred == train_batch.y).sum()\n",
    "        loss = F.nll_loss(out, train_batch.y)\n",
    "        losses.append(loss.detach())\n",
    "        loss.backward()\n",
    "        optimizer.step()\n",
    "        count += len(train_batch)\n",
    "        acc = int(correct) / count\n",
    "        accuracies.append(acc)\n",
    "    scheduler.step()"
   ]
  },
  {
   "cell_type": "code",
   "execution_count": 36,
   "metadata": {},
   "outputs": [
    {
     "data": {
      "image/png": "[encoded data removed]",
      "text/plain": [
       "<Figure size 640x480 with 1 Axes>"
      ]
     },
     "metadata": {},
     "output_type": "display_data"
    },
    {
     "name": "stdout",
     "output_type": "stream",
     "text": [
      "Accuracy: 0.6325\n",
      "Loss: tensor(0.6304)\n"
     ]
    }
   ],
   "source": [
    "losses = [tensor.cpu() for tensor in losses]\n",
    "\n",
    "plt.plot(losses, c=\"blue\")\n",
    "plt.plot(accuracies, c=\"red\")\n",
    "plt.title(\"Loss of the training\")\n",
    "plt.ylabel(\"Loss\")\n",
    "plt.xlabel(\"Iteration\")\n",
    "plt.show()\n",
    "\n",
    "print(\"Accuracy: \"+str(accuracies[-1]))\n",
    "print(\"Loss: \"+str(losses[-1]))"
   ]
  },
  {
   "cell_type": "code",
   "execution_count": 37,
   "metadata": {},
   "outputs": [
    {
     "name": "stdout",
     "output_type": "stream",
     "text": [
      "Accuracy: 0.6700\n"
     ]
    }
   ],
   "source": [
    "model.eval()\n",
    "total_y_pred_label = []\n",
    "total_y_true_label = []\n",
    "correct = 0\n",
    "for test_batch in test_dataloader:\n",
    "    test_batch = test_batch.to(device)\n",
    "    pred = model(test_batch).argmax(dim=1)\n",
    "    total_y_pred_label.extend(pred)\n",
    "    total_y_true_label.extend(test_batch.y)\n",
    "    # print(\"Predicted: \" + str(pred) + \", real: \"+ str(test_batch.y))\n",
    "    correct += (pred == test_batch.y).sum()\n",
    "acc = int(correct) / 300\n",
    "print(f'Accuracy: {acc:.4f}')"
   ]
  },
  {
   "cell_type": "code",
   "execution_count": 38,
   "metadata": {},
   "outputs": [
    {
     "name": "stdout",
     "output_type": "stream",
     "text": [
      "[[ 0  0  0  0  0  0]\n",
      " [ 0 12 54  0  0  0]\n",
      " [ 0  0 93  1  0  0]\n",
      " [ 0  0  0 50  0  0]\n",
      " [ 0  0  0 44  0  0]\n",
      " [ 0  0  0  0  0 46]]\n"
     ]
    },
    {
     "data": {
      "text/plain": [
       "Text(0.5, 47.7222222222222, 'Predicated Label')"
      ]
     },
     "execution_count": 38,
     "metadata": {},
     "output_type": "execute_result"
    },
    {
     "data": {
      "image/png": "[encoded data removed]",
      "text/plain": [
       "<Figure size 1000x700 with 2 Axes>"
      ]
     },
     "metadata": {},
     "output_type": "display_data"
    }
   ],
   "source": [
    "SHAPE_NAMES = [0,1,2,3,4,5]\n",
    "total_y_pred = [pred_label.item() for pred_label in total_y_pred_label]\n",
    "total_y_true = [true_label.item() for true_label in total_y_true_label]\n",
    "cm = confusion_matrix(total_y_true, total_y_pred, labels=SHAPE_NAMES)\n",
    "print(cm)\n",
    "# cm = (cm.astype('float') / cm.sum(axis=1)[:, np.newaxis]) * 100\n",
    "\n",
    "df_cm = pd.DataFrame(cm, index = SHAPE_NAMES,\n",
    "              columns = SHAPE_NAMES)\n",
    "plt.figure(figsize = (10,7))\n",
    "plot = sn.heatmap(df_cm, annot=True, cmap='Blues')\n",
    "figure = plot.get_figure()\n",
    "plt.ylabel('True Label')\n",
    "plt.xlabel('Predicated Label')"
   ]
  },
  {
   "cell_type": "code",
   "execution_count": null,
   "metadata": {},
   "outputs": [],
   "source": []
  }
 ],
 "metadata": {
  "kernelspec": {
   "display_name": ".venv",
   "language": "python",
   "name": "python3"
  },
  "language_info": {
   "codemirror_mode": {
    "name": "ipython",
    "version": 3
   },
   "file_extension": ".py",
   "mimetype": "text/x-python",
   "name": "python",
   "nbconvert_exporter": "python",
   "pygments_lexer": "ipython3",
   "version": "3.10.12"
  }
 },
 "nbformat": 4,
 "nbformat_minor": 2
}
