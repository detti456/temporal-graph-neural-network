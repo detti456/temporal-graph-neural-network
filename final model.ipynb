{
 "cells": [
  {
   "cell_type": "code",
   "execution_count": 1,
   "metadata": {},
   "outputs": [],
   "source": [
    "import glob\n",
    "import random\n",
    "from typing import Callable, Optional, List\n",
    "\n",
    "import numpy as np\n",
    "import pandas as pd\n",
    "from sklearn.metrics import confusion_matrix\n",
    "from pandas import DataFrame\n",
    "from matplotlib import pyplot as plt\n",
    "from scipy.spatial import distance as distance_calculator\n",
    "import torch\n",
    "from torch import Tensor\n",
    "from torch_geometric import nn\n",
    "from torch_geometric.loader import DataLoader\n",
    "from torch_geometric.data import Data\n",
    "import torch.nn.functional as F\n",
    "from torch_geometric.utils import scatter\n",
    "import seaborn as sn\n",
    "from torch.nn import Sequential as Seq, Linear as Lin, Dropout, ReLU, BatchNorm1d as BN\n",
    "from torch_geometric.nn.conv import MessagePassing\n",
    "from torch_multi_head_attention import MultiHeadAttention\n",
    "import time"
   ]
  },
  {
   "cell_type": "markdown",
   "metadata": {},
   "source": [
    "#### Loading the data\n",
    "In each files, the frame numbers are shifted to come after the largest frame number in the previous file. This way all frame numbers are unique.\n",
    "\n",
    "The dataset contains frames of 1 to 5 people.\n"
   ]
  },
  {
   "cell_type": "code",
   "execution_count": 2,
   "metadata": {},
   "outputs": [
    {
     "name": "stdout",
     "output_type": "stream",
     "text": [
      "Number of data points: 1316527\n",
      "Largest frame number: 87079187.0\n",
      "Total number of frames: 23238\n"
     ]
    }
   ],
   "source": [
    "random.seed(42)\n",
    "column_names=['range','azimuth','doppler','snr','x','y','current_frame','seq']\n",
    "\n",
    "features1: DataFrame = pd.concat(\n",
    "    [pd.read_csv(filename, names=column_names, header=None, dtype=float) for filename in glob.glob(\"data/1/1/*.csv\")])\n",
    "features1.insert(8, \"Label\", np.zeros(len(features1), dtype=int), True)\n",
    "max_frame = max(features1[\"current_frame\"])\n",
    "\n",
    "features2: DataFrame = pd.concat(\n",
    "    [pd.read_csv(filename, names=column_names, header=None, dtype=float) for filename in glob.glob(\"data/2/2/*.csv\")])\n",
    "features2.insert(8, \"Label\", np.full(len(features2), 1, dtype=int), True)\n",
    "min_frame = min(features2[\"current_frame\"])\n",
    "shift = max_frame-min_frame+10\n",
    "features2[\"current_frame\"] += shift\n",
    "max_frame = max(features2[\"current_frame\"])\n",
    "\n",
    "features3: DataFrame = pd.concat(\n",
    "    [pd.read_csv(filename, names=column_names, header=None, dtype=float) for filename in glob.glob(\"data/3/3/*.csv\")])\n",
    "features3.insert(8, \"Label\", np.full(len(features3), 2, dtype=int), True)\n",
    "min_frame = min(features3[\"current_frame\"])\n",
    "shift = max_frame-min_frame+10\n",
    "features3[\"current_frame\"] += shift\n",
    "max_frame = max(features3[\"current_frame\"])\n",
    "\n",
    "features4: DataFrame = pd.concat(\n",
    "    [pd.read_csv(filename, names=column_names, header=None, dtype=float) for filename in glob.glob(\"data/4/4/*.csv\")])\n",
    "features4.insert(8, \"Label\", np.full(len(features4), 3, dtype=int), True)\n",
    "min_frame = min(features4[\"current_frame\"])\n",
    "shift = max_frame-min_frame+10\n",
    "features4[\"current_frame\"] += shift\n",
    "max_frame = max(features4[\"current_frame\"])\n",
    "\n",
    "features5: DataFrame = pd.concat(\n",
    "    [pd.read_csv(filename, names=column_names, header=None, dtype=float) for filename in glob.glob(\"data/bigger/bigger/*.csv\")])\n",
    "features5.insert(8, \"Label\", np.full(len(features5), 4, dtype=int), True)\n",
    "min_frame = min(features5[\"current_frame\"])\n",
    "shift = max_frame-min_frame+10\n",
    "features5[\"current_frame\"] += shift\n",
    "max_frame = max(features5[\"current_frame\"])\n",
    "\n",
    "features_bikes: DataFrame = pd.concat(\n",
    "    [pd.read_csv(filename, names=column_names, header=None, dtype=float) for filename in glob.glob(\"data/bikes/bikes/*.csv\")])\n",
    "features_bikes.insert(8, \"Label\", np.full(len(features_bikes), 5, dtype=int), True)\n",
    "min_frame = min(features_bikes[\"current_frame\"])\n",
    "shift = max_frame-min_frame+10\n",
    "features_bikes[\"current_frame\"] += shift\n",
    "max_frame = max(features_bikes[\"current_frame\"])\n",
    "\n",
    "all_data = pd.concat([features1, features2, features3, features4, features5, features_bikes])\n",
    "all_data.drop_duplicates(subset=['range','azimuth','doppler','snr','y','x','current_frame','Label'], inplace=True, ignore_index=True)\n",
    "print(\"Number of data points: \"+str(len(all_data)))\n",
    "\n",
    "# group the data by frame numbers\n",
    "all_data_grouped = all_data.groupby(\"current_frame\")\n",
    "print(\"Largest frame number: \"+str(max_frame))\n",
    "print(\"Total number of frames: \"+str(len(all_data_grouped)))"
   ]
  },
  {
   "cell_type": "markdown",
   "metadata": {},
   "source": [
    "#### Hyperparameters"
   ]
  },
  {
   "cell_type": "code",
   "execution_count": 2,
   "metadata": {},
   "outputs": [
    {
     "name": "stderr",
     "output_type": "stream",
     "text": [
      "/home/detti/research-project/.venv/lib/python3.10/site-packages/torch/cuda/__init__.py:138: UserWarning: CUDA initialization: Unexpected error from cudaGetDeviceCount(). Did you run some cuda functions before calling NumCudaDevices() that might have already set an error? Error 803: system has unsupported display driver / cuda driver combination (Triggered internally at ../c10/cuda/CUDAFunctions.cpp:108.)\n",
      "  return torch._C._cuda_getDeviceCount() > 0\n"
     ]
    }
   ],
   "source": [
    "device = torch.device('cuda' if torch.cuda.is_available() else 'cpu')\n",
    "reduced_cols = ['doppler','snr','x','y','current_frame','Label']\n",
    "column_names=['range','azimuth','doppler','snr','x','y','current_frame','seq', 'Label']\n",
    "selected_cols = ['doppler','snr','x','y']\n",
    "SHAPE_NAMES = [0,1,2,3,4, 5]\n",
    "frame_depths = [5] \n",
    "ks = [6]\n",
    "num_chunks = 16\n",
    "lr = 0.001\n",
    "max_epoch = 100\n",
    "EARLY_STOPPING_PATIENCE = 15\n",
    "train, val, test =[],[],[]"
   ]
  },
  {
   "cell_type": "code",
   "execution_count": 3,
   "metadata": {},
   "outputs": [
    {
     "name": "stdout",
     "output_type": "stream",
     "text": [
      "cpu\n"
     ]
    }
   ],
   "source": [
    "print(device)"
   ]
  },
  {
   "cell_type": "markdown",
   "metadata": {},
   "source": [
    "\n",
    "#### Utils"
   ]
  },
  {
   "cell_type": "code",
   "execution_count": 5,
   "metadata": {},
   "outputs": [],
   "source": [
    "def split_with_chunks(data_array: List[DataFrame], labels: List[int], num_chunks:int, val_frac:float, test_frac:float):\n",
    "    \"\"\"\n",
    "    Divides the dataset into train, test and validition sets. \n",
    "    This done by dividing each label's data into n chunks \n",
    "    and from each chunk the last val_frac and test_frac amount is moved to validation and test sets.\n",
    "\n",
    "    :param data_array: The array containing the data\n",
    "    :param labels: The labels found in the dataset\n",
    "    :param num_chunks: The number of chunks to divide the data to\n",
    "    :param val_frac: Fraction of validation set size (between 0 and 1)\n",
    "    :param test_frac: Fraction of test set size (between 0 and 1)\n",
    "    :return: The train, validation and test set\n",
    "    \"\"\"\n",
    "    train_frac = 1 - val_frac - test_frac\n",
    "    train = []\n",
    "    test = []\n",
    "    val =[]\n",
    "    label_values = np.array([data.iloc[0,5] for data in data_array])\n",
    "\n",
    "    for label in labels:\n",
    "        itemindex = np.where(label_values == label)\n",
    "        frames = [data_array[i] for i in itemindex[0]]\n",
    "        chunk_size = int(len(frames) / num_chunks)\n",
    "        chunk_indexes = [i*chunk_size for i in range(num_chunks)]\n",
    "        chunk_indexes.append(len(frames))\n",
    "\n",
    "        for chunk in range(num_chunks):\n",
    "            data_chunk = frames[chunk_indexes[chunk] : chunk_indexes[chunk+1]]\n",
    "            train.extend(data_chunk[:int(train_frac * len(data_chunk))])\n",
    "            val.extend(data_chunk[int(train_frac * len(data_chunk)):int((train_frac + val_frac) * len(data_chunk))])\n",
    "            test.extend(data_chunk[int((train_frac + val_frac) * len(data_chunk)):])\n",
    "\n",
    "    assert len(train)+len(val)+len(test) == len(data_array)\n",
    "    return train, val, test\n",
    "\n"
   ]
  },
  {
   "cell_type": "code",
   "execution_count": 6,
   "metadata": {},
   "outputs": [],
   "source": [
    "def min_max_normalization(frames:List[DataFrame], selected_cols:List[str]):\n",
    "    \"\"\"\n",
    "    Normalizes the data by appliying min-max normalization on each feature given in 'selected_cols'.\n",
    "\n",
    "    :param frames: The dataset to normalize\n",
    "    :param selected_cols: The names of the columns to normalize\n",
    "    :return: The normalized features together with the sequence numbers and labels.\n",
    "    \"\"\"\n",
    "    min_max = [(data[selected_cols].min(), data[selected_cols].max()) for data in frames]\n",
    "    min_dict = min_max[0][0]\n",
    "    max_dict = min_max[0][1]\n",
    "    for mm in min_max[1:]:\n",
    "        for key, value in mm[0].items():\n",
    "            min_dict[key] = min(min_dict[key], value)\n",
    "        for key, value in mm[1].items():\n",
    "            max_dict[key] = max(max_dict[key], value)\n",
    "\n",
    "    normalized_frames = [(frames[i][selected_cols]-min_dict)/(max_dict-min_dict) for i in range(len(frames))]\n",
    "    normalized_frames = [pd.concat([normalized_frames[i], frame[['current_frame','Label']]], axis=1) for i, frame in enumerate(frames)]\n",
    "    return normalized_frames\n",
    "\n",
    "def connect_frames(current_frame:List[np.array], next_frame:List[np.array], k: int, start_index: int, descending:bool = True):\n",
    "    \"\"\"\n",
    "    Calculates the edges between two frames. \n",
    "    \n",
    "    :param current_frame: The current frame containing parameters to calculate the distance based on \n",
    "    :param next_frame: The previous frame containing parameters to calculate the distance based on \n",
    "    :param k: The number of neighbours to have in the graph\n",
    "    :param start_index: The index to start labeling the nodes from\n",
    "    :param descending: Indicates whether to connect nearest neighbours or furthest neighbours\n",
    "    :return: The values (euclidean distance between points) of the edges and an adjacency list containing the nodes that are connected in the graph. \n",
    "            It also returns a boolean indicating whether the creation was successful or not.\n",
    "    \"\"\"\n",
    "    edges = []\n",
    "    adjacency_list = []\n",
    "    current_nodes = np.arange(start_index, start_index+len(current_frame)) \n",
    "    next_nodes = np.arange(start_index+len(current_frame), start_index+len(current_frame)+len(next_frame))\n",
    "    distances_all  = distance_calculator.cdist(current_frame, next_frame, 'euclidean')\n",
    "    for i in range(len(current_frame)):\n",
    "        distances = distances_all[i]\n",
    "        if descending:\n",
    "            idx = distances.argsort()[::-1]\n",
    "        else:\n",
    "            idx = distances.argsort()\n",
    "        distances = distances[idx]\n",
    "        ordered_next_nodes = next_nodes[idx]\n",
    "        if len(distances) < k:\n",
    "            return [], [], False\n",
    "        \n",
    "        edges.extend(distances[:k])\n",
    "        for j in range(k):\n",
    "            adjacency_list.append((current_nodes[i], ordered_next_nodes[j]))\n",
    "    return edges, adjacency_list, True\n",
    "\n",
    "def create_graph_list_with_overlap(frames:List[DataFrame], selected_cols:List[str], device:str,\n",
    "                                   k:int = 3, frame_depth:int = 2, descending:bool = True):\n",
    "    \"\"\"\n",
    "    Creates a list of Data objects that represents the graphs built from the input data. \n",
    "    The edges in the graph connects the frames to the previous frame by connecting each \n",
    "    points in a frame to it's nearest/furthest neighbour in the previous frame. \n",
    "    The nodes contain information about the selected columns. \n",
    "    The edges store information about the eucledian distance between the points.\n",
    "    \n",
    "    :param frames: Input data grouped and sorted by the frame number\n",
    "    :param device: The device to store the graphs on (cuda or cpu)\n",
    "    :param selected_cols: The names of the columns to make nodes out of\n",
    "    :param k: The number of neighbours to connect each points to\n",
    "    :param frame_depth: The depth of the graph (number of previos nodes)\n",
    "    :param descending: Indicates whether to connect nearest neighbours or furthest neighbours\n",
    "    :return: A list of Data objects, containing information about the created graphs\n",
    "    \"\"\"\n",
    "    if len(frames) == 0:\n",
    "        return []\n",
    "    graphs = []\n",
    "    for i, frame in enumerate(frames[frame_depth:]):\n",
    "        nodes = []\n",
    "        edges = []\n",
    "        adjacency_list = []\n",
    "        relevant_frames = frames[i: i + frame_depth + 1]\n",
    "        point_data = [rf[selected_cols] for rf in relevant_frames]\n",
    "        # time_distance = relevant_frames[-1].iloc[0, 4] - relevant_frames[0].iloc[0, 4]\n",
    "\n",
    "        # only make graphs if the gap between any two frames is at most 6 and all frames have the same label\n",
    "        frame_diff = [relevant_frames[i+1].iloc[0, 4] - relevant_frames[i].iloc[0, 4] for i in range(frame_depth)]\n",
    "        if max(frame_diff) > 6 or relevant_frames[-1].iloc[0, 5] != relevant_frames[0].iloc[0, 5]:\n",
    "            continue\n",
    "\n",
    "        point_data_array = [df.to_numpy() for df in point_data]\n",
    "        start_index = 0\n",
    "        for depth in range(frame_depth):\n",
    "            #calculate the distance for the edges based on the x and y coordinates\n",
    "            pairwise_edges, pairwise_adjacency_list, success = \\\n",
    "                connect_frames(point_data_array[frame_depth-depth][:,2:4], point_data_array[frame_depth-depth-1][:,2:4], k, start_index, descending)\n",
    "            if not success:\n",
    "                break\n",
    "            start_index += len(relevant_frames[frame_depth-depth])\n",
    "            edges.extend(pairwise_edges)\n",
    "            adjacency_list.extend(pairwise_adjacency_list)\n",
    "            nodes.extend(point_data_array[frame_depth-depth])\n",
    "        if not success:\n",
    "                continue\n",
    "        nodes.extend(point_data_array[0])\n",
    "        label = frame[\"Label\"].values[0]\n",
    "        \n",
    "        graphs.append(Data(x=torch.tensor(np.array(nodes), dtype=torch.float, device=device), \n",
    "                    edge_index=torch.tensor(np.array(adjacency_list), dtype=torch.int64, device=device).t().contiguous(),\n",
    "                    edge_attr=torch.tensor(np.array(edges), dtype=torch.float, device=device),\n",
    "                    y=torch.tensor(int(label), dtype=torch.int64, device=device)))\n",
    "    return graphs"
   ]
  },
  {
   "cell_type": "code",
   "execution_count": 7,
   "metadata": {},
   "outputs": [],
   "source": [
    "def load_graphs(train:List[DataFrame], val:List[DataFrame], test:List[DataFrame], \n",
    "                frame_depths:List[int], ks:List[int], selected_cols:List[str], device:str, descending):\n",
    "    \"\"\"\n",
    "    Loads the graphs if already saved or creates them if not yet saved.\n",
    "\n",
    "    :param train: The frames in the train set\n",
    "    :param val: The frames in the validation set\n",
    "    :param test: The frames in the test set\n",
    "    :param frame_depths: The depths of the graph (number of previos nodes)\n",
    "    :param ks: The number of neighbours to connect each points to\n",
    "    :param selected_cols: The names of the columns to make nodes out of\n",
    "    :param device: The device to store the graphs on (cuda or cpu)\n",
    "    :param descending: Indicates whether to connect nearest neighbours or furthest neighbours\n",
    "    :return: The graphs created from the train, validation and test sets\n",
    "    \"\"\"\n",
    "    graph_sets = []\n",
    "    for i, data_set in enumerate([train, val, test]):\n",
    "        generated_graphs = []\n",
    "        for f in frame_depths:\n",
    "            for k in ks:\n",
    "                # try:\n",
    "                #     graphs = torch.load(f\"data/frame_graphs_k{k}_frame_depth{f}_normalized_extended_chunk{num_chunks}_type{i}_max{descending}.pt\")\n",
    "                #     print(\"File read\")\n",
    "                # except Exception as e:\n",
    "                graphs = create_graph_list_with_overlap(data_set, selected_cols, device, k=k, frame_depth=f)\n",
    "                    # torch.save(graphs, f\"data/frame_graphs_k{k}_frame_depth{f}_normalized_extended_chunk{num_chunks}_type{i}_max{descending}.pt\")\n",
    "                \n",
    "                print(f\"Number of graphs generated with k = {k} and frame depth = {f} for type {i}: {len(graphs)}\")\n",
    "                generated_graphs.append(graphs)\n",
    "        graph_sets.append(generated_graphs)\n",
    "    \n",
    "    return graph_sets[0], graph_sets[1], graph_sets[2]"
   ]
  },
  {
   "cell_type": "markdown",
   "metadata": {},
   "source": [
    "#### Pre-processing pipeline"
   ]
  },
  {
   "cell_type": "code",
   "execution_count": 8,
   "metadata": {},
   "outputs": [],
   "source": [
    "# This cell can be skipped if all graps are saved in files\n",
    "\n",
    "data_array = np.asarray([frame for (_, frame) in all_data_grouped], dtype=\"object\")\n",
    "# Sort the data\n",
    "sorted_data = sorted(data_array,key=lambda x:x[\"current_frame\"].max(axis=0))\n",
    "# Normalize the data\n",
    "norm_frames = min_max_normalization(sorted_data, selected_cols)\n",
    "# Split the data\n",
    "train, val, test = split_with_chunks(norm_frames, SHAPE_NAMES, num_chunks, 0.15, 0.15)"
   ]
  },
  {
   "cell_type": "code",
   "execution_count": 9,
   "metadata": {},
   "outputs": [
    {
     "name": "stdout",
     "output_type": "stream",
     "text": [
      "Number of graphs generated with k = 6 and frame depth = 5 for type 0: 6111\n",
      "Number of graphs generated with k = 6 and frame depth = 5 for type 1: 1190\n",
      "Number of graphs generated with k = 6 and frame depth = 5 for type 2: 1209\n"
     ]
    }
   ],
   "source": [
    "# Create graphs for each sets with each hyperparameter combination\n",
    "train_graphs, val_graphs, test_graphs = load_graphs(train, val, test, frame_depths, ks, selected_cols, device, descending=True)\n",
    "\n",
    "train_dataloaders = []\n",
    "test_dataloaders = []\n",
    "val_dataloaders = []\n",
    "\n",
    "# Batch the sets\n",
    "for i in range(len(train_graphs)):\n",
    "    random.seed(42)\n",
    "    random.shuffle(train_graphs[i])\n",
    "    random.seed(42)\n",
    "    random.shuffle(test_graphs[i])\n",
    "    random.seed(42)\n",
    "    random.shuffle(val_graphs[i])\n",
    "    \n",
    "    train_dataloaders.append(DataLoader(train_graphs[i], batch_size=32, shuffle=True, num_workers = 0))\n",
    "    test_dataloaders.append(DataLoader(test_graphs[i], batch_size=32, shuffle=True, num_workers = 0))\n",
    "    val_dataloaders.append(DataLoader(val_graphs[i], batch_size=32, shuffle=True, num_workers = 0))\n"
   ]
  },
  {
   "cell_type": "markdown",
   "metadata": {},
   "source": [
    "#### Graph Neural Network"
   ]
  },
  {
   "cell_type": "code",
   "execution_count": 10,
   "metadata": {},
   "outputs": [],
   "source": [
    "def MLP(channels):\n",
    "    return Seq(*[\n",
    "        Seq(Lin(channels[i - 1], channels[i]), ReLU(), BN(channels[i]))\n",
    "        for i in range(1, len(channels))\n",
    "    ])\n",
    "\n",
    "def reset(nn):\n",
    "    def _reset(item):\n",
    "        if hasattr(item, 'reset_parameters'):\n",
    "            item.reset_parameters()\n",
    "\n",
    "    if nn is not None:\n",
    "        if hasattr(nn, 'children') and len(list(nn.children())) > 0:\n",
    "            for item in nn.children():\n",
    "                _reset(item)\n",
    "        else:\n",
    "            _reset(nn)\n",
    "            \n",
    "class GeneralizedTemporalSelfAttentionDynamicEdgeConv(MessagePassing):\n",
    "    def __init__(self, nn: Callable, \n",
    "                 attention_in_features: int,\n",
    "                 k: int,\n",
    "                 aggr: str = 'mean',\n",
    "                 **kwargs):\n",
    "        \n",
    "        super(GeneralizedTemporalSelfAttentionDynamicEdgeConv,\n",
    "              self).__init__(aggr=aggr, flow='source_to_target', **kwargs)\n",
    "\n",
    "        self.nn = nn\n",
    "        self.multihead_attn = MultiHeadAttention(attention_in_features, 8)\n",
    "        self.k = k\n",
    "        self.reset_parameters()\n",
    "\n",
    "    def reset_parameters(self):\n",
    "        reset(self.multihead_attn)\n",
    "        reset(self.nn)\n",
    "\n",
    "    def forward(self, x, data) -> Tensor:\n",
    "        return self.propagate(data.edge_index, x=x, edge_attr=data.edge_attr, size=None, batch=data.batch)\n",
    "\n",
    "    def message(self, x_i: Tensor, x_j: Tensor, edge_attr) -> Tensor:\n",
    "        msg = torch.cat([x_j, x_i - x_j, torch.reshape(edge_attr, (len(edge_attr),1))], dim=-1)\n",
    "        return self.nn(msg)\n",
    "\n",
    "    def aggregate(self, inputs: Tensor, index: Tensor,\n",
    "                  dim_size: Optional[int] = None) -> Tensor:\n",
    "        original_shape = inputs.shape\n",
    "        attention_input_shape = list([int(original_shape[0] / self.k)]) + list(original_shape)\n",
    "        attention_input_shape[1] = self.k\n",
    "        self_attention_input = inputs.reshape(attention_input_shape)\n",
    "        attn_output = self.multihead_attn(self_attention_input, self_attention_input, self_attention_input)\n",
    "        attn_output = attn_output.reshape(original_shape)\n",
    "        # Apply attention mechanism\n",
    "        return scatter(attn_output, index, dim=self.node_dim, dim_size=dim_size,\n",
    "                       reduce=self.aggr)\n"
   ]
  },
  {
   "cell_type": "code",
   "execution_count": 11,
   "metadata": {},
   "outputs": [],
   "source": [
    "class Net(torch.nn.Module):\n",
    "    def __init__(self, out_channels, k=3, aggr='mean'):\n",
    "        super().__init__()\n",
    "        self.aggr = aggr\n",
    "\n",
    "        self.conv1 = GeneralizedTemporalSelfAttentionDynamicEdgeConv(nn=MLP([2*4 +1, 64, 64, 64]),\n",
    "                                                                     attention_in_features=64, \n",
    "                                                                     k=k, \n",
    "                                                                     aggr=aggr)\n",
    "\n",
    "        self.lin1 = MLP([64, 1024])\n",
    "\n",
    "        self.mlp = Seq(\n",
    "            MLP([1024, 512]), #Dropout(0.5), MLP([1024, 512]), Dropout(0.5), MLP([512, 512]),  \n",
    "            Dropout(0.5), MLP([512, 256]), Dropout(0.5),\n",
    "            Lin(256, out_channels))\n",
    "\n",
    "    def forward(self, data):\n",
    "        x1 = self.conv1(data.x, data)\n",
    "        out = self.lin1(x1)\n",
    "        \n",
    "        out = scatter(src=out, index=data.batch, dim=0, reduce=self.aggr)\n",
    "        out = self.mlp(out)\n",
    "        return F.log_softmax(out, dim=1)"
   ]
  },
  {
   "cell_type": "markdown",
   "metadata": {},
   "source": [
    "#### Train the model"
   ]
  },
  {
   "cell_type": "code",
   "execution_count": 12,
   "metadata": {},
   "outputs": [
    {
     "ename": "KeyboardInterrupt",
     "evalue": "",
     "output_type": "error",
     "traceback": [
      "\u001b[0;31m---------------------------------------------------------------------------\u001b[0m",
      "\u001b[0;31mKeyboardInterrupt\u001b[0m                         Traceback (most recent call last)",
      "Cell \u001b[0;32mIn[12], line 28\u001b[0m\n\u001b[1;32m     26\u001b[0m loss \u001b[38;5;241m=\u001b[39m F\u001b[38;5;241m.\u001b[39mnll_loss(out, train_batch\u001b[38;5;241m.\u001b[39my)\n\u001b[1;32m     27\u001b[0m losses\u001b[38;5;241m.\u001b[39mappend(loss\u001b[38;5;241m.\u001b[39mdetach())\n\u001b[0;32m---> 28\u001b[0m \u001b[43mloss\u001b[49m\u001b[38;5;241;43m.\u001b[39;49m\u001b[43mbackward\u001b[49m\u001b[43m(\u001b[49m\u001b[43m)\u001b[49m\n\u001b[1;32m     29\u001b[0m optimizer\u001b[38;5;241m.\u001b[39mstep()\n\u001b[1;32m     30\u001b[0m count \u001b[38;5;241m+\u001b[39m\u001b[38;5;241m=\u001b[39m \u001b[38;5;28mlen\u001b[39m(train_batch)\n",
      "File \u001b[0;32m~/research-project/.venv/lib/python3.10/site-packages/torch/_tensor.py:492\u001b[0m, in \u001b[0;36mTensor.backward\u001b[0;34m(self, gradient, retain_graph, create_graph, inputs)\u001b[0m\n\u001b[1;32m    482\u001b[0m \u001b[38;5;28;01mif\u001b[39;00m has_torch_function_unary(\u001b[38;5;28mself\u001b[39m):\n\u001b[1;32m    483\u001b[0m     \u001b[38;5;28;01mreturn\u001b[39;00m handle_torch_function(\n\u001b[1;32m    484\u001b[0m         Tensor\u001b[38;5;241m.\u001b[39mbackward,\n\u001b[1;32m    485\u001b[0m         (\u001b[38;5;28mself\u001b[39m,),\n\u001b[0;32m   (...)\u001b[0m\n\u001b[1;32m    490\u001b[0m         inputs\u001b[38;5;241m=\u001b[39minputs,\n\u001b[1;32m    491\u001b[0m     )\n\u001b[0;32m--> 492\u001b[0m \u001b[43mtorch\u001b[49m\u001b[38;5;241;43m.\u001b[39;49m\u001b[43mautograd\u001b[49m\u001b[38;5;241;43m.\u001b[39;49m\u001b[43mbackward\u001b[49m\u001b[43m(\u001b[49m\n\u001b[1;32m    493\u001b[0m \u001b[43m    \u001b[49m\u001b[38;5;28;43mself\u001b[39;49m\u001b[43m,\u001b[49m\u001b[43m \u001b[49m\u001b[43mgradient\u001b[49m\u001b[43m,\u001b[49m\u001b[43m \u001b[49m\u001b[43mretain_graph\u001b[49m\u001b[43m,\u001b[49m\u001b[43m \u001b[49m\u001b[43mcreate_graph\u001b[49m\u001b[43m,\u001b[49m\u001b[43m \u001b[49m\u001b[43minputs\u001b[49m\u001b[38;5;241;43m=\u001b[39;49m\u001b[43minputs\u001b[49m\n\u001b[1;32m    494\u001b[0m \u001b[43m\u001b[49m\u001b[43m)\u001b[49m\n",
      "File \u001b[0;32m~/research-project/.venv/lib/python3.10/site-packages/torch/autograd/__init__.py:251\u001b[0m, in \u001b[0;36mbackward\u001b[0;34m(tensors, grad_tensors, retain_graph, create_graph, grad_variables, inputs)\u001b[0m\n\u001b[1;32m    246\u001b[0m     retain_graph \u001b[38;5;241m=\u001b[39m create_graph\n\u001b[1;32m    248\u001b[0m \u001b[38;5;66;03m# The reason we repeat the same comment below is that\u001b[39;00m\n\u001b[1;32m    249\u001b[0m \u001b[38;5;66;03m# some Python versions print out the first line of a multi-line function\u001b[39;00m\n\u001b[1;32m    250\u001b[0m \u001b[38;5;66;03m# calls in the traceback and some print out the last line\u001b[39;00m\n\u001b[0;32m--> 251\u001b[0m \u001b[43mVariable\u001b[49m\u001b[38;5;241;43m.\u001b[39;49m\u001b[43m_execution_engine\u001b[49m\u001b[38;5;241;43m.\u001b[39;49m\u001b[43mrun_backward\u001b[49m\u001b[43m(\u001b[49m\u001b[43m  \u001b[49m\u001b[38;5;66;43;03m# Calls into the C++ engine to run the backward pass\u001b[39;49;00m\n\u001b[1;32m    252\u001b[0m \u001b[43m    \u001b[49m\u001b[43mtensors\u001b[49m\u001b[43m,\u001b[49m\n\u001b[1;32m    253\u001b[0m \u001b[43m    \u001b[49m\u001b[43mgrad_tensors_\u001b[49m\u001b[43m,\u001b[49m\n\u001b[1;32m    254\u001b[0m \u001b[43m    \u001b[49m\u001b[43mretain_graph\u001b[49m\u001b[43m,\u001b[49m\n\u001b[1;32m    255\u001b[0m \u001b[43m    \u001b[49m\u001b[43mcreate_graph\u001b[49m\u001b[43m,\u001b[49m\n\u001b[1;32m    256\u001b[0m \u001b[43m    \u001b[49m\u001b[43minputs\u001b[49m\u001b[43m,\u001b[49m\n\u001b[1;32m    257\u001b[0m \u001b[43m    \u001b[49m\u001b[43mallow_unreachable\u001b[49m\u001b[38;5;241;43m=\u001b[39;49m\u001b[38;5;28;43;01mTrue\u001b[39;49;00m\u001b[43m,\u001b[49m\n\u001b[1;32m    258\u001b[0m \u001b[43m    \u001b[49m\u001b[43maccumulate_grad\u001b[49m\u001b[38;5;241;43m=\u001b[39;49m\u001b[38;5;28;43;01mTrue\u001b[39;49;00m\u001b[43m,\u001b[49m\n\u001b[1;32m    259\u001b[0m \u001b[43m\u001b[49m\u001b[43m)\u001b[49m\n",
      "\u001b[0;31mKeyboardInterrupt\u001b[0m: "
     ]
    }
   ],
   "source": [
    "# model_losses = []\n",
    "# model_accuracies = []\n",
    "models = []\n",
    "\n",
    "for i, train_dataloader in enumerate(train_dataloaders):\n",
    "    val_accuracies = []\n",
    "    start_time = time.time()\n",
    "    k = ks[i % len(ks)]\n",
    "    model = Net(6, k=k).to(device)\n",
    "    optimizer = torch.optim.Adam(model.parameters(), lr=lr, weight_decay=5e-4)\n",
    "    scheduler = torch.optim.lr_scheduler.StepLR(optimizer, step_size=20, gamma=0.5)\n",
    "\n",
    "    best_acc = -1\n",
    "    losses = []\n",
    "    accuracies = []\n",
    "    for epoch in range(max_epoch):\n",
    "        correct = 0\n",
    "        count = 0\n",
    "        model.train()\n",
    "        for train_batch in train_dataloader:\n",
    "            train_batch = train_batch.to(device)\n",
    "            optimizer.zero_grad()\n",
    "            out = model(train_batch)\n",
    "            pred = out.argmax(dim=1)\n",
    "            correct += (pred == train_batch.y).sum()\n",
    "            loss = F.nll_loss(out, train_batch.y)\n",
    "            losses.append(loss.detach())\n",
    "            loss.backward()\n",
    "            optimizer.step()\n",
    "            count += len(train_batch)\n",
    "        acc = int(correct) / count\n",
    "        losses.append(loss.detach())\n",
    "        accuracies.append(acc)\n",
    "        scheduler.step()\n",
    "\n",
    "        model.eval()\n",
    "        val_correct = 0\n",
    "        for val_batch in val_dataloaders[i]:\n",
    "            val_batch = val_batch.to(device)\n",
    "            pred = model(val_batch).argmax(dim=1)\n",
    "            \n",
    "            val_correct += (pred == val_batch.y).sum()\n",
    "        val_acc = int(val_correct) / len(val_dataloaders[i].dataset)\n",
    "        val_accuracies.append(val_acc)\n",
    "\n",
    "        if val_acc > best_acc:\n",
    "            best_acc = val_acc\n",
    "            best_acc_epoch = epoch\n",
    "            last_improvement = 0\n",
    "        else:\n",
    "            last_improvement += 1\n",
    "\n",
    "        if last_improvement > EARLY_STOPPING_PATIENCE:\n",
    "            break\n",
    "    \n",
    "    models.append(model)\n",
    "    torch.save(model, f\"data/trained_model_k{k}_frame_depth{frame_depths[int(i/len(ks))]}_normalized_extended_chunk{num_chunks}.pt\")\n",
    "    losses = [tensor.cpu().numpy() for tensor in losses]\n",
    "    # model_losses.append(losses)\n",
    "    # model_accuracies.append(accuracies)\n",
    "    print(f\"trained: {i}\")\n",
    "\n",
    "    plt.plot(accuracies, label = \"train\")\n",
    "    plt.plot(val_accuracies, label = \"validation\")\n",
    "    plt.title(f\"Accuracy of the model with k = {ks[i % len(ks)]} and frame depth = {frame_depths[int(i/len(ks))]}\")\n",
    "    plt.ylabel(\"Accuracy\")\n",
    "    plt.xlabel(\"Epoch\")\n",
    "    plt.ylim(0,1)\n",
    "    plt.legend() \n",
    "    plt.show()\n",
    "\n",
    "    plt.plot(losses)\n",
    "    plt.title(f\"Loss of the model with k = {ks[i % len(ks)]} and frame depth = {frame_depths[int(i/len(ks))]}\")\n",
    "    plt.ylabel(\"Loss\")\n",
    "    plt.xlabel(\"Epoch\")\n",
    "    plt.show()\n",
    "\n",
    "    print(\"Training accuracy: \"+str(accuracies[-1]))\n",
    "    print(\"Training loss: \"+str(losses[-1]))\n",
    "    \n",
    "    print(f'Accuracy of the model with k = {ks[i % len(ks)]} and frame depth = {frame_depths[int(i/len(ks))]}: {val_accuracies[-1]:.4f}')\n",
    "    print(\"--- %s seconds ---\" % (time.time() - start_time))\n",
    "    print(f\"evaluated: {i}\")"
   ]
  },
  {
   "cell_type": "markdown",
   "metadata": {},
   "source": [
    "#### Evaluate the model on the test set"
   ]
  },
  {
   "cell_type": "code",
   "execution_count": 16,
   "metadata": {},
   "outputs": [
    {
     "name": "stdout",
     "output_type": "stream",
     "text": [
      "Accuracy of the model with k = 8 and frame depth = 3: 0.7691\n"
     ]
    }
   ],
   "source": [
    "model.eval()\n",
    "total_y_pred_label = []\n",
    "total_y_true_label = []\n",
    "correct = 0\n",
    "for val_batch in test_dataloaders[i]:\n",
    "    val_batch = val_batch.to(device)\n",
    "    pred = model(val_batch).argmax(dim=1)\n",
    "    \n",
    "    total_y_pred_label.extend(pred)\n",
    "    total_y_true_label.extend(val_batch.y)\n",
    "    correct += (pred == val_batch.y).sum()\n",
    "acc = int(correct) / len(test_graphs[i])\n",
    "val_accuracies.append(acc)\n",
    "print(f'Accuracy of the model with k = {ks[i % len(ks)]} and frame depth = {frame_depths[int(i/len(ks))]}: {acc:.4f}')"
   ]
  },
  {
   "cell_type": "markdown",
   "metadata": {},
   "source": [
    "#### Confusion matrix"
   ]
  },
  {
   "cell_type": "code",
   "execution_count": 17,
   "metadata": {},
   "outputs": [
    {
     "data": {
      "text/plain": [
       "Text(0.5, 14.722222222222216, 'Predicated Label')"
      ]
     },
     "execution_count": 17,
     "metadata": {},
     "output_type": "execute_result"
    },
    {
     "data": {
      "image/png": "[encoded data removed]",
      "text/plain": [
       "<Figure size 500x400 with 2 Axes>"
      ]
     },
     "metadata": {},
     "output_type": "display_data"
    }
   ],
   "source": [
    "SHAPE_LABELS = [1,2,3,4,5,\"bikes\"]\n",
    "total_y_pred = [pred_label.item() for pred_label in total_y_pred_label]\n",
    "total_y_true = [true_label.item() for true_label in total_y_true_label]\n",
    "cm = confusion_matrix(total_y_true, total_y_pred, labels=SHAPE_NAMES)\n",
    "cm = (cm.astype('float') / cm.sum(axis=1)[:, np.newaxis]) \n",
    "\n",
    "df_cm = pd.DataFrame(cm, index = SHAPE_LABELS,\n",
    "              columns = SHAPE_LABELS)\n",
    "plt.figure(figsize = (5,4))\n",
    "plot = sn.heatmap(df_cm, annot=True, cmap='Blues')\n",
    "figure = plot.get_figure()\n",
    "plt.title(\"Confusion matrix\")\n",
    "plt.ylabel('True Label')\n",
    "plt.xlabel('Predicated Label')"
   ]
  },
  {
   "cell_type": "code",
   "execution_count": 11,
   "metadata": {},
   "outputs": [
    {
     "data": {
      "image/png": "[encoded data removed]",
      "text/plain": [
       "<Figure size 640x480 with 1 Axes>"
      ]
     },
     "metadata": {},
     "output_type": "display_data"
    }
   ],
   "source": [
    "accuracies = np.array([0.7717, 0.7614, 0.7714,0.8361,0.8783,0.8817,0.8771,0.8864, 0.8963, 0.8666,0.8693,0.8714,0.8871,0.8401,0.7969])\n",
    "\n",
    "frame_depths = [2,4,5,6,8]\n",
    "ks =[3,5,8]\n",
    "plt.plot(frame_depths, accuracies[[i*len(ks) for i in range(len(frame_depths))]], label = \"k = 3\", marker=\"8\") \n",
    "plt.plot(frame_depths, accuracies[[i*len(ks)+1 for i in range(len(frame_depths))]], label = \"k = 5\", marker=\"8\") \n",
    "plt.plot(frame_depths, accuracies[[i*len(ks)+2 for i in range(len(frame_depths))]], label = \"k = 8\", marker=\"8\") \n",
    "plt.plot(5, 0.9173, label = \"k = 32\", marker=\"8\") \n",
    "plt.xlabel(\"Frame depth\")\n",
    "plt.ylabel(\"Accuracy\")\n",
    "plt.legend() \n",
    "plt.show()"
   ]
  },
  {
   "cell_type": "markdown",
   "metadata": {},
   "source": [
    "#### Distribution of the train data"
   ]
  },
  {
   "cell_type": "code",
   "execution_count": 14,
   "metadata": {},
   "outputs": [
    {
     "data": {
      "image/png": "[encoded data removed]",
      "text/plain": [
       "<Figure size 640x480 with 1 Axes>"
      ]
     },
     "metadata": {},
     "output_type": "display_data"
    }
   ],
   "source": [
    "data_points = np.array([d.y.item() for d in train_graps[0]])\n",
    "zeros = len(np.where(data_points  == 0)[0])\n",
    "ones = len(np.where(data_points  == 1)[0])\n",
    "twos = len(np.where(data_points  == 2)[0])\n",
    "threes = len(np.where(data_points  == 3)[0]) \n",
    "fours = len(np.where(data_points  == 4)[0])\n",
    "\n",
    "labels = [1,2,3,4,5]\n",
    "sample_num = [zeros, ones, twos, threes, fours]\n",
    "p = plt.bar(labels, sample_num)\n",
    "plt.xlabel(\"Number of people\")\n",
    "plt.ylabel(\"Number of samples\")\n",
    "plt.bar_label(p)\n",
    "plt.show()"
   ]
  },
  {
   "cell_type": "code",
   "execution_count": null,
   "metadata": {},
   "outputs": [],
   "source": []
  }
 ],
 "metadata": {
  "kernelspec": {
   "display_name": "Python 3 (ipykernel)",
   "language": "python",
   "name": "python3"
  },
  "language_info": {
   "codemirror_mode": {
    "name": "ipython",
    "version": 3
   },
   "file_extension": ".py",
   "mimetype": "text/x-python",
   "name": "python",
   "nbconvert_exporter": "python",
   "pygments_lexer": "ipython3",
   "version": "3.10.12"
  }
 },
 "nbformat": 4,
 "nbformat_minor": 2
}
