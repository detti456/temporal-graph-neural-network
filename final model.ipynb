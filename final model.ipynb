{
 "cells": [
  {
   "cell_type": "code",
   "execution_count": 1,
   "metadata": {
    "ExecuteTime": {
     "end_time": "2024-06-10T10:50:10.937399Z",
     "start_time": "2024-06-10T10:50:08.693314Z"
    }
   },
   "outputs": [],
   "source": [
    "import glob\n",
    "import random\n",
    "from typing import Callable, Optional, List\n",
    "\n",
    "import numpy as np\n",
    "import pandas as pd\n",
    "from sklearn.metrics import confusion_matrix\n",
    "from pandas import DataFrame\n",
    "from matplotlib import pyplot as plt\n",
    "from scipy.spatial import distance as distance_calculator\n",
    "import torch\n",
    "from torch import Tensor\n",
    "from torch_geometric import nn\n",
    "from torch_geometric.loader import DataLoader\n",
    "from torch_geometric.data import Data\n",
    "from torch_geometric.nn import GATConv\n",
    "import torch.nn.functional as F\n",
    "from torch_geometric.utils import scatter\n",
    "import seaborn as sn\n",
    "from torch.nn import Sequential as Seq, Linear as Lin, Dropout, ReLU, BatchNorm1d as BN\n",
    "from torch_geometric.nn.conv import MessagePassing\n",
    "from torch_multi_head_attention import MultiHeadAttention\n",
    "import time\n",
    "from sklearn.preprocessing import MinMaxScaler\n",
    "from sklearn.cluster import KMeans"
   ]
  },
  {
   "cell_type": "markdown",
   "metadata": {},
   "source": [
    "#### Loading the data\n",
    "In each files, the frame numbers are shifted to come after the largest frame number in the previous file. This way all frame numbers are unique.\n",
    "\n",
    "The dataset contains frames of 1 to 5 people.\n"
   ]
  },
  {
   "cell_type": "code",
   "execution_count": null,
   "metadata": {
    "ExecuteTime": {
     "end_time": "2024-06-10T10:50:59.938119Z",
     "start_time": "2024-06-10T10:50:36.123357Z"
    }
   },
   "outputs": [],
   "source": [
    "random.seed(42)\n",
    "column_names=['range','azimuth','doppler','snr','x','y','current_frame','seq']\n",
    "\n",
    "features1: DataFrame = pd.concat(\n",
    "    [pd.read_csv(filename, names=column_names, header=None, dtype=np.float64) for filename in glob.glob(\"data/1/1/*.csv\")])\n",
    "features1.insert(8, \"Label\", np.zeros(len(features1), dtype=int), True)\n",
    "max_frame = max(features1[\"current_frame\"])\n",
    "\n",
    "features2: DataFrame = pd.concat(\n",
    "    [pd.read_csv(filename, names=column_names, header=None, dtype=np.float64) for filename in glob.glob(\"data/2/2/*.csv\")])\n",
    "features2.insert(8, \"Label\", np.full(len(features2), 1, dtype=int), True)\n",
    "min_frame = min(features2[\"current_frame\"])\n",
    "shift = max_frame+10\n",
    "features2[\"current_frame\"] += shift\n",
    "max_frame = max(features2[\"current_frame\"])\n",
    "\n",
    "features3: DataFrame = pd.concat(\n",
    "    [pd.read_csv(filename, names=column_names, header=None, dtype=np.float64) for filename in glob.glob(\"data/3/3/*.csv\")])\n",
    "features3.insert(8, \"Label\", np.full(len(features3), 2, dtype=int), True)\n",
    "min_frame = min(features3[\"current_frame\"])\n",
    "shift = max_frame+10\n",
    "features3[\"current_frame\"] += shift\n",
    "max_frame = max(features3[\"current_frame\"])\n",
    "\n",
    "features4: DataFrame = pd.concat(\n",
    "    [pd.read_csv(filename, names=column_names, header=None, dtype=np.float64) for filename in glob.glob(\"data/4/*.csv\")])\n",
    "features4.insert(8, \"Label\", np.full(len(features4), 3, dtype=int), True)\n",
    "min_frame = min(features4[\"current_frame\"])\n",
    "shift = max_frame+10\n",
    "features4[\"current_frame\"] += shift\n",
    "max_frame = max(features4[\"current_frame\"])\n",
    "\n",
    "features5: DataFrame = pd.concat(\n",
    "    [pd.read_csv(filename, names=column_names, header=None, dtype=np.float64) for filename in glob.glob(\"data/bigger/bigger/*.csv\")])\n",
    "features5.insert(8, \"Label\", np.full(len(features5), 4, dtype=int), True)\n",
    "min_frame = min(features5[\"current_frame\"])\n",
    "shift = max_frame+10\n",
    "features5[\"current_frame\"] += shift\n",
    "max_frame = max(features5[\"current_frame\"])\n",
    "\n",
    "features_bikes: DataFrame = pd.concat(\n",
    "    [pd.read_csv(filename, names=column_names, header=None, dtype=np.float32) for filename in glob.glob(\"data/bikes/bikes/*.csv\")])\n",
    "features_bikes.insert(8, \"Label\", np.full(len(features_bikes), 5, dtype=int), True)\n",
    "min_frame = min(features_bikes[\"current_frame\"])\n",
    "shift = max_frame+10\n",
    "features_bikes[\"current_frame\"] += shift\n",
    "max_frame = max(features_bikes[\"current_frame\"])\n",
    "\n",
    "all_data = pd.concat([features1, features2, features3, features4, features5, features_bikes])\n",
    "all_data.drop_duplicates(subset=['range','azimuth','doppler','snr','y','x','current_frame','Label'], inplace=True, ignore_index=True)\n",
    "print(\"Number of data points: \"+str(len(all_data)))\n",
    "print(\"Largest frame number: \"+str(max_frame))"
   ]
  },
  {
   "cell_type": "markdown",
   "metadata": {},
   "source": [
    "#### Hyperparameters"
   ]
  },
  {
   "cell_type": "code",
   "execution_count": 2,
   "metadata": {
    "ExecuteTime": {
     "end_time": "2024-06-10T10:48:53.929349Z",
     "start_time": "2024-06-10T10:48:53.922557Z"
    }
   },
   "outputs": [],
   "source": [
    "device = torch.device('cuda' if torch.cuda.is_available() else 'cpu')\n",
    "reduced_cols = ['doppler','snr','x','y','current_frame','Label']\n",
    "column_names=['range','azimuth','doppler','snr','x','y','current_frame','seq', 'Label']\n",
    "selected_cols = ['doppler','snr','x','y']\n",
    "SHAPE_NAMES = [0,1,2,3,4, 5]\n",
    "frame_depths = [8] \n",
    "ks = [6]\n",
    "num_chunks = 16\n",
    "lr = 0.001\n",
    "max_epoch = 100\n",
    "size = 128\n",
    "EARLY_STOPPING_PATIENCE = 15\n",
    "train, val, test =[],[],[]"
   ]
  },
  {
   "cell_type": "markdown",
   "metadata": {},
   "source": [
    "\n",
    "#### Utils"
   ]
  },
  {
   "cell_type": "code",
   "execution_count": 3,
   "metadata": {
    "ExecuteTime": {
     "end_time": "2024-06-10T10:48:55.130478Z",
     "start_time": "2024-06-10T10:48:55.113328Z"
    }
   },
   "outputs": [],
   "source": [
    "def gaussian_noise(batch_data,mean = 0, std_deviation=0.01):\n",
    "    \"\"\" Randomly shift point cloud. Shift is per point cloud.\n",
    "        Input:\n",
    "          BxNx3 array, original batch of point clouds\n",
    "        Return:\n",
    "          BxNx3 array, shifted batch of point clouds\n",
    "    \"\"\"\n",
    "    B, N, C = batch_data.shape\n",
    "    gaussian_noise = np.random.normal(mean, std_deviation, (B,N, 2))\n",
    "    \n",
    "    batch_data[:,:,2:4] += gaussian_noise\n",
    "    return batch_data\n",
    "\n",
    "    \n",
    "class NoiseAddition(object):\n",
    "    def __init__(self, batch_size):\n",
    "        self.batch_size = batch_size\n",
    "\n",
    "    def __call__(self, data):\n",
    "        all_features = data[:,:,0:4]\n",
    "        modified = gaussian_noise(all_features)\n",
    "        return np.append(modified,data[:,:,4:], axis=2)"
   ]
  },
  {
   "cell_type": "code",
   "execution_count": 4,
   "metadata": {
    "ExecuteTime": {
     "end_time": "2024-06-10T10:48:56.622930Z",
     "start_time": "2024-06-10T10:48:56.617953Z"
    }
   },
   "outputs": [],
   "source": [
    "def split_with_chunks(data_array: np.array, labels: List[int], num_chunks:int, val_frac:float, test_frac:float):\n",
    "    \"\"\"\n",
    "    Divides the dataset into train, test and validition sets. \n",
    "    This done by dividing each label's data into n chunks \n",
    "    and from each chunk the last val_frac and test_frac amount is moved to validation and test sets.\n",
    "\n",
    "    :param data_array: The array containing the data\n",
    "    :param labels: The labels found in the dataset\n",
    "    :param num_chunks: The number of chunks to divide the data to\n",
    "    :param val_frac: Fraction of validation set size (between 0 and 1)\n",
    "    :param test_frac: Fraction of test set size (between 0 and 1)\n",
    "    :return: The train, validation and test set\n",
    "    \"\"\"\n",
    "    train_frac = 1 - val_frac - test_frac\n",
    "    train = []\n",
    "    test = []\n",
    "    val =[]\n",
    "    label_values = data_array[:,0,5]\n",
    "\n",
    "    for label in labels:\n",
    "        itemindex = np.where(label_values == label)\n",
    "        frames = data_array[itemindex[0]] \n",
    "        chunk_size = int(len(frames) / num_chunks)\n",
    "        chunk_indexes = [i*chunk_size for i in range(num_chunks)]\n",
    "        chunk_indexes.append(len(frames))\n",
    "\n",
    "        for chunk in range(num_chunks):\n",
    "            data_chunk = frames[chunk_indexes[chunk] : chunk_indexes[chunk+1]]\n",
    "            train.extend(data_chunk[:int(train_frac * len(data_chunk))])\n",
    "            test.extend(data_chunk[int(train_frac * len(data_chunk)):int((train_frac + test_frac) * len(data_chunk))])\n",
    "            val.extend(data_chunk[int((train_frac + test_frac) * len(data_chunk)):])\n",
    "\n",
    "    assert len(train)+len(val)+len(test) == len(data_array)\n",
    "    return np.array(train), np.array(val), np.array(test)"
   ]
  },
  {
   "cell_type": "code",
   "execution_count": 5,
   "metadata": {
    "ExecuteTime": {
     "end_time": "2024-06-10T10:48:58.073899Z",
     "start_time": "2024-06-10T10:48:58.056480Z"
    }
   },
   "outputs": [],
   "source": [
    "def min_max_normalization(frames:DataFrame, selected_cols:List[str]):\n",
    "    \"\"\"\n",
    "    Normalizes the data by appliying min-max normalization on each feature given in 'selected_cols'.\n",
    "\n",
    "    :param frames: The dataset to normalize\n",
    "    :param selected_cols: The names of the columns to normalize\n",
    "    :return: The normalized features together with the sequence numbers and labels.\n",
    "    \"\"\"\n",
    "    scaler = MinMaxScaler().fit(frames[selected_cols])\n",
    "    normalized_frames = scaler.transform(frames[selected_cols])\n",
    "    print(\"Max features: \"+str(scaler.data_max_))\n",
    "    print(\"Min features: \"+str(scaler.data_min_))\n",
    "    df_normalized = pd.DataFrame(normalized_frames, columns = selected_cols)\n",
    "    return pd.concat([df_normalized, frames[['current_frame','Label']]], axis=1)\n",
    "\n",
    "def connect_frames(current_frame:List[np.array], next_frame:List[np.array], k: int, start_index: int, descending:bool = True):\n",
    "    \"\"\"\n",
    "    Calculates the edges between two frames. \n",
    "    \n",
    "    :param current_frame: The current frame containing parameters to calculate the distance based on \n",
    "    :param next_frame: The previous frame containing parameters to calculate the distance based on \n",
    "    :param k: The number of neighbours to have in the graph\n",
    "    :param start_index: The index to start labeling the nodes from\n",
    "    :param descending: Indicates whether to connect nearest neighbours or furthest neighbours\n",
    "    :return: The values (euclidean distance between points) of the edges and an adjacency list containing the nodes that are connected in the graph. \n",
    "            It also returns a boolean indicating whether the creation was successful or not.\n",
    "    \"\"\"\n",
    "    edges = []\n",
    "    adjacency_list = []\n",
    "    current_nodes = np.arange(start_index, start_index+len(current_frame)) \n",
    "    next_nodes = np.arange(start_index+len(current_frame), start_index+len(current_frame)+len(next_frame))\n",
    "    distances_all  = distance_calculator.cdist(current_frame, next_frame, 'euclidean')\n",
    "    for i in range(len(current_frame)):\n",
    "        distances = distances_all[i]\n",
    "        if descending:\n",
    "            idx = distances.argsort()[::-1]\n",
    "        else:\n",
    "            idx = distances.argsort()\n",
    "        distances = distances[idx]\n",
    "        ordered_next_nodes = next_nodes[idx]\n",
    "        if len(distances) < k:\n",
    "            return [], [], False\n",
    "        \n",
    "        edges.extend(distances[:k])\n",
    "        for j in range(k):\n",
    "            adjacency_list.append((current_nodes[i], ordered_next_nodes[j]))\n",
    "    return edges, adjacency_list, True\n",
    "\n",
    "def create_graph_list_with_overlap(frames:np.array, selected_cols:List[str], device:str,\n",
    "                                   k:int = 3, frame_depth:int = 2, descending:bool = True):\n",
    "    \"\"\"\n",
    "    Creates a list of Data objects that represents the graphs built from the input data. \n",
    "    The edges in the graph connects the frames to the previous frame by connecting each \n",
    "    points in a frame to it's nearest/furthest neighbour in the previous frame. \n",
    "    The nodes contain information about the selected columns. \n",
    "    The edges store information about the eucledian distance between the points.\n",
    "    \n",
    "    :param frames: Input data grouped and sorted by the frame number\n",
    "    :param device: The device to store the graphs on (cuda or cpu)\n",
    "    :param selected_cols: The names of the columns to make nodes out of\n",
    "    :param k: The number of neighbours to connect each points to\n",
    "    :param frame_depth: The depth of the graph (number of previos nodes)\n",
    "    :param descending: Indicates whether to connect nearest neighbours or furthest neighbours\n",
    "    :return: A list of Data objects, containing information about the created graphs\n",
    "    \"\"\"\n",
    "    parts = int(size/16)\n",
    "    if len(frames) == 0:\n",
    "        return []\n",
    "    graphs = []\n",
    "    for i, frame in enumerate(frames[frame_depth:]):\n",
    "        nodes = []\n",
    "        edges = []\n",
    "        adjacency_list = []\n",
    "        relevant_frames = frames[i: i + frame_depth + 1]\n",
    "        point_data = relevant_frames[:,:,0:4]\n",
    "        point_data_array = np.array([[f[int((p*size)/parts):int(((p+1)*size)/parts)] for p in range(parts)] for f in point_data])\n",
    "        # point_data_array = np.array([[f[:int(size/4)],f[int(size/4):int(2*size/4)],f[int(2*size/4):int(3*size/4)],f[int(3*size/4):]] for f in point_data])\n",
    "        point_data_array = point_data_array.reshape((frame_depth+1)*4,-1,len(selected_cols))\n",
    "\n",
    "        # only make graphs if the gap between any two frames is at most 9 and all frames have the same label\n",
    "        frame_diff = [relevant_frames[i+1,0, 4] - relevant_frames[i,0, 4] for i in range(frame_depth)]\n",
    "        if max(frame_diff) > 9 or relevant_frames[-1,0, 5] != relevant_frames[0,0, 5]:\n",
    "            continue\n",
    "\n",
    "        # point_data_array = [df.to_numpy() for df in point_data]\n",
    "        start_index = 0\n",
    "        new_depth = len(point_data_array)-1\n",
    "        for depth in range(new_depth):\n",
    "            #calculate the distance for the edges based on the x and y coordinates\n",
    "            pairwise_edges, pairwise_adjacency_list, success = \\\n",
    "                connect_frames(point_data_array[new_depth-depth][:,2:4], point_data_array[new_depth-depth-1][:,2:4], k, start_index, descending)\n",
    "            if not success:\n",
    "                break\n",
    "            start_index += len(point_data_array[new_depth-depth])\n",
    "            edges.extend(pairwise_edges)\n",
    "            adjacency_list.extend(pairwise_adjacency_list)\n",
    "            nodes.extend(point_data_array[new_depth-depth])\n",
    "        if not success:\n",
    "                continue\n",
    "        nodes.extend(point_data_array[0])\n",
    "        label = frame[0,5]\n",
    "        data = Data(x=torch.tensor(np.array(nodes), dtype=torch.float32, device=device),\n",
    "                    edge_index=torch.tensor(np.array(adjacency_list), dtype=torch.int64, device=device).t().contiguous(),\n",
    "                    edge_attr=torch.tensor(np.array(edges), dtype=torch.float32, device=device),\n",
    "                    y=torch.tensor(int(label), dtype=torch.int64, device=device))\n",
    "        \n",
    "        graphs.append(data)\n",
    "    return graphs\n"
   ]
  },
  {
   "cell_type": "code",
   "execution_count": 6,
   "metadata": {
    "ExecuteTime": {
     "end_time": "2024-06-10T10:48:58.972209Z",
     "start_time": "2024-06-10T10:48:58.966219Z"
    }
   },
   "outputs": [],
   "source": [
    "def load_graphs(train:List[DataFrame], val:List[DataFrame], test:List[DataFrame], \n",
    "                frame_depths:List[int], ks:List[int], selected_cols:List[str], device:str, descending):\n",
    "    \"\"\"\n",
    "    Loads the graphs if already saved or creates them if not yet saved.\n",
    "\n",
    "    :param train: The frames in the train set\n",
    "    :param val: The frames in the validation set\n",
    "    :param test: The frames in the test set\n",
    "    :param frame_depths: The depths of the graph (number of previos nodes)\n",
    "    :param ks: The number of neighbours to connect each points to\n",
    "    :param selected_cols: The names of the columns to make nodes out of\n",
    "    :param device: The device to store the graphs on (cuda or cpu)\n",
    "    :param descending: Indicates whether to connect nearest neighbours or furthest neighbours\n",
    "    :return: The graphs created from the train, validation and test sets\n",
    "    \"\"\"\n",
    "    graph_sets = []\n",
    "    for i, data_set in enumerate([train, val, test]):\n",
    "        generated_graphs = []\n",
    "        for f in frame_depths:\n",
    "            for k in ks:\n",
    "                # try:\n",
    "                #     graphs = torch.load(f\"data/frame_graphs_k{k}_frame_depth{f}_normalized_extended_chunk{num_chunks}_type{i}_max{descending}.pt\")\n",
    "                #     print(\"File read\")\n",
    "                # except Exception as e:\n",
    "                graphs = create_graph_list_with_overlap(data_set, selected_cols, device, k=k, frame_depth=f, descending=descending)\n",
    "                    # torch.save(graphs, f\"data/frame_graphs_k{k}_frame_depth{f}_normalized_extended_chunk{num_chunks}_type{i}_max{descending}.pt\")\n",
    "                \n",
    "                print(f\"Number of graphs generated with k = {k} and frame depth = {f} for type {i}: {len(graphs)}\")\n",
    "                generated_graphs.append(graphs)\n",
    "        graph_sets.append(generated_graphs)\n",
    "    \n",
    "    return graph_sets[0], graph_sets[1], graph_sets[2]"
   ]
  },
  {
   "cell_type": "markdown",
   "metadata": {},
   "source": [
    "#### Pre-processing pipeline"
   ]
  },
  {
   "cell_type": "code",
   "execution_count": 7,
   "metadata": {
    "ExecuteTime": {
     "end_time": "2024-06-10T10:49:01.277181Z",
     "start_time": "2024-06-10T10:49:00.982937Z"
    }
   },
   "outputs": [
    {
     "name": "stdout",
     "output_type": "stream",
     "text": [
      "Max features: [ 31.81039777 967.625       11.99514317   4.35285651]\n",
      "Min features: [ 0.12474666  3.5         0.42650005 -9.99815711]\n",
      "Total number of frames: 21282\n"
     ]
    }
   ],
   "source": [
    "# This cell can be skipped if all graps are saved in files\n",
    "equal_point_frames = pd.read_csv(f\"data/frames_{size}points_all_varied.csv\", names=column_names, header=None, dtype=np.float64)\n",
    "\n",
    "# Normalize the data\n",
    "norm_frames = min_max_normalization(equal_point_frames, selected_cols)\n",
    "\n",
    "# group the data by frame numbers\n",
    "all_data_grouped = norm_frames.groupby(\"current_frame\")\n",
    "print(\"Total number of frames: \"+str(len(all_data_grouped)))\n",
    "\n",
    "data_array = [frame.to_numpy() for (_, frame) in all_data_grouped]\n",
    "# Sort the data\n",
    "sorted_data = sorted(data_array,key=lambda x:x[:,4].max(axis=0))\n",
    "xy_dist = [x[:,2]+x[:,3] for x in sorted_data]\n",
    "xy_sort_index = [d.argsort() for d in xy_dist]\n",
    "xy_sorted = np.array([frame[xy_sort_index[i]] for i, frame in enumerate(sorted_data)])\n",
    "\n",
    "# # Split the data\n",
    "train, val, test = split_with_chunks(xy_sorted, SHAPE_NAMES, num_chunks, 0.15, 0.15)\n"
   ]
  },
  {
   "cell_type": "code",
   "execution_count": 8,
   "metadata": {},
   "outputs": [],
   "source": [
    "# noise = NoiseAddition(size)\n",
    "# train = noise(train)"
   ]
  },
  {
   "cell_type": "code",
   "execution_count": 9,
   "metadata": {},
   "outputs": [],
   "source": [
    "def rotate_point_cloud(batch_data):\n",
    "    \"\"\" Randomly rotate the point clouds to augument the dataset\n",
    "        rotation is per shape based along up direction\n",
    "        Input:\n",
    "          BxNx2 array, original batch of point clouds\n",
    "        Return:\n",
    "          BxNx2 array, rotated batch of point clouds\n",
    "    \"\"\"\n",
    "    rotated_data = np.zeros(batch_data.shape, dtype=np.float32)\n",
    "    for k in range(len(batch_data)):\n",
    "        rotation_angle = np.random.uniform() * 2 * np.pi\n",
    "        cosval = np.cos(rotation_angle)\n",
    "        sinval = np.sin(rotation_angle)\n",
    "        rotation_matrix = np.array([[cosval, -sinval],\n",
    "                                    [sinval, cosval]])\n",
    "        rotated_data[k] = np.dot(batch_data[k], rotation_matrix)\n",
    "    return rotated_data\n",
    "\n",
    "\n",
    "def jitter_point_cloud(batch_data, sigma=0.01, clip=0.05):\n",
    "    \"\"\" Randomly jitter points. jittering is per point.\n",
    "        Input:\n",
    "          BxNx3 array, original batch of point clouds\n",
    "        Return:\n",
    "          BxNx3 array, jittered batch of point clouds\n",
    "    \"\"\"\n",
    "    B, N, C = batch_data.shape\n",
    "    assert (clip > 0)\n",
    "    jittered_data = np.clip(sigma * np.random.randn(B, N, C).astype(np.float32), -1 * clip, clip)\n",
    "    jittered_data += batch_data\n",
    "    return jittered_data\n",
    "\n",
    "\n",
    "def shift_point_cloud(batch_data, shift_range=0.1):\n",
    "    \"\"\" Randomly shift point cloud. Shift is per point cloud.\n",
    "        Input:\n",
    "          BxNx3 array, original batch of point clouds\n",
    "        Return:\n",
    "          BxNx3 array, shifted batch of point clouds\n",
    "    \"\"\"\n",
    "    B, N, C = batch_data.shape\n",
    "    shifts = np.random.uniform(-shift_range, shift_range, (B, 2))\n",
    "    for batch_index in range(B):\n",
    "        batch_data[batch_index, :, :] += shifts[batch_index, :]\n",
    "    return batch_data\n",
    "\n",
    "\n",
    "def random_scale_point_cloud(batch_data, scale_low=0.8, scale_high=1.25):\n",
    "    \"\"\" Randomly scale the point cloud. Scale is per point cloud.\n",
    "        Input:\n",
    "            BxNx3 array, original batch of point clouds\n",
    "        Return:\n",
    "            BxNx3 array, scaled batch of point clouds\n",
    "    \"\"\"\n",
    "    B, N, C = batch_data.shape\n",
    "    scales = np.random.uniform(scale_low, scale_high, B)\n",
    "    for batch_index in range(B):\n",
    "        batch_data[batch_index, :, :] *= scales[batch_index]\n",
    "    return batch_data\n",
    "\n",
    "def gaussian_noise_edge(batch_data,mean = 0, std_deviation=0.01):\n",
    "    \"\"\" Randomly shift point cloud. Shift is per point cloud.\n",
    "        Input:\n",
    "          BxNx3 array, original batch of point clouds\n",
    "        Return:\n",
    "          BxNx3 array, shifted batch of point clouds\n",
    "    \"\"\"\n",
    "    N,E= batch_data.shape\n",
    "    gaussian_noise = np.random.normal(mean, std_deviation, (N,E))\n",
    "    \n",
    "    batch_data += gaussian_noise\n",
    "    return batch_data\n",
    "\n",
    "class AugmentationTransformer(object):\n",
    "    def __init__(self, batch_size):\n",
    "        self.batch_size = batch_size\n",
    "\n",
    "    def __call__(self, data):\n",
    "        all_features = np.array([d.x.cpu().detach().numpy() for d in data])\n",
    "        edge_attr = np.array([d.edge_attr.cpu().detach().numpy() for d in data])\n",
    "        pos = all_features[:,:,2:4]\n",
    "\n",
    "        rotated_data = rotate_point_cloud(pos)\n",
    "        jittered_data = random_scale_point_cloud(rotated_data)\n",
    "        jittered_data = shift_point_cloud(jittered_data)\n",
    "        all_features = np.append(all_features[:,:,0:2],jittered_data, axis=2)\n",
    "        modified = jitter_point_cloud(all_features)\n",
    "        noise_edge = gaussian_noise_edge(edge_attr)\n",
    "\n",
    "        new_data = []\n",
    "        for i,d in enumerate(data):\n",
    "            new_d = d.clone()\n",
    "            new_d.x = torch.from_numpy(modified[i]).to(new_d.x.device)\n",
    "            new_d.edge_attr = torch.from_numpy(noise_edge[i]).to(new_d.edge_attr.device)\n",
    "            new_data.append(new_d)\n",
    "        return new_data\n",
    "\n"
   ]
  },
  {
   "cell_type": "code",
   "execution_count": 11,
   "metadata": {},
   "outputs": [
    {
     "name": "stdout",
     "output_type": "stream",
     "text": [
      "Number of graphs generated with k = 6 and frame depth = 8 for type 0: 6988\n",
      "Number of graphs generated with k = 6 and frame depth = 8 for type 1: 1255\n",
      "Number of graphs generated with k = 6 and frame depth = 8 for type 2: 1232\n"
     ]
    }
   ],
   "source": [
    "# Create graphs for each sets with each hyperparameter combination\n",
    "train_graphs, val_graphs, test_graphs = load_graphs(train, val, test, frame_depths, ks, selected_cols, device, descending=True)"
   ]
  },
  {
   "cell_type": "markdown",
   "metadata": {},
   "source": [
    "#### Data augmentation"
   ]
  },
  {
   "cell_type": "code",
   "execution_count": 12,
   "metadata": {},
   "outputs": [],
   "source": [
    "augmentation_transformer = AugmentationTransformer(size)\n",
    "four_graph_loc = np.array([data.y.cpu() == 3 for data in train_graphs[0]])\n",
    "four_index = np.where(four_graph_loc)[0].tolist()\n",
    "four_graphs = [train_graphs[0][i] for i in four_index]\n",
    "\n",
    "bike_graph_loc = np.array([data.y.cpu() == 5 for data in train_graphs[0]])\n",
    "bike_index = np.where(bike_graph_loc)[0].tolist()\n",
    "bike_graphs = [train_graphs[0][i] for i in bike_index]\n",
    "\n",
    "indexes = np.arange(len(train_graphs[0])).tolist()\n",
    "sample_train = random.sample(indexes, 1000)\n",
    "sample_train = [train_graphs[0][i] for i in sample_train]\n",
    "\n",
    "augmented_graphs = augmentation_transformer(sample_train)\n",
    "train_graphs[0].extend(augmented_graphs)\n",
    "\n",
    "indexes = np.arange(len(four_graphs)).tolist()\n",
    "sample_four = random.sample(indexes, 400)\n",
    "sample_four = [four_graphs[i] for i in sample_four]\n",
    "\n",
    "augmented_four = augmentation_transformer(sample_four)\n",
    "train_graphs[0].extend(augmented_four)\n",
    "\n",
    "indexes = np.arange(len(bike_graphs)).tolist()\n",
    "sample_bike = random.sample(indexes, 100)\n",
    "sample_bike = [bike_graphs[i] for i in sample_bike]\n",
    "\n",
    "augmented_bike = augmentation_transformer(sample_bike)\n",
    "train_graphs[0].extend(augmented_bike)\n"
   ]
  },
  {
   "cell_type": "code",
   "execution_count": 13,
   "metadata": {
    "ExecuteTime": {
     "end_time": "2024-06-10T10:49:03.837703Z",
     "start_time": "2024-06-10T10:49:03.710512Z"
    }
   },
   "outputs": [],
   "source": [
    "# train_graphs, val_graphs, test_graphs = load_graphs(train, val, test, frame_depths, ks, selected_cols, device, descending=True)\n",
    "\n",
    "\n",
    "train_dataloaders = []\n",
    "test_dataloaders = []\n",
    "val_dataloaders = []\n",
    "\n",
    "# Batch the sets\n",
    "for i in range(len(train_graphs)):\n",
    "    random.seed(42)\n",
    "    random.shuffle(train_graphs[i])\n",
    "    random.seed(42)\n",
    "    random.shuffle(test_graphs[i])\n",
    "    random.seed(42)\n",
    "    random.shuffle(val_graphs[i])\n",
    "    \n",
    "    train_dataloaders.append(DataLoader(train_graphs[i], batch_size=32, shuffle=True, num_workers = 0))\n",
    "    test_dataloaders.append(DataLoader(test_graphs[i], batch_size=32, shuffle=True, num_workers = 0))\n",
    "    val_dataloaders.append(DataLoader(val_graphs[i], batch_size=32, shuffle=True, num_workers = 0))\n"
   ]
  },
  {
   "cell_type": "code",
   "execution_count": null,
   "metadata": {},
   "outputs": [],
   "source": [
    "torch.save(train_graphs[0], f\"data/frame_graphs_k4_frame_depth5_normalized_extended_chunk{num_chunks}_type0_frame_num.pt\")\n",
    "torch.save(test_graphs[0], f\"data/frame_graphs_k4_frame_depth5_normalized_extended_chunk{num_chunks}_type1_frame_num.pt\")\n",
    "torch.save(val_graphs[0], f\"data/frame_graphs_k4_frame_depth5_normalized_extended_chunk{num_chunks}_type2_frame_num.pt\")"
   ]
  },
  {
   "cell_type": "markdown",
   "metadata": {},
   "source": [
    "#### Graph Neural Network"
   ]
  },
  {
   "cell_type": "code",
   "execution_count": 15,
   "metadata": {},
   "outputs": [],
   "source": [
    "def MLP(channels):\n",
    "    return Seq(*[\n",
    "        Seq(Lin(channels[i - 1], channels[i]), ReLU(), BN(channels[i]))\n",
    "        for i in range(1, len(channels))\n",
    "    ])\n",
    "\n",
    "def reset(nn):\n",
    "    def _reset(item):\n",
    "        if hasattr(item, 'reset_parameters'):\n",
    "            item.reset_parameters()\n",
    "\n",
    "    if nn is not None:\n",
    "        if hasattr(nn, 'children') and len(list(nn.children())) > 0:\n",
    "            for item in nn.children():\n",
    "                _reset(item)\n",
    "        else:\n",
    "            _reset(nn)\n",
    "            \n",
    "class GeneralizedTemporalSelfAttentionDynamicEdgeConv(MessagePassing):\n",
    "    def __init__(self, nn: Callable, \n",
    "                 attention_in_features: int,\n",
    "                 k: int,\n",
    "                 aggr: str = 'mean',\n",
    "                 **kwargs):\n",
    "        \n",
    "        super(GeneralizedTemporalSelfAttentionDynamicEdgeConv,\n",
    "              self).__init__(aggr=aggr, flow='source_to_target', **kwargs)\n",
    "\n",
    "        self.nn = nn\n",
    "        self.multihead_attn = MultiHeadAttention(attention_in_features, 8)\n",
    "        self.k = k\n",
    "        self.reset_parameters()\n",
    "\n",
    "    def reset_parameters(self):\n",
    "        reset(self.multihead_attn)\n",
    "        reset(self.nn)\n",
    "\n",
    "    def forward(self, x, data) -> Tensor:\n",
    "        return self.propagate(data.edge_index, x=x, edge_attr=data.edge_attr, size=None, batch=data.batch)\n",
    "\n",
    "    def message(self, x_i: Tensor, x_j: Tensor, edge_attr) -> Tensor:\n",
    "        msg = torch.cat([x_j, x_i - x_j], dim=-1)#, torch.reshape(edge_attr, (len(edge_attr),1))\n",
    "        return self.nn(msg)\n",
    "\n",
    "    def aggregate(self, inputs: Tensor, index: Tensor,\n",
    "                  dim_size: Optional[int] = None) -> Tensor:\n",
    "        original_shape = inputs.shape\n",
    "        attention_input_shape = list([int(original_shape[0] / self.k)]) + list(original_shape)\n",
    "        attention_input_shape[1] = self.k\n",
    "        self_attention_input = inputs.reshape(attention_input_shape)\n",
    "        attn_output = self.multihead_attn(self_attention_input, self_attention_input, self_attention_input)\n",
    "        attn_output = attn_output.reshape(original_shape)\n",
    "        # Apply attention mechanism\n",
    "        return scatter(attn_output, index, dim=self.node_dim, dim_size=dim_size,\n",
    "                       reduce=self.aggr)\n"
   ]
  },
  {
   "cell_type": "code",
   "execution_count": 16,
   "metadata": {},
   "outputs": [],
   "source": [
    "class Net(torch.nn.Module):\n",
    "    def __init__(self, out_channels, k=3, aggr='mean'):\n",
    "        super().__init__()\n",
    "        self.aggr = aggr\n",
    "\n",
    "        self.conv1 = GeneralizedTemporalSelfAttentionDynamicEdgeConv(nn=MLP([2*4, 64, 64, 64]),\n",
    "                                                                     attention_in_features=64, \n",
    "                                                                     k=k, \n",
    "                                                                     aggr=aggr)\n",
    "\n",
    "        self.lin1 = MLP([64, 1024])\n",
    "\n",
    "        self.mlp = Seq(\n",
    "            MLP([1024, 512]), #Dropout(0.5), MLP([1024, 512]), Dropout(0.5), MLP([512, 512]),  \n",
    "            Dropout(0.5), MLP([512, 256]), Dropout(0.5),\n",
    "            Lin(256, out_channels))\n",
    "\n",
    "    def forward(self, data):\n",
    "        x1 = self.conv1(data.x, data)\n",
    "        out = self.lin1(x1)\n",
    "        \n",
    "        out = scatter(src=out, index=data.batch, dim=0, reduce=self.aggr)\n",
    "        out = self.mlp(out)\n",
    "        return F.log_softmax(out, dim=1)"
   ]
  },
  {
   "cell_type": "markdown",
   "metadata": {},
   "source": [
    "#### Train the model"
   ]
  },
  {
   "cell_type": "code",
   "execution_count": 17,
   "metadata": {},
   "outputs": [],
   "source": [
    "# model_losses = []\n",
    "# model_accuracies = []\n",
    "models = []\n",
    "\n",
    "for i, train_dataloader in enumerate(train_dataloaders):\n",
    "    val_accuracies = []\n",
    "    start_time = time.time()\n",
    "    k = ks[i % len(ks)]\n",
    "    model = Net(6, k=k).to(device)\n",
    "    optimizer = torch.optim.Adam(model.parameters(), lr=lr, weight_decay=5e-4)\n",
    "    scheduler = torch.optim.lr_scheduler.StepLR(optimizer, step_size=20, gamma=0.5)\n",
    "\n",
    "    best_acc = -1\n",
    "    losses = []\n",
    "    accuracies = []\n",
    "    for epoch in range(max_epoch):\n",
    "        correct = 0\n",
    "        count = 0\n",
    "        model.train()\n",
    "        for train_batch in train_dataloader:\n",
    "            train_batch = train_batch.to(device)\n",
    "            optimizer.zero_grad()\n",
    "            out = model(train_batch)\n",
    "            pred = out.argmax(dim=1)\n",
    "            correct += (pred == train_batch.y).sum()\n",
    "            loss = F.nll_loss(out, train_batch.y)\n",
    "            losses.append(loss.detach())\n",
    "            loss.backward()\n",
    "            optimizer.step()\n",
    "            count += len(train_batch)\n",
    "        acc = int(correct) / count\n",
    "        losses.append(loss.detach())\n",
    "        accuracies.append(acc)\n",
    "        scheduler.step()\n",
    "\n",
    "        model.eval()\n",
    "        val_correct = 0\n",
    "        for val_batch in val_dataloaders[i]:\n",
    "            val_batch = val_batch.to(device)\n",
    "            pred = model(val_batch).argmax(dim=1)\n",
    "            \n",
    "            val_correct += (pred == val_batch.y).sum()\n",
    "        val_acc = int(val_correct) / len(val_dataloaders[i].dataset)\n",
    "        val_accuracies.append(val_acc)\n",
    "\n",
    "        if val_acc > best_acc:\n",
    "            best_acc = val_acc\n",
    "            \n",
    "            last_improvement = 0\n",
    "        else:\n",
    "            last_improvement += 1\n",
    "\n",
    "        if last_improvement > EARLY_STOPPING_PATIENCE:\n",
    "            break\n",
    "    \n",
    "    models.append(model)\n",
    "    torch.save(model, f\"data/trained_model_k{k}_frame_depth{frame_depths[int(i/len(ks))]}_normalized_extended_chunk{num_chunks}.pt\")\n",
    "    losses = [tensor.cpu().numpy() for tensor in losses]\n",
    "    # model_losses.append(losses)\n",
    "    # model_accuracies.append(accuracies)\n",
    "    print(f\"trained: {i}\")\n",
    "\n",
    "    plt.plot(accuracies, label = \"train\")\n",
    "    plt.plot(val_accuracies, label = \"validation\")\n",
    "    plt.title(f\"Accuracy of the model with k = {ks[i % len(ks)]} and frame depth = {frame_depths[int(i/len(ks))]}\")\n",
    "    plt.ylabel(\"Accuracy\")\n",
    "    plt.xlabel(\"Epoch\")\n",
    "    plt.ylim(0,1)\n",
    "    plt.legend() \n",
    "    plt.show()\n",
    "\n",
    "    plt.plot(losses)\n",
    "    plt.title(f\"Loss of the model with k = {ks[i % len(ks)]} and frame depth = {frame_depths[int(i/len(ks))]}\")\n",
    "    plt.ylabel(\"Loss\")\n",
    "    plt.xlabel(\"Epoch\")\n",
    "    plt.show()\n",
    "\n",
    "    print(\"Training accuracy: \"+str(accuracies[-1]))\n",
    "    print(\"Training loss: \"+str(losses[-1]))\n",
    "    \n",
    "    print(f'Accuracy of the model with k = {ks[i % len(ks)]} and frame depth = {frame_depths[int(i/len(ks))]}: {val_accuracies[-1]:.4f}')\n",
    "    print(\"--- %s seconds ---\" % (time.time() - start_time))\n",
    "    print(f\"evaluated: {i}\")"
   ]
  },
  {
   "cell_type": "markdown",
   "metadata": {},
   "source": [
    "#### Evaluate the model on the test set"
   ]
  },
  {
   "cell_type": "code",
   "execution_count": 13,
   "metadata": {},
   "outputs": [],
   "source": [
    "model = torch.load(\"data/trained_model_k6_frame_depth8_normalized_extended_chunk16.pt\")"
   ]
  },
  {
   "cell_type": "code",
   "execution_count": 20,
   "metadata": {},
   "outputs": [],
   "source": [
    "# torch.save(model,\"data/trained_model_k6_frame_depth8_normalized_extended_chunk16_augmented.pt\")"
   ]
  },
  {
   "cell_type": "code",
   "execution_count": 17,
   "metadata": {},
   "outputs": [
    {
     "name": "stdout",
     "output_type": "stream",
     "text": [
      "Accuracy of the model with k = 6 and frame depth = 8: 0.7578\n"
     ]
    }
   ],
   "source": [
    "model.eval()\n",
    "total_y_pred_label = []\n",
    "total_y_true_label = []\n",
    "correct = 0\n",
    "wrong_four = []\n",
    "for val_batch in val_dataloaders[i]:\n",
    "    val_batch = val_batch.to(device)\n",
    "    pred = model(val_batch).argmax(dim=1)\n",
    "    \n",
    "    total_y_pred_label.extend(pred)\n",
    "    total_y_true_label.extend(val_batch.y)\n",
    "    # batch_index = torch.tensor([p == 2 and y == 3 for p,y in zip(pred, val_batch.y)], device=device).nonzero()\n",
    "    # batch_filter = torch.tensor([b in batch_index for b in val_batch.batch]).nonzero()\n",
    "    # masked = val_batch.time[batch_filter].squeeze()\n",
    "    # wrong_four.extend(torch.unique(masked))\n",
    "    correct += (pred == val_batch.y).sum()\n",
    "acc = int(correct) / len(val_graphs[i])\n",
    "# val_accuracies.append(acc)\n",
    "print(f'Accuracy of the model with k = {ks[i % len(ks)]} and frame depth = {frame_depths[int(i/len(ks))]}: {acc:.4f}')"
   ]
  },
  {
   "cell_type": "markdown",
   "metadata": {},
   "source": [
    "#### Confusion matrix"
   ]
  },
  {
   "cell_type": "code",
   "execution_count": 18,
   "metadata": {},
   "outputs": [
    {
     "data": {
      "text/plain": [
       "Text(0.5, 14.722222222222216, 'Predicated Label')"
      ]
     },
     "execution_count": 18,
     "metadata": {},
     "output_type": "execute_result"
    },
    {
     "data": {
      "image/png": "[encoded data removed]",
      "text/plain": [
       "<Figure size 500x400 with 2 Axes>"
      ]
     },
     "metadata": {},
     "output_type": "display_data"
    }
   ],
   "source": [
    "SHAPE_LABELS = [1,2,3,4,5,\"bikes\"]\n",
    "total_y_pred = [pred_label.item() for pred_label in total_y_pred_label]\n",
    "total_y_true = [true_label.item() for true_label in total_y_true_label]\n",
    "cm = confusion_matrix(total_y_true, total_y_pred, labels=SHAPE_NAMES)\n",
    "cm = (cm.astype('float') / cm.sum(axis=1)[:, np.newaxis]) \n",
    "\n",
    "df_cm = pd.DataFrame(cm, index = SHAPE_LABELS,\n",
    "              columns = SHAPE_LABELS)\n",
    "plt.figure(figsize = (5,4))\n",
    "plot = sn.heatmap(df_cm, annot=True, cmap='Blues')\n",
    "figure = plot.get_figure()\n",
    "plt.title(\"Confusion matrix\")\n",
    "plt.ylabel('True Label')\n",
    "plt.xlabel('Predicated Label')"
   ]
  },
  {
   "cell_type": "code",
   "execution_count": 98,
   "metadata": {},
   "outputs": [
    {
     "name": "stdout",
     "output_type": "stream",
     "text": [
      "[85676773 85676775 85676777 85676779 85676781 85676789 85676791 85676793\n",
      " 85676795 85676797 85676799 85676801 85676803 85676981 85676983 85676985\n",
      " 85676987 85676989 85676991 85677001 85677003 85677005 85677007 85677009\n",
      " 85677011 85677013 85677015 85677017 85677019 85677027 85677029 85677031\n",
      " 85677033 85677035 85679291 85679293 85679295 85679297 85679299 85679301\n",
      " 85679303 85679305 85679307 85679315 85679317 85679319 85679321 85679323\n",
      " 85679325 85679327 85679329 85679331 85679333 85679341 85679343 85679345\n",
      " 85679477 85679479 85679481 85679483 85679485 85679487 85734207 85734209\n",
      " 85734211 85734213 85734215 85734217 85734219 85734221 85734231 85734233\n",
      " 85734235 85734237 85734239 85734241 85734243 85734245 85734247 85734423\n",
      " 85734425 85734427 85734429 85734431 85734433 85734435 85734437 85734439\n",
      " 85734447 85734449 85734451 85734453 85734455 85734457 85735725 85735727\n",
      " 85735729 85735731 85735733 85735735 85735737 85735745 85735747 85735935\n",
      " 85735937 85735939 85735941 85735943 85735945 85735947 85735949 85735951\n",
      " 85735959 85735961 85735963 85735965 85735967 85735969 85735971 85735973\n",
      " 85735975 85735977 85735987 85735989 85735991 85735993 85735995 85735997\n",
      " 85737477 85737479 85737481 85737489 85737491 85737493 85737495 85737497\n",
      " 85737499 85737501 85737503 85737705 85737707 85737709 85737711 85737713\n",
      " 85737715 85737717 85737719 85737721 85737723 85737731 85737733 85737735\n",
      " 85738011 85738013 85738015 85738017 85738019 85738021 85740031 85740033\n",
      " 85740035 85740037 85740039 85740041 85740043 85740045 85740047 85740049\n",
      " 85740057 85740059 85740061 85740063 85740065 85740067 85740269 85740271\n",
      " 85740273 85740275 85740277 85740279 85740281 85740283 85742141 85742143\n",
      " 85742145 85742147 85742149 85742151 85742153 85742155 85742157 85742159\n",
      " 85742167 85742169 85742171 85742173 85742175 85742177 85742179 85742181\n",
      " 85742183 85742467 85742469 85742471 85742473 85742475 85742477 85743761\n",
      " 85743763 85743765 85743767 85743769 85743771 85743773 85744135 85744137\n",
      " 85744139 85744141 85744143 85744145 85744147 85744149 85744151 85744153\n",
      " 85744161 85744163 85744165 85744167 85744169 85744171 85744173 85744175\n",
      " 85744177 85744179 85744187 85745605 85745613 85745615 85745617 85745619\n",
      " 85745621 85745623 85745625 85745627 85745629 85745631 85745639 85745641\n",
      " 85745643 85745645 85745647 85745649 85745651 85745653 85745655 85745657\n",
      " 85745665 85745667 85745669 85745671 85745673 85745675 85745677 85745679\n",
      " 85745681 85747333 85747335 85747337 85747345 85747347 85747349 85747351\n",
      " 85747353 85747517 85747519 85747521 85747523 85747525 85747527 85747529\n",
      " 85747537 85747539 85747541 85747543 85747545 85747547 85747549 85747551\n",
      " 85747553 85747555 85747563 85747565 85747567 85747569 85747571 85747573\n",
      " 85747575 85747577 85747579 85748871 85748873 85748875 85748883 85748885\n",
      " 85748887 85748889 85748891 85748995 85748997 85748999 85749001 85749003\n",
      " 85749005 85749007 85749009 85749011 85749013 85749021 85749023 85749025\n",
      " 85749027 85749029 85749031 85749033 85749035 85749037 85749039 85749047\n",
      " 85749049 85749051 85749053 85750835 85750837 85750839 85750841 85750843\n",
      " 85750845 85750847 85750849 85750851 85750859 85750861 85750863 85750865\n",
      " 85750867 85750869 85750871 85751507 85751509 85751511 85751513 85751515\n",
      " 85751517 85751519 85751521 85751523 85751525 85751533 85751535 85751537\n",
      " 85751539 85751541 85751543 85753835 85753837 85753839 85753841 85753843\n",
      " 85753845 85753847 85753857 85753859 85753861 85753863 85753865 85753867\n",
      " 85753997 85753999 85754001 85754003 85754005 85754007 85754009 85754011\n",
      " 85754013 85754021 85754023 85754025 85754027 85754029 85754031 85754033\n",
      " 85754035 85754037 85754039 85754047 85756333 85756335 85756337 85756339\n",
      " 85756341 85756343 85756345 85756353 85756355 85756357 85756359 85756361\n",
      " 85756363 85756365 85756367 85756369 85756371 85756379 85756381 85756383\n",
      " 85756385 85756387 85756389 85756391 85758511 85758513 85758515 85758517\n",
      " 85758519 85758521 85758523 85758531 85758533 85758535 85758537 85758539\n",
      " 85758541 85758543 85758545 85758547 85758549 85758557 85758559 85758735\n",
      " 85758737 85758739 85758747 85758749 85758751 85758753 85758755 85758757\n",
      " 85758759 85758761 85758763 85758765 85758773 85758775 86537407 86537409\n",
      " 86537411 86537419 86537421 86537423 86537425 86537427 86537429 86537431\n",
      " 86537433 86537435 86537437 86537445 86537447 86537587 86537589 86537591\n",
      " 86537593 86537595 86537597 86537599 86537601 86537611 86537613 86537615\n",
      " 86537617 86537619 86537621 86537623 86537625]\n"
     ]
    }
   ],
   "source": [
    "wrong_four_unique = np.unique([w.cpu().detach().numpy() for w in wrong_four])\n",
    "print(wrong_four_unique)\n"
   ]
  },
  {
   "cell_type": "code",
   "execution_count": 99,
   "metadata": {},
   "outputs": [
    {
     "name": "stdout",
     "output_type": "stream",
     "text": [
      "Total number of frames: 485\n"
     ]
    }
   ],
   "source": [
    "data_masked = all_data[all_data['current_frame'].isin(wrong_four_unique) ]\n",
    "assert np.unique(data_masked['Label']) == [4]\n",
    "masked_data_grouped = data_masked.groupby(\"current_frame\")\n",
    "print(\"Total number of frames: \"+str(len(masked_data_grouped)))\n",
    "\n",
    "masked_data_array = np.asarray([frame for (_, frame) in masked_data_grouped], dtype=\"object\")\n",
    "# Sort the data\n",
    "sorted_masked_data = sorted(masked_data_array,key=lambda x:x[\"current_frame\"].max(axis=0))"
   ]
  },
  {
   "cell_type": "code",
   "execution_count": 106,
   "metadata": {},
   "outputs": [
    {
     "data": {
      "image/png": "[encoded data removed]",
      "text/plain": [
       "<Figure size 640x480 with 1 Axes>"
      ]
     },
     "metadata": {},
     "output_type": "display_data"
    }
   ],
   "source": [
    "data = [frame.to_numpy() for frame in sorted_masked_data]\n",
    "frame_num = 215\n",
    "frame1 = data[frame_num]\n",
    "frame2 = data[frame_num+1]\n",
    "frame3 = data[frame_num+2]\n",
    "frame4 = data[frame_num+3]\n",
    "frame5 = data[frame_num+4]\n",
    "frame6 = data[frame_num+5]\n",
    "plt.scatter(frame1[:, 5], frame1[:, 4], c=\"red\", label=\"Frame 1\")\n",
    "plt.scatter(frame2[:, 5], frame2[:, 4], c=\"lime\", label=\"Frame 2\")\n",
    "plt.scatter(frame3[:, 5], frame3[:, 4], c=\"blue\", label=\"Frame 3\")\n",
    "plt.scatter(frame4[:, 5], frame4[:, 4], c=\"hotpink\", label=\"Frame 4\")\n",
    "plt.scatter(frame5[:, 5], frame5[:, 4], c=\"black\", label=\"Frame 5\")\n",
    "plt.scatter(frame6[:, 5], frame6[:, 4], c=\"orange\", label=\"Frame 6\")\n",
    "plt.legend()\n",
    "plt.title(\"3 consequent frames of 5 people moving\")\n",
    "plt.ylabel(\"y\")\n",
    "plt.xlabel(\"x\")\n",
    "plt.xlim(-15, 5)\n",
    "plt.ylim(2, 11)\n",
    "plt.show()"
   ]
  },
  {
   "cell_type": "code",
   "execution_count": 11,
   "metadata": {},
   "outputs": [
    {
     "data": {
      "image/png": "[encoded data removed]",
      "text/plain": [
       "<Figure size 640x480 with 1 Axes>"
      ]
     },
     "metadata": {},
     "output_type": "display_data"
    }
   ],
   "source": [
    "accuracies = np.array([0.7717, 0.7614, 0.7714,0.8361,0.8783,0.8817,0.8771,0.8864, 0.8963, 0.8666,0.8693,0.8714,0.8871,0.8401,0.7969])\n",
    "\n",
    "frame_depths = [2,4,5,6,8]\n",
    "ks =[3,5,8]\n",
    "plt.plot(frame_depths, accuracies[[i*len(ks) for i in range(len(frame_depths))]], label = \"k = 3\", marker=\"8\") \n",
    "plt.plot(frame_depths, accuracies[[i*len(ks)+1 for i in range(len(frame_depths))]], label = \"k = 5\", marker=\"8\") \n",
    "plt.plot(frame_depths, accuracies[[i*len(ks)+2 for i in range(len(frame_depths))]], label = \"k = 8\", marker=\"8\") \n",
    "plt.plot(5, 0.9173, label = \"k = 32\", marker=\"8\") \n",
    "plt.xlabel(\"Frame depth\")\n",
    "plt.ylabel(\"Accuracy\")\n",
    "plt.legend() \n",
    "plt.show()"
   ]
  },
  {
   "cell_type": "markdown",
   "metadata": {},
   "source": [
    "#### Distribution of the train data"
   ]
  },
  {
   "cell_type": "code",
   "execution_count": 14,
   "metadata": {},
   "outputs": [
    {
     "data": {
      "image/png": "[encoded data removed]",
      "text/plain": [
       "<Figure size 640x480 with 1 Axes>"
      ]
     },
     "metadata": {},
     "output_type": "display_data"
    }
   ],
   "source": [
    "data_points = np.array([d.y.item() for d in train_graphs[0]])\n",
    "zeros = len(np.where(data_points  == 0)[0])\n",
    "ones = len(np.where(data_points  == 1)[0])\n",
    "twos = len(np.where(data_points  == 2)[0])\n",
    "threes = len(np.where(data_points  == 3)[0]) \n",
    "fours = len(np.where(data_points  == 4)[0])\n",
    "bikes = len(np.where(data_points  == 5)[0])\n",
    "\n",
    "labels = [1,2,3,4,5, 6]\n",
    "sample_num = [zeros, ones, twos, threes, fours,bikes]\n",
    "p = plt.bar(labels, sample_num)\n",
    "plt.xlabel(\"Number of people\")\n",
    "plt.ylabel(\"Number of samples\")\n",
    "plt.bar_label(p)\n",
    "plt.show()"
   ]
  },
  {
   "cell_type": "code",
   "execution_count": null,
   "metadata": {},
   "outputs": [],
   "source": []
  }
 ],
 "metadata": {
  "kernelspec": {
   "display_name": "Python 3 (ipykernel)",
   "language": "python",
   "name": "python3"
  },
  "language_info": {
   "codemirror_mode": {
    "name": "ipython",
    "version": 3
   },
   "file_extension": ".py",
   "mimetype": "text/x-python",
   "name": "python",
   "nbconvert_exporter": "python",
   "pygments_lexer": "ipython3",
   "version": "3.10.12"
  }
 },
 "nbformat": 4,
 "nbformat_minor": 2
}
