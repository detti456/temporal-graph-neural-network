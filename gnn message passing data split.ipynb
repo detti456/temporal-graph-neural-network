{
 "cells": [
  {
   "cell_type": "code",
   "execution_count": 1,
   "metadata": {},
   "outputs": [],
   "source": [
    "import glob\n",
    "import math\n",
    "import random\n",
    "from typing import Callable, Union, Optional, List\n",
    "\n",
    "import numpy as np\n",
    "import pandas as pd\n",
    "from sklearn.metrics import confusion_matrix\n",
    "from pandas import DataFrame\n",
    "from matplotlib import pyplot as plt\n",
    "import networkx as nx\n",
    "from scipy.spatial import distance as distance_calculator\n",
    "import torch\n",
    "from torch import Tensor\n",
    "from torch_geometric import nn\n",
    "from torch_geometric.loader import DataLoader\n",
    "from torch_geometric.data import Data, InMemoryDataset\n",
    "from torch_geometric.nn import GCNConv, global_max_pool, GATConv\n",
    "import torch.nn.functional as F\n",
    "from torch_geometric.typing import PairTensor, OptTensor\n",
    "from torch_geometric.utils import scatter, to_networkx, add_self_loops\n",
    "import seaborn as sn\n",
    "from torch.nn import Sequential as Seq, Linear as Lin, Dropout, ReLU, BatchNorm1d as BN\n",
    "from torch_geometric.nn.conv import MessagePassing\n",
    "from torch_multi_head_attention import MultiHeadAttention\n",
    "import torch_scatter\n",
    "from torch_cluster import knn"
   ]
  },
  {
   "cell_type": "code",
   "execution_count": 2,
   "metadata": {},
   "outputs": [
    {
     "name": "stdout",
     "output_type": "stream",
     "text": [
      "Largest frame number: 87019891.0\n",
      "Total number of frames: 22209\n",
      "[0, 83, 5052, 5619, 4391, 3465, 3599]\n",
      "22209\n"
     ]
    }
   ],
   "source": [
    "random.seed(42)\n",
    "column_names=['range','azimuth','doppler','snr','y','x','current_frame','seq']\n",
    "frames_per_feature = [0]\n",
    "\n",
    "features0: DataFrame = pd.concat(\n",
    "    [pd.read_csv(filename, names=column_names, header=None, dtype=float) for filename in glob.glob(\"data/0/0/*.csv\")])\n",
    "features0.insert(8, \"Label\", np.zeros(len(features0), dtype=int), True)\n",
    "frames_per_feature.append(len(np.unique(features0[\"current_frame\"].to_numpy())))\n",
    "max_frame = max(features0[\"current_frame\"])\n",
    "\n",
    "features1: DataFrame = pd.concat(\n",
    "    [pd.read_csv(filename, names=column_names, header=None, dtype=float) for filename in glob.glob(\"data/1/1/*.csv\")])\n",
    "features1.insert(8, \"Label\", np.ones(len(features1), dtype=int), True)\n",
    "frames_per_feature.append(len(np.unique(features1[\"current_frame\"].to_numpy())))\n",
    "min_frame = min(features1[\"current_frame\"])\n",
    "shift = max_frame-min_frame+10\n",
    "features1[\"current_frame\"] += shift\n",
    "max_frame = max(features1[\"current_frame\"])\n",
    "\n",
    "features2: DataFrame = pd.concat(\n",
    "    [pd.read_csv(filename, names=column_names, header=None, dtype=float) for filename in glob.glob(\"data/2/2/*.csv\")])\n",
    "features2.insert(8, \"Label\", np.full(len(features2), 2, dtype=int), True)\n",
    "frames_per_feature.append(len(np.unique(features2[\"current_frame\"].to_numpy())))\n",
    "min_frame = min(features2[\"current_frame\"])\n",
    "shift = max_frame-min_frame+10\n",
    "features2[\"current_frame\"] += shift\n",
    "max_frame = max(features2[\"current_frame\"])\n",
    "\n",
    "features3: DataFrame = pd.concat(\n",
    "    [pd.read_csv(filename, names=column_names, header=None, dtype=float) for filename in glob.glob(\"data/3/3/*.csv\")])\n",
    "features3.insert(8, \"Label\", np.full(len(features3), 3, dtype=int), True)\n",
    "frames_per_feature.append(len(np.unique(features3[\"current_frame\"].to_numpy())))\n",
    "min_frame = min(features3[\"current_frame\"])\n",
    "shift = max_frame-min_frame+10\n",
    "features3[\"current_frame\"] += shift\n",
    "max_frame = max(features3[\"current_frame\"])\n",
    "\n",
    "features4: DataFrame = pd.concat(\n",
    "    [pd.read_csv(filename, names=column_names, header=None, dtype=float) for filename in glob.glob(\"data/4/4/*.csv\")])\n",
    "features4.insert(8, \"Label\", np.full(len(features4), 4, dtype=int), True)\n",
    "frames_per_feature.append(len(np.unique(features4[\"current_frame\"].to_numpy())))\n",
    "min_frame = min(features4[\"current_frame\"])\n",
    "shift = max_frame-min_frame+10\n",
    "features4[\"current_frame\"] += shift\n",
    "max_frame = max(features4[\"current_frame\"])\n",
    "\n",
    "features5: DataFrame = pd.concat(\n",
    "    [pd.read_csv(filename, names=column_names, header=None, dtype=float) for filename in glob.glob(\"data/bigger/bigger/*.csv\")])\n",
    "features5.insert(8, \"Label\", np.full(len(features5), 5, dtype=int), True)\n",
    "frames_per_feature.append(len(np.unique(features5[\"current_frame\"].to_numpy())))\n",
    "min_frame = min(features5[\"current_frame\"])\n",
    "shift = max_frame-min_frame+10\n",
    "features5[\"current_frame\"] += shift\n",
    "max_frame = max(features5[\"current_frame\"])\n",
    "\n",
    "all_data = pd.concat([features0, features1, features2, features3, features4, features5])\n",
    "\n",
    "all_data_grouped = all_data.groupby(\"current_frame\")\n",
    "print(\"Largest frame number: \"+str(max_frame))\n",
    "print(\"Total number of frames: \"+str(len(all_data_grouped)))\n",
    "print(frames_per_feature)\n",
    "print(np.sum(frames_per_feature))"
   ]
  },
  {
   "cell_type": "code",
   "execution_count": 3,
   "metadata": {},
   "outputs": [],
   "source": [
    "data_array = np.asarray([frame for (_, frame) in all_data_grouped], dtype=\"object\")"
   ]
  },
  {
   "cell_type": "code",
   "execution_count": 64,
   "metadata": {},
   "outputs": [],
   "source": [
    "def data_split_sections(data_array, frames_per_feature):\n",
    "    test_frac:float = 0.3\n",
    "    train = []\n",
    "    test = []\n",
    "    frame_sum = 0\n",
    "    for i in range(6):\n",
    "        random.seed(42)\n",
    "        frame_sum += frames_per_feature[i]\n",
    "        test_length = int(np.round(frames_per_feature[i+1] * test_frac))\n",
    "        test_start = random.randint(0,frames_per_feature[i+1] - test_length) + frame_sum\n",
    "        print(test_start)\n",
    "        test.extend(data_array[test_start:test_start+test_length])\n",
    "        train.extend(data_array[frame_sum:test_start])\n",
    "        train.extend(data_array[test_start+test_length:frame_sum+frames_per_feature[i+1]])\n",
    "        print(np.unique([np.unique(t_frame[\"Label\"].to_numpy()) for t_frame in test]))\n",
    "        print(np.unique([np.unique(t_frame[\"Label\"].to_numpy()) for t_frame in train]))\n",
    "        print(str(len(train))+\" + \"+str(len(test))+\" = \"+str(len(train)+len(test)))\n",
    "    return train, test\n",
    "\n",
    "def random_split_keeping_graphs(data_array, frame_depth, test_frac):\n",
    "    indexes = np.arange(len(data_array))\n",
    "    random.seed(42)\n",
    "    test_indexes = np.array(random.sample(range(len(data_array)-frame_depth-1), int(np.round(len(data_array) * (test_frac/(frame_depth+1))))))\n",
    "    print(test_indexes)\n",
    "    for i in range(frame_depth):\n",
    "        next_frame = test_indexes+(i+1)\n",
    "        print(next_frame)\n",
    "        test_indexes = np.concatenate((test_indexes, next_frame))\n",
    "    test_indexes = np.unique(test_indexes)\n",
    "    train_indexes = np.setdiff1d(indexes, test_indexes)\n",
    "    test = data_array[test_indexes]\n",
    "    train = data_array[train_indexes]\n",
    "    return train, test"
   ]
  },
  {
   "cell_type": "code",
   "execution_count": 65,
   "metadata": {},
   "outputs": [
    {
     "name": "stdout",
     "output_type": "stream",
     "text": [
      "[20952  3648   819 ...  9805 19455 11022]\n",
      "[20953  3649   820 ...  9806 19456 11023]\n",
      "[20954  3650   821 ...  9808 19458 11025]\n",
      "14514 + 7695 = 22209\n"
     ]
    }
   ],
   "source": [
    "train, test = random_split_keeping_graphs(data_array, 2, 0.3)\n",
    "print(str(len(train))+\" + \"+str(len(test))+\" = \"+str(len(train)+len(test)))"
   ]
  },
  {
   "cell_type": "code",
   "execution_count": 3,
   "metadata": {},
   "outputs": [],
   "source": [
    "# data_array = np.asarray([frame for (_, frame) in all_data_grouped], dtype=\"object\")\n",
    "# random.seed(42)\n",
    "# random.shuffle(data_array)\n",
    "# train = data_array[:int(0.7 * len(data_array))]\n",
    "# test = data_array[int(0.7 * len(data_array)):]\n",
    "# val = data_array[int(0.85 * len(data_array)):]"
   ]
  },
  {
   "cell_type": "code",
   "execution_count": 66,
   "metadata": {},
   "outputs": [],
   "source": [
    "device = torch.device('cuda' if torch.cuda.is_available() else 'cpu')"
   ]
  },
  {
   "cell_type": "code",
   "execution_count": 69,
   "metadata": {},
   "outputs": [],
   "source": [
    "def connect_frames(current_frame, previous_frame, k: int, start_index: int):\n",
    "    \"\"\"\n",
    "    Calculates the edges between two frames. \n",
    "    \n",
    "    :param current_frame: The current frame containing parameters to calculate the distance based on \n",
    "    :param previous_frame: The previous frame containing parameters to calculate the distance based on \n",
    "    :param k: The number of nearest neighbours to have in the graph\n",
    "    :param start_index: The index to start labeling the nodes from\n",
    "    :return: The values (distance between points) of the edges and an adjacency list containing the nodes that are connected in the graph\n",
    "    \"\"\"\n",
    "    edges = []\n",
    "    adjacency_list = []\n",
    "    previous_nodes = np.arange(len(previous_frame))\n",
    "    for i, point in enumerate(current_frame):\n",
    "        distances = distance_calculator.cdist([point], previous_frame, 'euclidean')[0]\n",
    "        idx = distances.argsort()[::-1]\n",
    "        distances = distances[idx]\n",
    "        previous_nodes = previous_nodes[idx]\n",
    "        neighbours = k\n",
    "        if len(distances) < k:\n",
    "            return [], [], False\n",
    "        for j in range(neighbours):\n",
    "            edges.append(distances[j])\n",
    "            adjacency_list.append((i+start_index, previous_nodes[j]+start_index+len(current_frame)))\n",
    "    return edges, adjacency_list, True\n",
    "\n",
    "def create_graph_list_no_overlap(frames: List[DataFrame], k = 1, frame_depth = 2):\n",
    "    \"\"\"\n",
    "    Creates a list of Data objects that represents the graphs build from the input data. The edges in the graph connects the frames to the previous frame by connecting each points in a frame to it's nearest neighbour in the previous frame. The nodes contain information about: doppler, snr, y and x. The edges store information about the distance between the points (closer points have higher value).\n",
    "    \n",
    "    :param frames: input data grouped and sorted by the frame number\n",
    "    :param k: the number of nearest neighbours to connect each points to\n",
    "    :param frame_depth: the number of frames, one graph should contain\n",
    "    :return: a list of Data objects, containing information about the created graphs\n",
    "    \"\"\"\n",
    "    graphs = []\n",
    "    frame_iter = iter(frames[frame_depth:])\n",
    "    i = 0\n",
    "    for frame in frame_iter:\n",
    "        nodes = []\n",
    "        edges = []\n",
    "        adjacency_list = []\n",
    "        relevant_frames = frames[i: i + frame_depth + 1]\n",
    "        point_data = [rf[['doppler','snr','y','x']] for rf in relevant_frames]\n",
    "        time_distance = relevant_frames[-1].iloc[0, 6] - relevant_frames[0].iloc[0, 6]\n",
    "        if time_distance > frame_depth * 3:\n",
    "            i += 1\n",
    "            continue\n",
    "        point_data_array = [df.to_numpy() for df in point_data]\n",
    "        start_index = 0\n",
    "        for depth in range(frame_depth):\n",
    "            pairwise_edges, pairwise_adjacency_list, success = \\\n",
    "                connect_frames(point_data_array[frame_depth-depth], point_data_array[frame_depth-depth-1], k, start_index)\n",
    "            if not success:\n",
    "                break\n",
    "            start_index += len(relevant_frames[frame_depth-depth])\n",
    "            edges.extend(pairwise_edges)\n",
    "            adjacency_list.extend(pairwise_adjacency_list)\n",
    "            nodes.extend(point_data_array[frame_depth-depth])\n",
    "            next(frame_iter, None)\n",
    "            i += 1\n",
    "        if not success:\n",
    "                i += 1\n",
    "                continue\n",
    "        nodes.extend(point_data_array[0])\n",
    "        label = frame[\"Label\"].values[0]\n",
    "        \n",
    "        graphs.append(Data(x=torch.tensor(np.array(nodes), dtype=torch.float, device=device), \n",
    "                    edge_index=torch.tensor(np.array(adjacency_list), dtype=torch.int64, device=device).t().contiguous(),\n",
    "                    edge_attr=torch.tensor(np.array(edges), dtype=torch.float, device=device),\n",
    "                    y=torch.tensor(label, dtype=torch.int64, device=device)))\n",
    "        next(frame_iter, None)\n",
    "        i += 1\n",
    "        print(i)\n",
    "    return graphs\n",
    "\n",
    "def create_graph_list_with_overlap(frames:List[DataFrame], k = 1, frame_depth = 2):\n",
    "    \"\"\"\n",
    "    Creates a list of Data objects that represents the graphs build from the input data. The edges in the graph connects the frames to the previous frame by connecting each points in a frame to it's nearest neighbour in the previous frame. The nodes contain information about: doppler, snr, y and x. The edges store information about the distance between the points (closer points have higher value).\n",
    "    \n",
    "    :param frames: input data grouped and sorted by the frame number\n",
    "    :param k: the number of nearest neighbours to connect each points to\n",
    "    :param frame_depth: the number of frames, one graph should contain\n",
    "    :return: a list of Data objects, containing information about the created graphs\n",
    "    \"\"\"\n",
    "    graphs = []\n",
    "    for i, frame in enumerate(frames[frame_depth:]):\n",
    "        nodes = []\n",
    "        edges = []\n",
    "        adjacency_list = []\n",
    "        relevant_frames = frames[i: i + frame_depth + 1]\n",
    "        point_data = [rf[['doppler','snr','y','x']] for rf in relevant_frames]\n",
    "        time_distance = relevant_frames[-1].iloc[0, 6] - relevant_frames[0].iloc[0, 6]\n",
    "        if time_distance > frame_depth * 3:\n",
    "            continue\n",
    "        point_data_array = [df.to_numpy() for df in point_data]\n",
    "        start_index = 0\n",
    "        for depth in range(frame_depth):\n",
    "            pairwise_edges, pairwise_adjacency_list, success = \\\n",
    "                connect_frames(point_data_array[frame_depth-depth], point_data_array[frame_depth-depth-1], k, start_index)\n",
    "            if not success:\n",
    "                break\n",
    "            start_index += len(relevant_frames[frame_depth-depth])\n",
    "            edges.extend(pairwise_edges)\n",
    "            adjacency_list.extend(pairwise_adjacency_list)\n",
    "            nodes.extend(point_data_array[frame_depth-depth])\n",
    "        if not success:\n",
    "                continue\n",
    "        nodes.extend(point_data_array[0])\n",
    "        label = frame[\"Label\"].values[0]\n",
    "        \n",
    "        graphs.append(Data(x=torch.tensor(np.array(nodes), dtype=torch.float, device=device), \n",
    "                    edge_index=torch.tensor(np.array(adjacency_list), dtype=torch.int64, device=device).t().contiguous(),\n",
    "                    edge_attr=torch.tensor(np.array(edges), dtype=torch.float, device=device),\n",
    "                    y=torch.tensor(label, dtype=torch.int64, device=device)))\n",
    "    return graphs\n",
    "\n",
    "def create_graph_list_with_frame_num(frames:List[DataFrame], k = 1, frame_depth = 2):\n",
    "    \"\"\"\n",
    "    Creates a list of Data objects that represents the graphs build from the input data. The edges in the graph connects the frames to the previous frame by connecting each points in a frame to it's nearest neighbour in the previous frame. The nodes contain information about: doppler, snr, y and x. The edges store information about the distance between the points (closer points have higher value).\n",
    "    \n",
    "    :param frames: input data grouped and sorted by the frame number\n",
    "    :param k: the number of nearest neighbours to connect each points to\n",
    "    :param frame_depth: the number of frames, one graph should contain\n",
    "    :return: a list of Data objects, containing information about the created graphs\n",
    "    \"\"\"\n",
    "    graphs = []\n",
    "    for i, frame in enumerate(frames[frame_depth:]):\n",
    "        nodes = []\n",
    "        edges = []\n",
    "        adjacency_list = []\n",
    "        relevant_frames = frames[i: i + frame_depth + 1]\n",
    "        point_data = [rf[['doppler','snr','y','x']] for rf in relevant_frames]\n",
    "        time_distance = relevant_frames[-1].iloc[0, 6] - relevant_frames[0].iloc[0, 6]\n",
    "        if time_distance > frame_depth * 3:\n",
    "            continue\n",
    "        # point_data_array = [df.to_numpy() for df in point_data]\n",
    "        start_index = 0\n",
    "        point_data[frame_depth].insert(4, \"Frame num\", np.ones(len(point_data[frame_depth]), dtype=int), True)\n",
    "        frame_num = 2\n",
    "        for depth in range(frame_depth):\n",
    "            point_data[frame_depth-depth-1].insert(4, \"Frame num\", np.full(len(point_data[frame_depth-depth-1]), frame_num, dtype=int), True)\n",
    "            frame_num += 1\n",
    "            pairwise_edges, pairwise_adjacency_list, success = \\\n",
    "                connect_frames(point_data[frame_depth-depth].to_numpy(), point_data[frame_depth-depth-1].to_numpy(), k, start_index)\n",
    "            if not success:\n",
    "                break\n",
    "            start_index += len(relevant_frames[frame_depth-depth])\n",
    "            edges.extend(pairwise_edges)\n",
    "            adjacency_list.extend(pairwise_adjacency_list)\n",
    "            nodes.extend(point_data[frame_depth-depth].to_numpy())\n",
    "        if not success:\n",
    "                continue\n",
    "        nodes.extend(point_data[0].to_numpy())\n",
    "        label = frame[\"Label\"].values[0]\n",
    "        \n",
    "        graphs.append(Data(x=torch.tensor(np.array(nodes), dtype=torch.float, device=device), \n",
    "                    edge_index=torch.tensor(np.array(adjacency_list), dtype=torch.int64, device=device).t().contiguous(),\n",
    "                    edge_attr=torch.tensor(np.array(edges), dtype=torch.float, device=device),\n",
    "                    y=torch.tensor(label, dtype=torch.int64, device=device)))\n",
    "    return graphs\n",
    "\n"
   ]
  },
  {
   "cell_type": "code",
   "execution_count": 70,
   "metadata": {},
   "outputs": [
    {
     "name": "stdout",
     "output_type": "stream",
     "text": [
      "8656\n"
     ]
    }
   ],
   "source": [
    "sorted_train_data = sorted(train,key=lambda x:x[\"current_frame\"].max(axis=0))\n",
    "train_frame_graphs = create_graph_list_with_frame_num(sorted_train_data, k=3)\n",
    "torch.save(train_frame_graphs, \"data/train_frame_graphs_k3_with_frame_num_separate_graphs.pt\")\n",
    "print(len(train_frame_graphs))"
   ]
  },
  {
   "cell_type": "code",
   "execution_count": 71,
   "metadata": {},
   "outputs": [
    {
     "name": "stdout",
     "output_type": "stream",
     "text": [
      "3666\n"
     ]
    }
   ],
   "source": [
    "sorted_test_data = sorted(test,key=lambda x:x[\"current_frame\"].max(axis=0))\n",
    "test_frame_graphs = create_graph_list_with_frame_num(sorted_test_data, k=3)\n",
    "torch.save(test_frame_graphs, \"data/test_frame_graphs_k3_with_frame_num_separate_graphs.pt\")\n",
    "print(len(test_frame_graphs))"
   ]
  },
  {
   "cell_type": "code",
   "execution_count": 82,
   "metadata": {},
   "outputs": [],
   "source": [
    "# random.seed(42)\n",
    "# random.shuffle(frame_graphs)\n",
    "# train = frame_graphs[:int(0.7 * len(frame_graphs))]\n",
    "# test = frame_graphs[int(0.7 * len(frame_graphs)):int(0.85 * len(frame_graphs))]\n",
    "# val = frame_graphs[int(0.85 * len(frame_graphs)):]\n",
    "random.seed(42)\n",
    "random.shuffle(train_frame_graphs)\n",
    "random.seed(42)\n",
    "random.shuffle(test_frame_graphs)\n",
    "\n",
    "train_dataloader = DataLoader(train_frame_graphs, batch_size=32, shuffle=True, num_workers = 0) \n",
    "test_dataloader = DataLoader(test_frame_graphs, batch_size=32, shuffle=True, num_workers = 0) \n",
    "# val_dataloader = DataLoader(val, batch_size=32, shuffle=True, num_workers = 0) "
   ]
  },
  {
   "cell_type": "code",
   "execution_count": 83,
   "metadata": {},
   "outputs": [],
   "source": [
    "def MLP(channels, batch_norm=True):\n",
    "    return Seq(*[\n",
    "        Seq(Lin(channels[i - 1], channels[i]), ReLU(), BN(channels[i]))\n",
    "        for i in range(1, len(channels))\n",
    "    ])\n",
    "\n",
    "def reset(nn):\n",
    "    def _reset(item):\n",
    "        if hasattr(item, 'reset_parameters'):\n",
    "            item.reset_parameters()\n",
    "\n",
    "    if nn is not None:\n",
    "        if hasattr(nn, 'children') and len(list(nn.children())) > 0:\n",
    "            for item in nn.children():\n",
    "                _reset(item)\n",
    "        else:\n",
    "            _reset(nn)\n",
    "            \n",
    "class GeneralizedTemporalSelfAttentionDynamicEdgeConv(MessagePassing):\n",
    "    def __init__(self, nn: Callable, \n",
    "                 k: int,\n",
    "                 aggr: str = 'max',\n",
    "                 **kwargs):\n",
    "        \n",
    "        super(GeneralizedTemporalSelfAttentionDynamicEdgeConv,\n",
    "              self).__init__(aggr=aggr, flow='source_to_target', **kwargs)\n",
    "\n",
    "        self.nn = nn\n",
    "        self.multihead_attn = MultiHeadAttention(64, 8)\n",
    "        self.k = k\n",
    "        self.reset_parameters()\n",
    "\n",
    "    def reset_parameters(self):\n",
    "        reset(self.multihead_attn)\n",
    "        reset(self.nn)\n",
    "\n",
    "    def forward(self, data) -> Tensor:\n",
    "        #TODO: include self loops by increasing k+1 for attention\n",
    "        # edge_index, edge_attr = add_self_loops(data.edge_index, edge_attr=data.edge_attr, fill_value=0, num_nodes=data.x.size(0))\n",
    "        return self.propagate(data.edge_index, x=data.x, edge_attr=data.edge_attr, size=None, batch=data.batch)\n",
    "\n",
    "    def message(self, x_i: Tensor, x_j: Tensor, edge_attr) -> Tensor:\n",
    "        msg = torch.cat([x_j, x_i - x_j], dim=-1) #, torch.reshape(edge_attr, (len(edge_attr),1))\n",
    "        return self.nn(msg)\n",
    "\n",
    "    def aggregate(self, inputs: Tensor, index: Tensor,\n",
    "                  dim_size: Optional[int] = None) -> Tensor:\n",
    "        original_shape = inputs.shape\n",
    "        attention_input_shape = list([int(original_shape[0] / self.k)]) + list(original_shape)\n",
    "        attention_input_shape[1] = self.k\n",
    "        self_attention_input = inputs.reshape(attention_input_shape)\n",
    "        attn_output = self.multihead_attn(self_attention_input, self_attention_input, self_attention_input)\n",
    "        attn_output = attn_output.reshape(original_shape)\n",
    "        # Apply attention mechanism\n",
    "        return scatter(attn_output, index, dim=self.node_dim, dim_size=dim_size,\n",
    "                       reduce=self.aggr)\n"
   ]
  },
  {
   "cell_type": "code",
   "execution_count": 84,
   "metadata": {},
   "outputs": [],
   "source": [
    "class Net2(torch.nn.Module):\n",
    "    def __init__(self, out_channels, graph_convolution_layers=2, T=1, k=4, spatio_temporal_factor=0.01, aggr='max'):\n",
    "        super().__init__()\n",
    "        self.graph_convolution_layers = graph_convolution_layers\n",
    "\n",
    "\n",
    "        self.conv1 = GeneralizedTemporalSelfAttentionDynamicEdgeConv(nn=MLP([2*5, 64, 64, 64]), k=3)\n",
    "        self.lin1 = MLP([64, 1024])\n",
    "\n",
    "        self.mlp = Seq(\n",
    "            MLP([1024, 512]), Dropout(0.5), MLP([512, 256]), Dropout(0.5),\n",
    "            Lin(256, out_channels))\n",
    "\n",
    "    def forward(self, data):\n",
    "       \n",
    "        x1 = self.conv1(data)\n",
    "       \n",
    "        out = self.lin1(x1)\n",
    "        out = self.mlp(out)\n",
    "        out = scatter(src=out, index=data.batch, dim=0, reduce='mean')\n",
    "        return F.log_softmax(out, dim=1)"
   ]
  },
  {
   "cell_type": "code",
   "execution_count": 85,
   "metadata": {},
   "outputs": [],
   "source": [
    "model = Net2(6, graph_convolution_layers=1).to(device)\n",
    "optimizer = torch.optim.Adam(model.parameters(), lr=0.01, weight_decay=5e-4)\n",
    "scheduler = torch.optim.lr_scheduler.StepLR(optimizer, step_size=20, gamma=0.5)\n",
    "\n",
    "\n",
    "model.train()\n",
    "losses = []\n",
    "correct = 0\n",
    "count = 0\n",
    "accuracies = []\n",
    "for epoch in range(100):\n",
    "    for train_batch in train_dataloader:\n",
    "        train_batch = train_batch.to(device)\n",
    "        optimizer.zero_grad()\n",
    "        out = model(train_batch)\n",
    "        pred = out.argmax(dim=1)\n",
    "        correct += (pred == train_batch.y).sum()\n",
    "        loss = F.nll_loss(out, train_batch.y)\n",
    "        losses.append(loss.detach())\n",
    "        loss.backward()\n",
    "        optimizer.step()\n",
    "        count += len(train_batch)\n",
    "        acc = int(correct) / count\n",
    "        accuracies.append(acc)\n",
    "    scheduler.step()"
   ]
  },
  {
   "cell_type": "code",
   "execution_count": 86,
   "metadata": {},
   "outputs": [
    {
     "data": {
      "image/png": "[encoded data removed]",
      "text/plain": [
       "<Figure size 640x480 with 1 Axes>"
      ]
     },
     "metadata": {},
     "output_type": "display_data"
    },
    {
     "name": "stdout",
     "output_type": "stream",
     "text": [
      "Accuracy: 0.6781596580406655\n",
      "Loss: tensor(0.8247)\n"
     ]
    }
   ],
   "source": [
    "losses = [tensor.cpu() for tensor in losses]\n",
    "\n",
    "plt.plot(losses, c=\"blue\")\n",
    "plt.plot(accuracies, c=\"red\")\n",
    "plt.title(\"Loss of the training\")\n",
    "plt.ylabel(\"Loss\")\n",
    "plt.xlabel(\"Iteration\")\n",
    "plt.show()\n",
    "\n",
    "print(\"Accuracy: \"+str(accuracies[-1]))\n",
    "print(\"Loss: \"+str(losses[-1]))"
   ]
  },
  {
   "cell_type": "code",
   "execution_count": 87,
   "metadata": {},
   "outputs": [
    {
     "name": "stdout",
     "output_type": "stream",
     "text": [
      "Accuracy: 0.7196\n"
     ]
    }
   ],
   "source": [
    "model.eval()\n",
    "total_y_pred_label = []\n",
    "total_y_true_label = []\n",
    "correct = 0\n",
    "for test_batch in test_dataloader:\n",
    "    test_batch = test_batch.to(device)\n",
    "    pred = model(test_batch).argmax(dim=1)\n",
    "    total_y_pred_label.extend(pred)\n",
    "    total_y_true_label.extend(test_batch.y)\n",
    "    # print(\"Predicted: \" + str(pred) + \", real: \"+ str(test_batch.y))\n",
    "    correct += (pred == test_batch.y).sum()\n",
    "acc = int(correct) / len(test_frame_graphs)\n",
    "print(f'Accuracy: {acc:.4f}')"
   ]
  },
  {
   "cell_type": "code",
   "execution_count": 88,
   "metadata": {},
   "outputs": [
    {
     "data": {
      "text/plain": [
       "Text(0.5, 14.722222222222216, 'Predicated Label')"
      ]
     },
     "execution_count": 88,
     "metadata": {},
     "output_type": "execute_result"
    },
    {
     "data": {
      "image/png": "[encoded data removed]",
      "text/plain": [
       "<Figure size 500x400 with 2 Axes>"
      ]
     },
     "metadata": {},
     "output_type": "display_data"
    }
   ],
   "source": [
    "SHAPE_NAMES = [ 0,1,2,3,4,5]\n",
    "SHAPE_LABELS = [ 0,1,2,3,4,\">4\"]\n",
    "total_y_pred = [pred_label.item() for pred_label in total_y_pred_label]\n",
    "total_y_true = [true_label.item() for true_label in total_y_true_label]\n",
    "cm = confusion_matrix(total_y_true, total_y_pred, labels=SHAPE_NAMES)\n",
    "# print(cm)\n",
    "cm = (cm.astype('float') / cm.sum(axis=1)[:, np.newaxis]) \n",
    "\n",
    "df_cm = pd.DataFrame(cm, index = SHAPE_LABELS,\n",
    "              columns = SHAPE_LABELS)\n",
    "plt.figure(figsize = (5,4))\n",
    "plot = sn.heatmap(df_cm, annot=True, cmap='Blues')\n",
    "figure = plot.get_figure()\n",
    "plt.title(\"Confusion matrix\")\n",
    "plt.ylabel('True Label')\n",
    "plt.xlabel('Predicated Label')"
   ]
  },
  {
   "cell_type": "code",
   "execution_count": 56,
   "metadata": {},
   "outputs": [],
   "source": [
    "torch.save(model, \"data/trained_model_k3_tesla_split_with_sections.pt\")"
   ]
  },
  {
   "cell_type": "code",
   "execution_count": null,
   "metadata": {},
   "outputs": [],
   "source": [
    "loaded_model = torch.load(\"data/trained_model_k3_tesla.pt\")"
   ]
  },
  {
   "cell_type": "code",
   "execution_count": null,
   "metadata": {},
   "outputs": [],
   "source": [
    "loaded_model.eval()\n",
    "total_y_pred_label = []\n",
    "total_y_true_label = []\n",
    "correct = 0\n",
    "for val_batch in val_dataloader:\n",
    "    val_batch = val_batch.to(device)\n",
    "    pred = loaded_model(val_batch).argmax(dim=1)\n",
    "    total_y_pred_label.extend(pred)\n",
    "    total_y_true_label.extend(val_batch.y)\n",
    "    correct += (pred == val_batch.y).sum()\n",
    "acc = int(correct) / len(val)\n",
    "print(f'Accuracy: {acc:.4f}')"
   ]
  },
  {
   "cell_type": "code",
   "execution_count": null,
   "metadata": {},
   "outputs": [],
   "source": [
    "SHAPE_NAMES = [0, 1,2,3,4,5]\n",
    "SHAPE_LABELS = [ 0, 1,2,3,4,\">4\"]\n",
    "total_y_pred = [pred_label.item() for pred_label in total_y_pred_label]\n",
    "total_y_true = [true_label.item() for true_label in total_y_true_label]\n",
    "cm = confusion_matrix(total_y_true, total_y_pred, labels=SHAPE_NAMES)\n",
    "# print(cm)\n",
    "cm = (cm.astype('float') / cm.sum(axis=1)[:, np.newaxis]) \n",
    "\n",
    "df_cm = pd.DataFrame(cm, index = SHAPE_LABELS,\n",
    "              columns = SHAPE_LABELS)\n",
    "plt.figure(figsize = (5,4))\n",
    "plot = sn.heatmap(df_cm, annot=True, cmap='Blues')\n",
    "figure = plot.get_figure()\n",
    "# plt.title(\"Confusion matrix\")\n",
    "plt.ylabel('True Label')\n",
    "plt.xlabel('Predicated Label')"
   ]
  },
  {
   "cell_type": "code",
   "execution_count": 55,
   "metadata": {},
   "outputs": [
    {
     "data": {
      "image/png": "[encoded data removed]",
      "text/plain": [
       "<Figure size 640x480 with 1 Axes>"
      ]
     },
     "metadata": {},
     "output_type": "display_data"
    }
   ],
   "source": [
    "data_points = np.array([d.y.item() for d in train_frame_graphs])\n",
    "zeros = len(np.where(data_points  == 0)[0])\n",
    "ones = len(np.where(data_points  == 1)[0])\n",
    "twos = len(np.where(data_points  == 2)[0])\n",
    "threes = len(np.where(data_points  == 3)[0]) \n",
    "fours = len(np.where(data_points  == 4)[0])\n",
    "fives = len(np.where(data_points  == 5)[0])\n",
    "\n",
    "labels = [0, 1,2,3,4,5]\n",
    "sample_num = [zeros, ones, twos, threes, fours, fives]\n",
    "p = plt.bar(labels, sample_num)\n",
    "plt.xlabel(\"Number of people\")\n",
    "plt.ylabel(\"Number of samples\")\n",
    "plt.bar_label(p)\n",
    "plt.show()"
   ]
  },
  {
   "cell_type": "code",
   "execution_count": 54,
   "metadata": {},
   "outputs": [
    {
     "data": {
      "image/png": "[encoded data removed]",
      "text/plain": [
       "<Figure size 640x480 with 1 Axes>"
      ]
     },
     "metadata": {},
     "output_type": "display_data"
    }
   ],
   "source": [
    "data_points = np.array([d.y.item() for d in test_frame_graphs])\n",
    "zeros = len(np.where(data_points  == 0)[0])\n",
    "ones = len(np.where(data_points  == 1)[0])\n",
    "twos = len(np.where(data_points  == 2)[0])\n",
    "threes = len(np.where(data_points  == 3)[0]) \n",
    "fours = len(np.where(data_points  == 4)[0])\n",
    "fives = len(np.where(data_points  == 5)[0])\n",
    "\n",
    "labels = [0, 1,2,3,4,5]\n",
    "sample_num = [zeros, ones, twos, threes, fours, fives]\n",
    "p = plt.bar(labels, sample_num)\n",
    "plt.xlabel(\"Number of people\")\n",
    "plt.ylabel(\"Number of samples\")\n",
    "plt.bar_label(p)\n",
    "plt.show()"
   ]
  },
  {
   "cell_type": "code",
   "execution_count": null,
   "metadata": {},
   "outputs": [],
   "source": []
  }
 ],
 "metadata": {
  "kernelspec": {
   "display_name": ".venv",
   "language": "python",
   "name": "python3"
  },
  "language_info": {
   "codemirror_mode": {
    "name": "ipython",
    "version": 3
   },
   "file_extension": ".py",
   "mimetype": "text/x-python",
   "name": "python",
   "nbconvert_exporter": "python",
   "pygments_lexer": "ipython3",
   "version": "3.10.12"
  }
 },
 "nbformat": 4,
 "nbformat_minor": 2
}
