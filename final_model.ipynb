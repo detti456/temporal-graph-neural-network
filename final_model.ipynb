{
 "cells": [
  {
   "cell_type": "code",
   "execution_count": 1,
   "metadata": {
    "ExecuteTime": {
     "end_time": "2024-06-10T10:50:10.937399Z",
     "start_time": "2024-06-10T10:50:08.693314Z"
    }
   },
   "outputs": [],
   "source": [
    "import random\n",
    "from importlib import reload\n",
    "import numpy as np\n",
    "import pandas as pd\n",
    "from sklearn.metrics import confusion_matrix\n",
    "from matplotlib import pyplot as plt\n",
    "import torch\n",
    "from torch_geometric.loader import DataLoader\n",
    "import torch.nn.functional as F\n",
    "import seaborn as sn\n",
    "import time\n",
    "import frame_loader as frame_loader\n",
    "import utils as utils\n",
    "import augmentation as augmentation\n",
    "import graph_neural_network"
   ]
  },
  {
   "cell_type": "markdown",
   "metadata": {},
   "source": [
    "#### Hyperparameters"
   ]
  },
  {
   "cell_type": "code",
   "execution_count": 2,
   "metadata": {
    "ExecuteTime": {
     "end_time": "2024-06-10T10:48:53.929349Z",
     "start_time": "2024-06-10T10:48:53.922557Z"
    }
   },
   "outputs": [],
   "source": [
    "device = torch.device('cuda' if torch.cuda.is_available() else 'cpu')\n",
    "reduced_cols = ['doppler','snr','x','y','current_frame','Label']\n",
    "column_names=['range','azimuth','doppler','snr','x','y','current_frame','seq', 'Label']\n",
    "selected_cols = ['doppler','snr','x','y']\n",
    "SHAPE_NAMES = [0,1,2,3,4, 5]\n",
    "frame_depths = [6] \n",
    "ks = [8]\n",
    "num_chunks = 16\n",
    "lr = 0.001\n",
    "max_epoch = 100\n",
    "size = 128\n",
    "split = 16\n",
    "EARLY_STOPPING_PATIENCE = 15\n",
    "train, val, test =[],[],[]"
   ]
  },
  {
   "cell_type": "markdown",
   "metadata": {},
   "source": [
    "#### Pre-processing pipeline"
   ]
  },
  {
   "cell_type": "code",
   "execution_count": 3,
   "metadata": {
    "ExecuteTime": {
     "end_time": "2024-06-10T10:49:01.277181Z",
     "start_time": "2024-06-10T10:49:00.982937Z"
    }
   },
   "outputs": [
    {
     "name": "stdout",
     "output_type": "stream",
     "text": [
      "File read\n",
      "Max features: [ 31.81039777 967.625       11.99514317   4.35285651]\n",
      "Min features: [ 0.12474666  3.5         0.42650005 -9.99815711]\n",
      "Total number of frames: 21282\n"
     ]
    }
   ],
   "source": [
    "try:\n",
    "    equal_point_frames = pd.read_csv(f\"data/frames_{size}points_all_varied.csv\", names=column_names, header=None, dtype=np.float64)\n",
    "    print(\"File read\")\n",
    "except Exception as e:\n",
    "    equal_point_frames = frame_loader.equal_frame_loader(column_names,size)\n",
    "    print(\"Frames generated\")\n",
    "\n",
    "# Normalize the data\n",
    "norm_frames = utils.min_max_normalization(equal_point_frames, selected_cols)\n",
    "\n",
    "# group the data by frame numbers\n",
    "all_data_grouped = norm_frames.groupby(\"current_frame\")\n",
    "print(\"Total number of frames: \"+str(len(all_data_grouped)))\n",
    "data_array = [frame.to_numpy() for (_, frame) in all_data_grouped]\n",
    "\n",
    "# Sort the data\n",
    "sorted_data = sorted(data_array,key=lambda x:x[:,4].max(axis=0))\n",
    "xy_dist = [x[:,2]+x[:,3] for x in sorted_data]\n",
    "xy_sort_index = [d.argsort() for d in xy_dist]\n",
    "xy_sorted = np.array([frame[xy_sort_index[i]] for i, frame in enumerate(sorted_data)])\n",
    "\n",
    "# Split the data\n",
    "train, val, test = utils.split_with_chunks(xy_sorted, SHAPE_NAMES, num_chunks, 0.15, 0.15)\n"
   ]
  },
  {
   "cell_type": "code",
   "execution_count": 4,
   "metadata": {},
   "outputs": [
    {
     "name": "stdout",
     "output_type": "stream",
     "text": [
      "Number of graphs generated with k = 8 and frame depth = 6 for type 0: 8605\n",
      "Number of graphs generated with k = 8 and frame depth = 6 for type 1: 1613\n",
      "Number of graphs generated with k = 8 and frame depth = 6 for type 2: 1588\n"
     ]
    }
   ],
   "source": [
    "reload(utils)\n",
    "# Create graphs for each sets with each hyperparameter combination\n",
    "train_graphs, val_graphs, test_graphs = utils.load_graphs(train, val, test, frame_depths, ks, selected_cols, \\\n",
    "                                                          num_chunks, size, split, device, descending=True)"
   ]
  },
  {
   "cell_type": "markdown",
   "metadata": {},
   "source": [
    "#### Data augmentation"
   ]
  },
  {
   "cell_type": "code",
   "execution_count": 6,
   "metadata": {},
   "outputs": [],
   "source": [
    "# augment with random graphs\n",
    "augmentation_transformer = augmentation.AugmentationTransformer(size)\n",
    "four_graph_loc = np.array([data.y.cpu() == 3 for data in train_graphs[0]])\n",
    "four_index = np.where(four_graph_loc)[0].tolist()\n",
    "four_graphs = [train_graphs[0][i] for i in four_index]\n",
    "\n",
    "bike_graph_loc = np.array([data.y.cpu() == 5 for data in train_graphs[0]])\n",
    "bike_index = np.where(bike_graph_loc)[0].tolist()\n",
    "bike_graphs = [train_graphs[0][i] for i in bike_index]\n",
    "\n",
    "indexes = np.arange(len(train_graphs[0])).tolist()\n",
    "random.seed(42)\n",
    "sample_train = random.sample(indexes, 1000)\n",
    "sample_train = [train_graphs[0][i] for i in sample_train]\n",
    "\n",
    "augmented_graphs = augmentation_transformer(sample_train)\n",
    "train_graphs[0].extend(augmented_graphs)\n",
    "\n",
    "# augment with random graphs from 4 people\n",
    "indexes = np.arange(len(four_graphs)).tolist()\n",
    "random.seed(42)\n",
    "sample_four = random.sample(indexes, 400)\n",
    "sample_four = [four_graphs[i] for i in sample_four]\n",
    "\n",
    "augmented_four = augmentation_transformer(sample_four)\n",
    "train_graphs[0].extend(augmented_four)\n",
    "\n",
    "# augment with random graphs from bikes\n",
    "indexes = np.arange(len(bike_graphs)).tolist()\n",
    "random.seed(42)\n",
    "sample_bike = random.sample(indexes, 100)\n",
    "sample_bike = [bike_graphs[i] for i in sample_bike]\n",
    "\n",
    "augmented_bike = augmentation_transformer(sample_bike)\n",
    "train_graphs[0].extend(augmented_bike)\n"
   ]
  },
  {
   "cell_type": "code",
   "execution_count": 8,
   "metadata": {
    "ExecuteTime": {
     "end_time": "2024-06-10T10:49:03.837703Z",
     "start_time": "2024-06-10T10:49:03.710512Z"
    }
   },
   "outputs": [],
   "source": [
    "train_dataloaders = []\n",
    "test_dataloaders = []\n",
    "val_dataloaders = []\n",
    "\n",
    "# Batch the sets\n",
    "for i in range(len(train_graphs)):\n",
    "    random.seed(42)\n",
    "    random.shuffle(train_graphs[i])\n",
    "    random.seed(42)\n",
    "    random.shuffle(test_graphs[i])\n",
    "    random.seed(42)\n",
    "    random.shuffle(val_graphs[i])\n",
    "    \n",
    "    train_dataloaders.append(DataLoader(train_graphs[i], batch_size=32, shuffle=True, num_workers = 0))\n",
    "    test_dataloaders.append(DataLoader(test_graphs[i], batch_size=32, shuffle=True, num_workers = 0))\n",
    "    val_dataloaders.append(DataLoader(val_graphs[i], batch_size=32, shuffle=True, num_workers = 0))\n"
   ]
  },
  {
   "cell_type": "markdown",
   "metadata": {},
   "source": [
    "#### Train the model"
   ]
  },
  {
   "cell_type": "code",
   "execution_count": 9,
   "metadata": {},
   "outputs": [],
   "source": [
    "reload(graph_neural_network)\n",
    "models = []\n",
    "\n",
    "for i, train_dataloader in enumerate(train_dataloaders):\n",
    "    val_accuracies = []\n",
    "    start_time = time.time()\n",
    "    k = ks[i % len(ks)]\n",
    "    model = graph_neural_network.Net(6, k=k).to(device)\n",
    "    optimizer = torch.optim.Adam(model.parameters(), lr=lr, weight_decay=5e-4)\n",
    "    scheduler = torch.optim.lr_scheduler.StepLR(optimizer, step_size=20, gamma=0.5)\n",
    "\n",
    "    best_acc = -1\n",
    "    losses = []\n",
    "    accuracies = []\n",
    "    for epoch in range(max_epoch):\n",
    "        correct = 0\n",
    "        count = 0\n",
    "        model.train()\n",
    "        for train_batch in train_dataloader:\n",
    "            train_batch = train_batch.to(device)\n",
    "            optimizer.zero_grad()\n",
    "            out = model(train_batch)\n",
    "            pred = out.argmax(dim=1)\n",
    "            correct += (pred == train_batch.y).sum()\n",
    "            loss = F.nll_loss(out, train_batch.y)\n",
    "            losses.append(loss.detach())\n",
    "            loss.backward()\n",
    "            optimizer.step()\n",
    "            count += len(train_batch)\n",
    "        acc = int(correct) / count\n",
    "        losses.append(loss.detach())\n",
    "        accuracies.append(acc)\n",
    "        scheduler.step()\n",
    "\n",
    "        model.eval()\n",
    "        val_correct = 0\n",
    "        for val_batch in val_dataloaders[i]:\n",
    "            val_batch = val_batch.to(device)\n",
    "            pred = model(val_batch).argmax(dim=1)\n",
    "            \n",
    "            val_correct += (pred == val_batch.y).sum()\n",
    "        val_acc = int(val_correct) / len(val_dataloaders[i].dataset)\n",
    "        val_accuracies.append(val_acc)\n",
    "\n",
    "        if val_acc > best_acc:\n",
    "            best_acc = val_acc\n",
    "            \n",
    "            last_improvement = 0\n",
    "        else:\n",
    "            last_improvement += 1\n",
    "\n",
    "        if last_improvement > EARLY_STOPPING_PATIENCE:\n",
    "            break\n",
    "    \n",
    "    models.append(model)\n",
    "    torch.save(model, f\"data/trained_model_k{k}_frame_depth{frame_depths[int(i/len(ks))]}_normalized_extended_chunk{num_chunks}.pt\")\n",
    "    losses = [tensor.cpu().numpy() for tensor in losses]\n",
    "    print(f\"trained: {i}\")\n",
    "\n",
    "    plt.plot(accuracies, label = \"train\")\n",
    "    plt.plot(val_accuracies, label = \"validation\")\n",
    "    plt.title(f\"Accuracy of the model with k = {ks[i % len(ks)]} and frame depth = {frame_depths[int(i/len(ks))]}\")\n",
    "    plt.ylabel(\"Accuracy\")\n",
    "    plt.xlabel(\"Epoch\")\n",
    "    plt.ylim(0,1)\n",
    "    plt.legend() \n",
    "    plt.show()\n",
    "\n",
    "    plt.plot(losses)\n",
    "    plt.title(f\"Loss of the model with k = {ks[i % len(ks)]} and frame depth = {frame_depths[int(i/len(ks))]}\")\n",
    "    plt.ylabel(\"Loss\")\n",
    "    plt.xlabel(\"Epoch\")\n",
    "    plt.show()\n",
    "\n",
    "    print(\"Training accuracy: \"+str(accuracies[-1]))\n",
    "    print(\"Training loss: \"+str(losses[-1]))\n",
    "    \n",
    "    print(f'Accuracy of the model with k = {ks[i % len(ks)]} and frame depth = {frame_depths[int(i/len(ks))]}: {val_accuracies[-1]:.4f}')\n",
    "    print(\"--- %s seconds ---\" % (time.time() - start_time))\n",
    "    print(f\"evaluated: {i}\")"
   ]
  },
  {
   "cell_type": "markdown",
   "metadata": {},
   "source": [
    "#### Evaluate the model on the test set"
   ]
  },
  {
   "cell_type": "code",
   "execution_count": 11,
   "metadata": {},
   "outputs": [
    {
     "name": "stdout",
     "output_type": "stream",
     "text": [
      "Accuracy of the model with k = 2 and frame depth = 4: 0.7768\n"
     ]
    }
   ],
   "source": [
    "model.eval()\n",
    "total_y_pred_label = []\n",
    "total_y_true_label = []\n",
    "correct = 0\n",
    "for test_batch in test_dataloaders[i]:\n",
    "    test_batch = test_batch.to(device)\n",
    "    pred = model(test_batch).argmax(dim=1)\n",
    "    \n",
    "    total_y_pred_label.extend(pred)\n",
    "    total_y_true_label.extend(test_batch.y)\n",
    "    \n",
    "    correct += (pred == test_batch.y).sum()\n",
    "acc = int(correct) / len(test_graphs[i])\n",
    "print(f'Accuracy of the model with k = {ks[i % len(ks)]} and frame depth = {frame_depths[int(i/len(ks))]}: {acc:.4f}')"
   ]
  },
  {
   "cell_type": "markdown",
   "metadata": {},
   "source": [
    "#### Confusion matrix"
   ]
  },
  {
   "cell_type": "code",
   "execution_count": 12,
   "metadata": {},
   "outputs": [
    {
     "name": "stderr",
     "output_type": "stream",
     "text": [
      "/tmp/ipykernel_758271/2461249739.py:5: RuntimeWarning: invalid value encountered in divide\n",
      "  cm = (cm.astype('float') / cm.sum(axis=1)[:, np.newaxis])\n"
     ]
    },
    {
     "data": {
      "text/plain": [
       "Text(0.5, 14.722222222222216, 'Predicated Label')"
      ]
     },
     "execution_count": 12,
     "metadata": {},
     "output_type": "execute_result"
    },
    {
     "data": {
      "image/png": "[encoded data removed]",
      "text/plain": [
       "<Figure size 500x400 with 2 Axes>"
      ]
     },
     "metadata": {},
     "output_type": "display_data"
    }
   ],
   "source": [
    "SHAPE_LABELS = [1,2,3,4,5,\"bikes\"]\n",
    "total_y_pred = [pred_label.item() for pred_label in total_y_pred_label]\n",
    "total_y_true = [true_label.item() for true_label in total_y_true_label]\n",
    "cm = confusion_matrix(total_y_true, total_y_pred, labels=SHAPE_NAMES)\n",
    "cm = (cm.astype('float') / cm.sum(axis=1)[:, np.newaxis]) \n",
    "\n",
    "df_cm = pd.DataFrame(cm, index = SHAPE_LABELS,\n",
    "              columns = SHAPE_LABELS)\n",
    "plt.figure(figsize = (5,4))\n",
    "plot = sn.heatmap(df_cm, annot=True, cmap='Blues')\n",
    "figure = plot.get_figure()\n",
    "plt.title(\"Confusion matrix\")\n",
    "plt.ylabel('True Label')\n",
    "plt.xlabel('Predicated Label')"
   ]
  },
  {
   "cell_type": "markdown",
   "metadata": {},
   "source": [
    "#### Distribution of the train data"
   ]
  },
  {
   "cell_type": "code",
   "execution_count": 7,
   "metadata": {},
   "outputs": [
    {
     "data": {
      "image/png": "[encoded data removed]",
      "text/plain": [
       "<Figure size 640x480 with 1 Axes>"
      ]
     },
     "metadata": {},
     "output_type": "display_data"
    }
   ],
   "source": [
    "data_points = np.array([d.y.item() for d in train_graphs[0]])\n",
    "zeros = len(np.where(data_points  == 0)[0])\n",
    "ones = len(np.where(data_points  == 1)[0])\n",
    "twos = len(np.where(data_points  == 2)[0])\n",
    "threes = len(np.where(data_points  == 3)[0]) \n",
    "fours = len(np.where(data_points  == 4)[0])\n",
    "bikes = len(np.where(data_points  == 5)[0])\n",
    "\n",
    "labels = [1,2,3,4,5, 6]\n",
    "sample_num = [zeros, ones, twos, threes, fours,bikes]\n",
    "p = plt.bar(labels, sample_num)\n",
    "plt.xlabel(\"Number of people\")\n",
    "plt.ylabel(\"Number of samples\")\n",
    "plt.bar_label(p)\n",
    "plt.show()"
   ]
  }
 ],
 "metadata": {
  "kernelspec": {
   "display_name": "Python 3 (ipykernel)",
   "language": "python",
   "name": "python3"
  },
  "language_info": {
   "codemirror_mode": {
    "name": "ipython",
    "version": 3
   },
   "file_extension": ".py",
   "mimetype": "text/x-python",
   "name": "python",
   "nbconvert_exporter": "python",
   "pygments_lexer": "ipython3",
   "version": "3.10.12"
  }
 },
 "nbformat": 4,
 "nbformat_minor": 2
}
